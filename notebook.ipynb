{
 "cells": [
  {
   "cell_type": "code",
   "execution_count": 159,
   "id": "a6ba58d6",
   "metadata": {},
   "outputs": [],
   "source": [
    "import pandas as pd\n",
    "import plotly.express as px\n",
    "\n",
    "# Load the dataset\n",
    "df = pd.read_csv(\"df.csv\", parse_dates=[\"Date\"])\n",
    "\n",
    "# Sort for consistent visual order\n",
    "df.sort_values(by=['Date', 'Product'], inplace=True)\n"
   ]
  },
  {
   "cell_type": "code",
   "execution_count": 160,
   "id": "9d275125",
   "metadata": {},
   "outputs": [
    {
     "data": {
      "text/html": [
       "<div>\n",
       "<style scoped>\n",
       "    .dataframe tbody tr th:only-of-type {\n",
       "        vertical-align: middle;\n",
       "    }\n",
       "\n",
       "    .dataframe tbody tr th {\n",
       "        vertical-align: top;\n",
       "    }\n",
       "\n",
       "    .dataframe thead th {\n",
       "        text-align: right;\n",
       "    }\n",
       "</style>\n",
       "<table border=\"1\" class=\"dataframe\">\n",
       "  <thead>\n",
       "    <tr style=\"text-align: right;\">\n",
       "      <th></th>\n",
       "      <th>Unnamed: 0</th>\n",
       "      <th>Date</th>\n",
       "      <th>Product</th>\n",
       "      <th>Units_Produced</th>\n",
       "      <th>Shift</th>\n",
       "      <th>Shift_Seq</th>\n",
       "      <th>Shift_Label</th>\n",
       "      <th>Shift_Code</th>\n",
       "      <th>Date_Shift_Label</th>\n",
       "    </tr>\n",
       "  </thead>\n",
       "  <tbody>\n",
       "    <tr>\n",
       "      <th>0</th>\n",
       "      <td>2</td>\n",
       "      <td>2024-10-01</td>\n",
       "      <td>A</td>\n",
       "      <td>274</td>\n",
       "      <td>Morning</td>\n",
       "      <td>1</td>\n",
       "      <td>Morning 1</td>\n",
       "      <td>1</td>\n",
       "      <td>01-Oct Morning 1</td>\n",
       "    </tr>\n",
       "    <tr>\n",
       "      <th>1</th>\n",
       "      <td>3</td>\n",
       "      <td>2024-10-01</td>\n",
       "      <td>A</td>\n",
       "      <td>369</td>\n",
       "      <td>Morning</td>\n",
       "      <td>2</td>\n",
       "      <td>Morning 2</td>\n",
       "      <td>1</td>\n",
       "      <td>01-Oct Morning 2</td>\n",
       "    </tr>\n",
       "    <tr>\n",
       "      <th>2</th>\n",
       "      <td>6</td>\n",
       "      <td>2024-10-01</td>\n",
       "      <td>A</td>\n",
       "      <td>209</td>\n",
       "      <td>Morning</td>\n",
       "      <td>3</td>\n",
       "      <td>Morning 3</td>\n",
       "      <td>1</td>\n",
       "      <td>01-Oct Morning 3</td>\n",
       "    </tr>\n",
       "    <tr>\n",
       "      <th>3</th>\n",
       "      <td>10</td>\n",
       "      <td>2024-10-01</td>\n",
       "      <td>A</td>\n",
       "      <td>356</td>\n",
       "      <td>Morning</td>\n",
       "      <td>4</td>\n",
       "      <td>Morning 4</td>\n",
       "      <td>1</td>\n",
       "      <td>01-Oct Morning 4</td>\n",
       "    </tr>\n",
       "    <tr>\n",
       "      <th>4</th>\n",
       "      <td>14</td>\n",
       "      <td>2024-10-01</td>\n",
       "      <td>A</td>\n",
       "      <td>598</td>\n",
       "      <td>Morning</td>\n",
       "      <td>5</td>\n",
       "      <td>Morning 5</td>\n",
       "      <td>1</td>\n",
       "      <td>01-Oct Morning 5</td>\n",
       "    </tr>\n",
       "    <tr>\n",
       "      <th>...</th>\n",
       "      <td>...</td>\n",
       "      <td>...</td>\n",
       "      <td>...</td>\n",
       "      <td>...</td>\n",
       "      <td>...</td>\n",
       "      <td>...</td>\n",
       "      <td>...</td>\n",
       "      <td>...</td>\n",
       "      <td>...</td>\n",
       "    </tr>\n",
       "    <tr>\n",
       "      <th>495</th>\n",
       "      <td>494</td>\n",
       "      <td>2024-10-31</td>\n",
       "      <td>C</td>\n",
       "      <td>330</td>\n",
       "      <td>Morning</td>\n",
       "      <td>2</td>\n",
       "      <td>Morning 2</td>\n",
       "      <td>1</td>\n",
       "      <td>31-Oct Morning 2</td>\n",
       "    </tr>\n",
       "    <tr>\n",
       "      <th>496</th>\n",
       "      <td>497</td>\n",
       "      <td>2024-10-31</td>\n",
       "      <td>C</td>\n",
       "      <td>564</td>\n",
       "      <td>Evening</td>\n",
       "      <td>1</td>\n",
       "      <td>Evening 1</td>\n",
       "      <td>2</td>\n",
       "      <td>31-Oct Evening 1</td>\n",
       "    </tr>\n",
       "    <tr>\n",
       "      <th>497</th>\n",
       "      <td>498</td>\n",
       "      <td>2024-10-31</td>\n",
       "      <td>C</td>\n",
       "      <td>471</td>\n",
       "      <td>Evening</td>\n",
       "      <td>2</td>\n",
       "      <td>Evening 2</td>\n",
       "      <td>2</td>\n",
       "      <td>31-Oct Evening 2</td>\n",
       "    </tr>\n",
       "    <tr>\n",
       "      <th>498</th>\n",
       "      <td>492</td>\n",
       "      <td>2024-10-31</td>\n",
       "      <td>C</td>\n",
       "      <td>141</td>\n",
       "      <td>Night</td>\n",
       "      <td>1</td>\n",
       "      <td>Night 1</td>\n",
       "      <td>3</td>\n",
       "      <td>31-Oct Night 1</td>\n",
       "    </tr>\n",
       "    <tr>\n",
       "      <th>499</th>\n",
       "      <td>495</td>\n",
       "      <td>2024-10-31</td>\n",
       "      <td>C</td>\n",
       "      <td>574</td>\n",
       "      <td>Night</td>\n",
       "      <td>2</td>\n",
       "      <td>Night 2</td>\n",
       "      <td>3</td>\n",
       "      <td>31-Oct Night 2</td>\n",
       "    </tr>\n",
       "  </tbody>\n",
       "</table>\n",
       "<p>500 rows × 9 columns</p>\n",
       "</div>"
      ],
      "text/plain": [
       "     Unnamed: 0       Date Product  Units_Produced    Shift  Shift_Seq  \\\n",
       "0             2 2024-10-01       A             274  Morning          1   \n",
       "1             3 2024-10-01       A             369  Morning          2   \n",
       "2             6 2024-10-01       A             209  Morning          3   \n",
       "3            10 2024-10-01       A             356  Morning          4   \n",
       "4            14 2024-10-01       A             598  Morning          5   \n",
       "..          ...        ...     ...             ...      ...        ...   \n",
       "495         494 2024-10-31       C             330  Morning          2   \n",
       "496         497 2024-10-31       C             564  Evening          1   \n",
       "497         498 2024-10-31       C             471  Evening          2   \n",
       "498         492 2024-10-31       C             141    Night          1   \n",
       "499         495 2024-10-31       C             574    Night          2   \n",
       "\n",
       "    Shift_Label  Shift_Code  Date_Shift_Label  \n",
       "0     Morning 1           1  01-Oct Morning 1  \n",
       "1     Morning 2           1  01-Oct Morning 2  \n",
       "2     Morning 3           1  01-Oct Morning 3  \n",
       "3     Morning 4           1  01-Oct Morning 4  \n",
       "4     Morning 5           1  01-Oct Morning 5  \n",
       "..          ...         ...               ...  \n",
       "495   Morning 2           1  31-Oct Morning 2  \n",
       "496   Evening 1           2  31-Oct Evening 1  \n",
       "497   Evening 2           2  31-Oct Evening 2  \n",
       "498     Night 1           3    31-Oct Night 1  \n",
       "499     Night 2           3    31-Oct Night 2  \n",
       "\n",
       "[500 rows x 9 columns]"
      ]
     },
     "execution_count": 160,
     "metadata": {},
     "output_type": "execute_result"
    }
   ],
   "source": [
    "### \n",
    "\n",
    "df['Shift_Seq'] = df.groupby(['Date', 'Product', 'Shift']).cumcount() + 1\n",
    "df['Shift_Label'] = df['Shift'] + ' ' + df['Shift_Seq'].astype(str)\n",
    "df.head(25)\n",
    "\n",
    "# Map shift names to a custom order\n",
    "shift_order = {'Morning': 1, 'Evening': 2, 'Night': 3}\n",
    "df['Shift_Code'] = df['Shift'].map(shift_order)\n",
    "\n",
    "# Now sort by Date, Product, Shift_Code, Shift_Seq\n",
    "df1 = df.sort_values(['Date', 'Product', 'Shift_Code', 'Shift_Seq']).reset_index(drop=True)\n",
    "\n",
    "# If you want to plot, use this sorted df1\n",
    "df1['Date_Shift_Label'] = df1['Date'].dt.strftime('%d-%b') + ' ' + df1['Shift_Label'].astype(str)\n",
    "df1['Date_Shift_Label'] = pd.Categorical(df1['Date_Shift_Label'], categories=df1['Date_Shift_Label'].unique(), ordered=True)\n",
    "\n",
    "df1\n"
   ]
  },
  {
   "cell_type": "code",
   "execution_count": 161,
   "id": "dec13ca7",
   "metadata": {},
   "outputs": [],
   "source": [
    "df1_A = df1[df1['Product'] == 'A'].copy()\n",
    "df1_B = df1[df1['Product'] == 'B'].copy()\n",
    "df1_C = df1[df1['Product'] == 'C'].copy()"
   ]
  },
  {
   "cell_type": "code",
   "execution_count": 162,
   "id": "2dfcb2bc",
   "metadata": {},
   "outputs": [
    {
     "data": {
      "application/vnd.plotly.v1+json": {
       "config": {
        "plotlyServerURL": "https://plot.ly"
       },
       "data": [
        {
         "customdata": [
          [
           "Morning 1"
          ],
          [
           "Morning 2"
          ],
          [
           "Morning 3"
          ],
          [
           "Morning 4"
          ],
          [
           "Morning 5"
          ],
          [
           "Morning 6"
          ],
          [
           "Evening 1"
          ],
          [
           "Night 1"
          ],
          [
           "Night 2"
          ],
          [
           "Night 3"
          ],
          [
           "Night 4"
          ],
          [
           "Morning 1"
          ],
          [
           "Morning 2"
          ],
          [
           "Morning 3"
          ],
          [
           "Evening 1"
          ],
          [
           "Evening 2"
          ],
          [
           "Evening 3"
          ],
          [
           "Evening 4"
          ],
          [
           "Night 1"
          ],
          [
           "Night 2"
          ],
          [
           "Morning 1"
          ],
          [
           "Night 1"
          ],
          [
           "Night 2"
          ],
          [
           "Night 3"
          ],
          [
           "Morning 1"
          ],
          [
           "Morning 2"
          ],
          [
           "Evening 1"
          ],
          [
           "Night 1"
          ],
          [
           "Night 2"
          ],
          [
           "Morning 1"
          ],
          [
           "Morning 2"
          ],
          [
           "Evening 1"
          ],
          [
           "Evening 2"
          ],
          [
           "Evening 3"
          ],
          [
           "Night 1"
          ],
          [
           "Night 2"
          ],
          [
           "Night 3"
          ],
          [
           "Morning 1"
          ],
          [
           "Morning 2"
          ],
          [
           "Evening 1"
          ],
          [
           "Night 1"
          ],
          [
           "Morning 1"
          ],
          [
           "Night 1"
          ],
          [
           "Night 2"
          ],
          [
           "Night 3"
          ],
          [
           "Morning 1"
          ],
          [
           "Morning 2"
          ],
          [
           "Morning 3"
          ],
          [
           "Evening 1"
          ],
          [
           "Evening 2"
          ],
          [
           "Night 1"
          ],
          [
           "Night 2"
          ],
          [
           "Morning 1"
          ],
          [
           "Morning 2"
          ],
          [
           "Evening 1"
          ],
          [
           "Evening 2"
          ],
          [
           "Evening 3"
          ],
          [
           "Evening 1"
          ],
          [
           "Evening 2"
          ],
          [
           "Night 1"
          ],
          [
           "Night 2"
          ],
          [
           "Morning 1"
          ],
          [
           "Evening 1"
          ],
          [
           "Night 1"
          ],
          [
           "Night 2"
          ],
          [
           "Morning 1"
          ],
          [
           "Evening 1"
          ],
          [
           "Morning 1"
          ],
          [
           "Morning 2"
          ],
          [
           "Evening 1"
          ],
          [
           "Evening 2"
          ],
          [
           "Night 1"
          ],
          [
           "Morning 1"
          ],
          [
           "Evening 1"
          ],
          [
           "Evening 2"
          ],
          [
           "Night 1"
          ],
          [
           "Evening 1"
          ],
          [
           "Night 1"
          ],
          [
           "Night 2"
          ],
          [
           "Night 3"
          ],
          [
           "Morning 1"
          ],
          [
           "Morning 2"
          ],
          [
           "Morning 3"
          ],
          [
           "Morning 4"
          ],
          [
           "Morning 5"
          ],
          [
           "Morning 6"
          ],
          [
           "Evening 1"
          ],
          [
           "Evening 2"
          ],
          [
           "Evening 3"
          ],
          [
           "Night 1"
          ],
          [
           "Night 2"
          ],
          [
           "Night 3"
          ],
          [
           "Night 4"
          ],
          [
           "Morning 1"
          ],
          [
           "Morning 2"
          ],
          [
           "Evening 1"
          ],
          [
           "Evening 2"
          ],
          [
           "Evening 3"
          ],
          [
           "Morning 1"
          ],
          [
           "Evening 1"
          ],
          [
           "Evening 2"
          ],
          [
           "Night 1"
          ],
          [
           "Morning 1"
          ],
          [
           "Evening 1"
          ],
          [
           "Night 1"
          ],
          [
           "Night 2"
          ],
          [
           "Night 3"
          ],
          [
           "Morning 1"
          ],
          [
           "Morning 2"
          ],
          [
           "Morning 3"
          ],
          [
           "Evening 1"
          ],
          [
           "Night 1"
          ],
          [
           "Morning 1"
          ],
          [
           "Morning 2"
          ],
          [
           "Morning 3"
          ],
          [
           "Evening 1"
          ],
          [
           "Evening 2"
          ],
          [
           "Night 1"
          ],
          [
           "Night 2"
          ],
          [
           "Morning 1"
          ],
          [
           "Morning 2"
          ],
          [
           "Morning 3"
          ],
          [
           "Morning 4"
          ],
          [
           "Night 1"
          ],
          [
           "Night 2"
          ],
          [
           "Night 3"
          ],
          [
           "Night 4"
          ],
          [
           "Night 5"
          ],
          [
           "Night 6"
          ],
          [
           "Morning 1"
          ],
          [
           "Morning 2"
          ],
          [
           "Evening 1"
          ],
          [
           "Evening 2"
          ],
          [
           "Evening 3"
          ],
          [
           "Evening 4"
          ],
          [
           "Morning 1"
          ],
          [
           "Morning 2"
          ],
          [
           "Morning 3"
          ],
          [
           "Evening 1"
          ],
          [
           "Night 1"
          ],
          [
           "Morning 1"
          ],
          [
           "Morning 2"
          ],
          [
           "Morning 3"
          ],
          [
           "Evening 1"
          ],
          [
           "Evening 2"
          ],
          [
           "Night 1"
          ],
          [
           "Night 2"
          ],
          [
           "Morning 1"
          ],
          [
           "Morning 2"
          ],
          [
           "Morning 3"
          ],
          [
           "Morning 4"
          ],
          [
           "Evening 1"
          ],
          [
           "Evening 2"
          ],
          [
           "Evening 3"
          ],
          [
           "Night 1"
          ],
          [
           "Night 2"
          ],
          [
           "Night 3"
          ],
          [
           "Morning 1"
          ],
          [
           "Evening 1"
          ],
          [
           "Evening 2"
          ],
          [
           "Night 1"
          ],
          [
           "Morning 1"
          ],
          [
           "Morning 2"
          ],
          [
           "Morning 3"
          ],
          [
           "Morning 4"
          ],
          [
           "Evening 1"
          ],
          [
           "Evening 2"
          ],
          [
           "Night 1"
          ],
          [
           "Night 2"
          ],
          [
           "Morning 1"
          ],
          [
           "Night 1"
          ],
          [
           "Night 2"
          ],
          [
           "Night 3"
          ],
          [
           "Morning 1"
          ],
          [
           "Morning 2"
          ],
          [
           "Morning 3"
          ],
          [
           "Morning 4"
          ],
          [
           "Evening 1"
          ],
          [
           "Evening 2"
          ],
          [
           "Night 1"
          ],
          [
           "Night 2"
          ],
          [
           "Night 3"
          ],
          [
           "Night 4"
          ],
          [
           "Morning 1"
          ],
          [
           "Morning 2"
          ],
          [
           "Morning 3"
          ],
          [
           "Morning 4"
          ],
          [
           "Morning 5"
          ],
          [
           "Night 1"
          ],
          [
           "Night 2"
          ]
         ],
         "hovertemplate": "Date=%{x}<br>Units_Produced=%{y}<br>Shift_Label=%{customdata[0]}",
         "legendgroup": "",
         "line": {
          "color": "#000001",
          "dash": "solid"
         },
         "marker": {
          "symbol": "circle"
         },
         "mode": "markers+lines",
         "name": "",
         "orientation": "v",
         "showlegend": false,
         "type": "scatter",
         "x": [
          "01-Oct Morning 1",
          "01-Oct Morning 2",
          "01-Oct Morning 3",
          "01-Oct Morning 4",
          "01-Oct Morning 5",
          "01-Oct Morning 6",
          "01-Oct Evening 1",
          "01-Oct Night 1",
          "01-Oct Night 2",
          "01-Oct Night 3",
          "01-Oct Night 4",
          "02-Oct Morning 1",
          "02-Oct Morning 2",
          "02-Oct Morning 3",
          "02-Oct Evening 1",
          "02-Oct Evening 2",
          "02-Oct Evening 3",
          "02-Oct Evening 4",
          "02-Oct Night 1",
          "02-Oct Night 2",
          "03-Oct Morning 1",
          "03-Oct Night 1",
          "03-Oct Night 2",
          "03-Oct Night 3",
          "04-Oct Morning 1",
          "04-Oct Morning 2",
          "04-Oct Evening 1",
          "04-Oct Night 1",
          "04-Oct Night 2",
          "05-Oct Morning 1",
          "05-Oct Morning 2",
          "05-Oct Evening 1",
          "05-Oct Evening 2",
          "05-Oct Evening 3",
          "05-Oct Night 1",
          "05-Oct Night 2",
          "05-Oct Night 3",
          "06-Oct Morning 1",
          "06-Oct Morning 2",
          "06-Oct Evening 1",
          "06-Oct Night 1",
          "07-Oct Morning 1",
          "07-Oct Night 1",
          "07-Oct Night 2",
          "07-Oct Night 3",
          "08-Oct Morning 1",
          "08-Oct Morning 2",
          "08-Oct Morning 3",
          "08-Oct Evening 1",
          "08-Oct Evening 2",
          "08-Oct Night 1",
          "08-Oct Night 2",
          "09-Oct Morning 1",
          "09-Oct Morning 2",
          "09-Oct Evening 1",
          "09-Oct Evening 2",
          "09-Oct Evening 3",
          "10-Oct Evening 1",
          "10-Oct Evening 2",
          "10-Oct Night 1",
          "10-Oct Night 2",
          "11-Oct Morning 1",
          "11-Oct Evening 1",
          "11-Oct Night 1",
          "11-Oct Night 2",
          "12-Oct Morning 1",
          "12-Oct Evening 1",
          "13-Oct Morning 1",
          "13-Oct Morning 2",
          "13-Oct Evening 1",
          "13-Oct Evening 2",
          "13-Oct Night 1",
          "14-Oct Morning 1",
          "14-Oct Evening 1",
          "14-Oct Evening 2",
          "14-Oct Night 1",
          "15-Oct Evening 1",
          "15-Oct Night 1",
          "15-Oct Night 2",
          "15-Oct Night 3",
          "16-Oct Morning 1",
          "16-Oct Morning 2",
          "16-Oct Morning 3",
          "16-Oct Morning 4",
          "16-Oct Morning 5",
          "16-Oct Morning 6",
          "16-Oct Evening 1",
          "16-Oct Evening 2",
          "16-Oct Evening 3",
          "16-Oct Night 1",
          "16-Oct Night 2",
          "16-Oct Night 3",
          "16-Oct Night 4",
          "17-Oct Morning 1",
          "17-Oct Morning 2",
          "17-Oct Evening 1",
          "17-Oct Evening 2",
          "17-Oct Evening 3",
          "18-Oct Morning 1",
          "18-Oct Evening 1",
          "18-Oct Evening 2",
          "18-Oct Night 1",
          "19-Oct Morning 1",
          "19-Oct Evening 1",
          "19-Oct Night 1",
          "19-Oct Night 2",
          "19-Oct Night 3",
          "20-Oct Morning 1",
          "20-Oct Morning 2",
          "20-Oct Morning 3",
          "20-Oct Evening 1",
          "20-Oct Night 1",
          "21-Oct Morning 1",
          "21-Oct Morning 2",
          "21-Oct Morning 3",
          "21-Oct Evening 1",
          "21-Oct Evening 2",
          "21-Oct Night 1",
          "21-Oct Night 2",
          "22-Oct Morning 1",
          "22-Oct Morning 2",
          "22-Oct Morning 3",
          "22-Oct Morning 4",
          "22-Oct Night 1",
          "22-Oct Night 2",
          "22-Oct Night 3",
          "22-Oct Night 4",
          "22-Oct Night 5",
          "22-Oct Night 6",
          "23-Oct Morning 1",
          "23-Oct Morning 2",
          "23-Oct Evening 1",
          "23-Oct Evening 2",
          "23-Oct Evening 3",
          "23-Oct Evening 4",
          "24-Oct Morning 1",
          "24-Oct Morning 2",
          "24-Oct Morning 3",
          "24-Oct Evening 1",
          "24-Oct Night 1",
          "25-Oct Morning 1",
          "25-Oct Morning 2",
          "25-Oct Morning 3",
          "25-Oct Evening 1",
          "25-Oct Evening 2",
          "25-Oct Night 1",
          "25-Oct Night 2",
          "26-Oct Morning 1",
          "26-Oct Morning 2",
          "26-Oct Morning 3",
          "26-Oct Morning 4",
          "26-Oct Evening 1",
          "26-Oct Evening 2",
          "26-Oct Evening 3",
          "26-Oct Night 1",
          "26-Oct Night 2",
          "26-Oct Night 3",
          "27-Oct Morning 1",
          "27-Oct Evening 1",
          "27-Oct Evening 2",
          "27-Oct Night 1",
          "28-Oct Morning 1",
          "28-Oct Morning 2",
          "28-Oct Morning 3",
          "28-Oct Morning 4",
          "28-Oct Evening 1",
          "28-Oct Evening 2",
          "28-Oct Night 1",
          "28-Oct Night 2",
          "29-Oct Morning 1",
          "29-Oct Night 1",
          "29-Oct Night 2",
          "29-Oct Night 3",
          "30-Oct Morning 1",
          "30-Oct Morning 2",
          "30-Oct Morning 3",
          "30-Oct Morning 4",
          "30-Oct Evening 1",
          "30-Oct Evening 2",
          "30-Oct Night 1",
          "30-Oct Night 2",
          "30-Oct Night 3",
          "30-Oct Night 4",
          "31-Oct Morning 1",
          "31-Oct Morning 2",
          "31-Oct Morning 3",
          "31-Oct Morning 4",
          "31-Oct Morning 5",
          "31-Oct Night 1",
          "31-Oct Night 2"
         ],
         "xaxis": "x",
         "y": [
          274,
          369,
          209,
          356,
          598,
          402,
          51,
          436,
          476,
          140,
          118,
          312,
          21,
          285,
          113,
          289,
          485,
          113,
          379,
          109,
          420,
          503,
          513,
          459,
          361,
          558,
          344,
          261,
          89,
          474,
          23,
          508,
          22,
          292,
          159,
          320,
          550,
          231,
          55,
          518,
          476,
          350,
          229,
          244,
          253,
          167,
          88,
          182,
          40,
          441,
          223,
          334,
          134,
          210,
          243,
          595,
          242,
          297,
          500,
          455,
          117,
          475,
          388,
          322,
          380,
          579,
          477,
          63,
          128,
          202,
          148,
          229,
          283,
          252,
          1,
          327,
          318,
          431,
          458,
          53,
          467,
          593,
          326,
          15,
          470,
          13,
          15,
          561,
          574,
          287,
          526,
          347,
          34,
          365,
          472,
          28,
          47,
          236,
          118,
          291,
          161,
          419,
          157,
          29,
          350,
          144,
          41,
          321,
          222,
          78,
          588,
          407,
          69,
          218,
          462,
          401,
          532,
          422,
          254,
          78,
          113,
          405,
          500,
          175,
          111,
          280,
          398,
          296,
          359,
          435,
          126,
          378,
          86,
          504,
          554,
          96,
          244,
          394,
          78,
          95,
          424,
          171,
          229,
          410,
          84,
          4,
          158,
          98,
          180,
          19,
          406,
          256,
          194,
          582,
          168,
          243,
          346,
          425,
          28,
          391,
          411,
          377,
          228,
          7,
          231,
          411,
          87,
          225,
          356,
          270,
          179,
          259,
          320,
          51,
          130,
          225,
          153,
          441,
          588,
          363,
          1,
          289,
          165,
          111,
          113,
          436,
          477,
          407,
          237,
          227
         ],
         "yaxis": "y"
        }
       ],
       "layout": {
        "height": 500,
        "legend": {
         "tracegroupgap": 0
        },
        "template": {
         "data": {
          "candlestick": [
           {
            "decreasing": {
             "line": {
              "color": "#000033"
             }
            },
            "increasing": {
             "line": {
              "color": "#000032"
             }
            },
            "type": "candlestick"
           }
          ],
          "contour": [
           {
            "colorscale": [
             [
              0,
              "#000011"
             ],
             [
              0.1111111111111111,
              "#000012"
             ],
             [
              0.2222222222222222,
              "#000013"
             ],
             [
              0.3333333333333333,
              "#000014"
             ],
             [
              0.4444444444444444,
              "#000015"
             ],
             [
              0.5555555555555556,
              "#000016"
             ],
             [
              0.6666666666666666,
              "#000017"
             ],
             [
              0.7777777777777778,
              "#000018"
             ],
             [
              0.8888888888888888,
              "#000019"
             ],
             [
              1,
              "#000020"
             ]
            ],
            "type": "contour"
           }
          ],
          "contourcarpet": [
           {
            "colorscale": [
             [
              0,
              "#000011"
             ],
             [
              0.1111111111111111,
              "#000012"
             ],
             [
              0.2222222222222222,
              "#000013"
             ],
             [
              0.3333333333333333,
              "#000014"
             ],
             [
              0.4444444444444444,
              "#000015"
             ],
             [
              0.5555555555555556,
              "#000016"
             ],
             [
              0.6666666666666666,
              "#000017"
             ],
             [
              0.7777777777777778,
              "#000018"
             ],
             [
              0.8888888888888888,
              "#000019"
             ],
             [
              1,
              "#000020"
             ]
            ],
            "type": "contourcarpet"
           }
          ],
          "heatmap": [
           {
            "colorscale": [
             [
              0,
              "#000011"
             ],
             [
              0.1111111111111111,
              "#000012"
             ],
             [
              0.2222222222222222,
              "#000013"
             ],
             [
              0.3333333333333333,
              "#000014"
             ],
             [
              0.4444444444444444,
              "#000015"
             ],
             [
              0.5555555555555556,
              "#000016"
             ],
             [
              0.6666666666666666,
              "#000017"
             ],
             [
              0.7777777777777778,
              "#000018"
             ],
             [
              0.8888888888888888,
              "#000019"
             ],
             [
              1,
              "#000020"
             ]
            ],
            "type": "heatmap"
           }
          ],
          "histogram2d": [
           {
            "colorscale": [
             [
              0,
              "#000011"
             ],
             [
              0.1111111111111111,
              "#000012"
             ],
             [
              0.2222222222222222,
              "#000013"
             ],
             [
              0.3333333333333333,
              "#000014"
             ],
             [
              0.4444444444444444,
              "#000015"
             ],
             [
              0.5555555555555556,
              "#000016"
             ],
             [
              0.6666666666666666,
              "#000017"
             ],
             [
              0.7777777777777778,
              "#000018"
             ],
             [
              0.8888888888888888,
              "#000019"
             ],
             [
              1,
              "#000020"
             ]
            ],
            "type": "histogram2d"
           }
          ],
          "icicle": [
           {
            "textfont": {
             "color": "white"
            },
            "type": "icicle"
           }
          ],
          "sankey": [
           {
            "textfont": {
             "color": "#000036"
            },
            "type": "sankey"
           }
          ],
          "scatter": [
           {
            "marker": {
             "line": {
              "width": 0
             }
            },
            "type": "scatter"
           }
          ],
          "table": [
           {
            "cells": {
             "fill": {
              "color": "#000038"
             },
             "font": {
              "color": "#000037"
             },
             "line": {
              "color": "#000039"
             }
            },
            "header": {
             "fill": {
              "color": "#000040"
             },
             "font": {
              "color": "#000036"
             },
             "line": {
              "color": "#000039"
             }
            },
            "type": "table"
           }
          ],
          "waterfall": [
           {
            "connector": {
             "line": {
              "color": "#000036",
              "width": 2
             }
            },
            "decreasing": {
             "marker": {
              "color": "#000033"
             }
            },
            "increasing": {
             "marker": {
              "color": "#000032"
             }
            },
            "totals": {
             "marker": {
              "color": "#000034"
             }
            },
            "type": "waterfall"
           }
          ]
         },
         "layout": {
          "coloraxis": {
           "colorscale": [
            [
             0,
             "#000011"
            ],
            [
             0.1111111111111111,
             "#000012"
            ],
            [
             0.2222222222222222,
             "#000013"
            ],
            [
             0.3333333333333333,
             "#000014"
            ],
            [
             0.4444444444444444,
             "#000015"
            ],
            [
             0.5555555555555556,
             "#000016"
            ],
            [
             0.6666666666666666,
             "#000017"
            ],
            [
             0.7777777777777778,
             "#000018"
            ],
            [
             0.8888888888888888,
             "#000019"
            ],
            [
             1,
             "#000020"
            ]
           ]
          },
          "colorscale": {
           "diverging": [
            [
             0,
             "#000021"
            ],
            [
             0.1,
             "#000022"
            ],
            [
             0.2,
             "#000023"
            ],
            [
             0.3,
             "#000024"
            ],
            [
             0.4,
             "#000025"
            ],
            [
             0.5,
             "#000026"
            ],
            [
             0.6,
             "#000027"
            ],
            [
             0.7,
             "#000028"
            ],
            [
             0.8,
             "#000029"
            ],
            [
             0.9,
             "#000030"
            ],
            [
             1,
             "#000031"
            ]
           ],
           "sequential": [
            [
             0,
             "#000011"
            ],
            [
             0.1111111111111111,
             "#000012"
            ],
            [
             0.2222222222222222,
             "#000013"
            ],
            [
             0.3333333333333333,
             "#000014"
            ],
            [
             0.4444444444444444,
             "#000015"
            ],
            [
             0.5555555555555556,
             "#000016"
            ],
            [
             0.6666666666666666,
             "#000017"
            ],
            [
             0.7777777777777778,
             "#000018"
            ],
            [
             0.8888888888888888,
             "#000019"
            ],
            [
             1,
             "#000020"
            ]
           ],
           "sequentialminus": [
            [
             0,
             "#000011"
            ],
            [
             0.1111111111111111,
             "#000012"
            ],
            [
             0.2222222222222222,
             "#000013"
            ],
            [
             0.3333333333333333,
             "#000014"
            ],
            [
             0.4444444444444444,
             "#000015"
            ],
            [
             0.5555555555555556,
             "#000016"
            ],
            [
             0.6666666666666666,
             "#000017"
            ],
            [
             0.7777777777777778,
             "#000018"
            ],
            [
             0.8888888888888888,
             "#000019"
            ],
            [
             1,
             "#000020"
            ]
           ]
          },
          "colorway": [
           "#000001",
           "#000002",
           "#000003",
           "#000004",
           "#000005",
           "#000006",
           "#000007",
           "#000008",
           "#000009",
           "#000010"
          ]
         }
        },
        "title": {
         "text": "Units Produced for Product A by Date and Shift"
        },
        "width": 900,
        "xaxis": {
         "anchor": "y",
         "domain": [
          0,
          1
         ],
         "title": {
          "text": "Date_Shift_Label"
         }
        },
        "yaxis": {
         "anchor": "x",
         "domain": [
          0,
          1
         ],
         "title": {
          "text": "Units_Produced"
         }
        }
       }
      }
     },
     "metadata": {},
     "output_type": "display_data"
    }
   ],
   "source": [
    "# If you want to plot, use this sorted df1_A\n",
    "df1_A['Date_Shift_Label'] = df1_A['Date'].dt.strftime('%d-%b') + ' ' + df1_A['Shift_Label'].astype(str)\n",
    "df1_A['Date_Shift_Label'] = pd.Categorical(df1_A['Date_Shift_Label'], categories=df1_A['Date_Shift_Label'].unique(), ordered=True)\n",
    "\n",
    "df1_B['Date_Shift_Label'] = df1_B['Date'].dt.strftime('%d-%b') + ' ' + df1_B['Shift_Label'].astype(str)\n",
    "df1_B['Date_Shift_Label'] = pd.Categorical(df1_B['Date_Shift_Label'], categories=df1_B['Date_Shift_Label'].unique(), ordered=True)\n",
    "\n",
    "df1_C['Date_Shift_Label'] = df1_C['Date'].dt.strftime('%d-%b') + ' ' + df1_C['Shift_Label'].astype(str)\n",
    "df1_C['Date_Shift_Label'] = pd.Categorical(df1_C['Date_Shift_Label'], categories=df1_C['Date_Shift_Label'].unique(), ordered=True)\n",
    "\n",
    "\n",
    "fig_A = px.line(\n",
    "    df1_A,\n",
    "    x=\"Date_Shift_Label\",\n",
    "    y=\"Units_Produced\",\n",
    "    markers=True,\n",
    "    title=\"Units Produced for Product A by Date and Shift\",\n",
    "    hover_data=[\"Shift_Label\"]\n",
    ")\n",
    "fig_A.update_traces(mode=\"markers+lines\", hovertemplate=\"Date=%{x}<br>Units_Produced=%{y}<br>Shift_Label=%{customdata[0]}\")\n",
    "fig_A.update_layout(height=500, width=900)\n",
    "fig_A.show()\n"
   ]
  },
  {
   "cell_type": "code",
   "execution_count": 163,
   "id": "80c6fd41",
   "metadata": {},
   "outputs": [
    {
     "data": {
      "application/vnd.plotly.v1+json": {
       "config": {
        "plotlyServerURL": "https://plot.ly"
       },
       "data": [
        {
         "customdata": [
          [
           "Morning 1"
          ],
          [
           "Morning 2"
          ],
          [
           "Morning 3"
          ],
          [
           "Morning 4"
          ],
          [
           "Morning 5"
          ],
          [
           "Night 1"
          ],
          [
           "Night 2"
          ],
          [
           "Night 3"
          ],
          [
           "Morning 1"
          ],
          [
           "Evening 1"
          ],
          [
           "Night 1"
          ],
          [
           "Night 2"
          ],
          [
           "Morning 1"
          ],
          [
           "Evening 1"
          ],
          [
           "Evening 2"
          ],
          [
           "Evening 3"
          ],
          [
           "Night 1"
          ],
          [
           "Night 2"
          ],
          [
           "Night 3"
          ],
          [
           "Morning 1"
          ],
          [
           "Morning 2"
          ],
          [
           "Evening 1"
          ],
          [
           "Night 1"
          ],
          [
           "Night 2"
          ],
          [
           "Morning 1"
          ],
          [
           "Morning 2"
          ],
          [
           "Evening 1"
          ],
          [
           "Evening 2"
          ],
          [
           "Night 1"
          ],
          [
           "Night 2"
          ],
          [
           "Night 3"
          ],
          [
           "Morning 1"
          ],
          [
           "Evening 1"
          ],
          [
           "Evening 2"
          ],
          [
           "Night 1"
          ],
          [
           "Morning 1"
          ],
          [
           "Morning 2"
          ],
          [
           "Evening 1"
          ],
          [
           "Evening 2"
          ],
          [
           "Evening 3"
          ],
          [
           "Morning 1"
          ],
          [
           "Morning 2"
          ],
          [
           "Evening 1"
          ],
          [
           "Evening 2"
          ],
          [
           "Night 1"
          ],
          [
           "Morning 1"
          ],
          [
           "Evening 1"
          ],
          [
           "Morning 1"
          ],
          [
           "Morning 2"
          ],
          [
           "Evening 1"
          ],
          [
           "Evening 2"
          ],
          [
           "Evening 1"
          ],
          [
           "Evening 2"
          ],
          [
           "Night 1"
          ],
          [
           "Evening 1"
          ],
          [
           "Evening 2"
          ],
          [
           "Night 1"
          ],
          [
           "Night 2"
          ],
          [
           "Night 3"
          ],
          [
           "Evening 1"
          ],
          [
           "Morning 1"
          ],
          [
           "Morning 2"
          ],
          [
           "Morning 3"
          ],
          [
           "Night 1"
          ],
          [
           "Morning 1"
          ],
          [
           "Evening 1"
          ],
          [
           "Evening 2"
          ],
          [
           "Morning 1"
          ],
          [
           "Morning 2"
          ],
          [
           "Morning 3"
          ],
          [
           "Morning 4"
          ],
          [
           "Evening 1"
          ],
          [
           "Night 1"
          ],
          [
           "Morning 1"
          ],
          [
           "Evening 1"
          ],
          [
           "Night 1"
          ],
          [
           "Night 2"
          ],
          [
           "Night 3"
          ],
          [
           "Morning 1"
          ],
          [
           "Morning 2"
          ],
          [
           "Night 1"
          ],
          [
           "Morning 1"
          ],
          [
           "Morning 2"
          ],
          [
           "Morning 3"
          ],
          [
           "Evening 1"
          ],
          [
           "Night 1"
          ],
          [
           "Night 2"
          ],
          [
           "Night 3"
          ],
          [
           "Night 4"
          ],
          [
           "Morning 1"
          ],
          [
           "Morning 2"
          ],
          [
           "Evening 1"
          ],
          [
           "Evening 2"
          ],
          [
           "Evening 3"
          ],
          [
           "Evening 4"
          ],
          [
           "Night 1"
          ],
          [
           "Night 2"
          ],
          [
           "Evening 1"
          ],
          [
           "Evening 2"
          ],
          [
           "Evening 3"
          ],
          [
           "Night 1"
          ],
          [
           "Night 2"
          ],
          [
           "Morning 1"
          ],
          [
           "Morning 2"
          ],
          [
           "Morning 3"
          ],
          [
           "Night 1"
          ],
          [
           "Night 2"
          ],
          [
           "Night 3"
          ],
          [
           "Morning 1"
          ],
          [
           "Evening 1"
          ],
          [
           "Night 1"
          ],
          [
           "Night 2"
          ],
          [
           "Night 3"
          ],
          [
           "Night 4"
          ],
          [
           "Morning 1"
          ],
          [
           "Evening 1"
          ],
          [
           "Evening 2"
          ],
          [
           "Evening 3"
          ],
          [
           "Night 1"
          ],
          [
           "Morning 1"
          ],
          [
           "Morning 2"
          ],
          [
           "Evening 1"
          ],
          [
           "Morning 1"
          ],
          [
           "Morning 2"
          ],
          [
           "Evening 1"
          ],
          [
           "Evening 2"
          ],
          [
           "Evening 3"
          ],
          [
           "Night 1"
          ],
          [
           "Night 2"
          ],
          [
           "Night 3"
          ],
          [
           "Morning 1"
          ],
          [
           "Evening 1"
          ],
          [
           "Night 1"
          ],
          [
           "Morning 1"
          ],
          [
           "Morning 2"
          ],
          [
           "Evening 1"
          ],
          [
           "Evening 2"
          ],
          [
           "Evening 3"
          ],
          [
           "Night 1"
          ],
          [
           "Night 2"
          ],
          [
           "Morning 1"
          ],
          [
           "Night 1"
          ],
          [
           "Night 2"
          ],
          [
           "Night 3"
          ],
          [
           "Night 4"
          ],
          [
           "Morning 1"
          ],
          [
           "Evening 1"
          ],
          [
           "Evening 2"
          ],
          [
           "Evening 3"
          ],
          [
           "Night 1"
          ],
          [
           "Night 2"
          ],
          [
           "Night 3"
          ],
          [
           "Morning 1"
          ],
          [
           "Morning 2"
          ],
          [
           "Evening 1"
          ],
          [
           "Evening 2"
          ]
         ],
         "hovertemplate": "Date=%{x}<br>Units_Produced=%{y}<br>Shift_Label=%{customdata[0]}",
         "legendgroup": "",
         "line": {
          "color": "#000001",
          "dash": "solid"
         },
         "marker": {
          "symbol": "circle"
         },
         "mode": "markers+lines",
         "name": "",
         "orientation": "v",
         "showlegend": false,
         "type": "scatter",
         "x": [
          "01-Oct Morning 1",
          "01-Oct Morning 2",
          "01-Oct Morning 3",
          "01-Oct Morning 4",
          "01-Oct Morning 5",
          "01-Oct Night 1",
          "01-Oct Night 2",
          "01-Oct Night 3",
          "02-Oct Morning 1",
          "02-Oct Evening 1",
          "02-Oct Night 1",
          "02-Oct Night 2",
          "03-Oct Morning 1",
          "03-Oct Evening 1",
          "03-Oct Evening 2",
          "03-Oct Evening 3",
          "03-Oct Night 1",
          "03-Oct Night 2",
          "03-Oct Night 3",
          "04-Oct Morning 1",
          "04-Oct Morning 2",
          "04-Oct Evening 1",
          "04-Oct Night 1",
          "04-Oct Night 2",
          "05-Oct Morning 1",
          "05-Oct Morning 2",
          "05-Oct Evening 1",
          "05-Oct Evening 2",
          "05-Oct Night 1",
          "05-Oct Night 2",
          "05-Oct Night 3",
          "06-Oct Morning 1",
          "06-Oct Evening 1",
          "06-Oct Evening 2",
          "06-Oct Night 1",
          "07-Oct Morning 1",
          "07-Oct Morning 2",
          "07-Oct Evening 1",
          "07-Oct Evening 2",
          "07-Oct Evening 3",
          "08-Oct Morning 1",
          "08-Oct Morning 2",
          "08-Oct Evening 1",
          "08-Oct Evening 2",
          "08-Oct Night 1",
          "09-Oct Morning 1",
          "09-Oct Evening 1",
          "10-Oct Morning 1",
          "10-Oct Morning 2",
          "10-Oct Evening 1",
          "10-Oct Evening 2",
          "11-Oct Evening 1",
          "11-Oct Evening 2",
          "11-Oct Night 1",
          "12-Oct Evening 1",
          "12-Oct Evening 2",
          "12-Oct Night 1",
          "12-Oct Night 2",
          "12-Oct Night 3",
          "13-Oct Evening 1",
          "14-Oct Morning 1",
          "14-Oct Morning 2",
          "14-Oct Morning 3",
          "14-Oct Night 1",
          "15-Oct Morning 1",
          "15-Oct Evening 1",
          "15-Oct Evening 2",
          "16-Oct Morning 1",
          "16-Oct Morning 2",
          "16-Oct Morning 3",
          "16-Oct Morning 4",
          "16-Oct Evening 1",
          "16-Oct Night 1",
          "17-Oct Morning 1",
          "17-Oct Evening 1",
          "17-Oct Night 1",
          "17-Oct Night 2",
          "17-Oct Night 3",
          "18-Oct Morning 1",
          "18-Oct Morning 2",
          "18-Oct Night 1",
          "19-Oct Morning 1",
          "19-Oct Morning 2",
          "19-Oct Morning 3",
          "19-Oct Evening 1",
          "19-Oct Night 1",
          "19-Oct Night 2",
          "19-Oct Night 3",
          "19-Oct Night 4",
          "20-Oct Morning 1",
          "20-Oct Morning 2",
          "20-Oct Evening 1",
          "20-Oct Evening 2",
          "20-Oct Evening 3",
          "20-Oct Evening 4",
          "20-Oct Night 1",
          "20-Oct Night 2",
          "21-Oct Evening 1",
          "21-Oct Evening 2",
          "21-Oct Evening 3",
          "21-Oct Night 1",
          "21-Oct Night 2",
          "22-Oct Morning 1",
          "22-Oct Morning 2",
          "22-Oct Morning 3",
          "22-Oct Night 1",
          "22-Oct Night 2",
          "22-Oct Night 3",
          "23-Oct Morning 1",
          "23-Oct Evening 1",
          "23-Oct Night 1",
          "23-Oct Night 2",
          "23-Oct Night 3",
          "23-Oct Night 4",
          "24-Oct Morning 1",
          "24-Oct Evening 1",
          "24-Oct Evening 2",
          "24-Oct Evening 3",
          "24-Oct Night 1",
          "25-Oct Morning 1",
          "25-Oct Morning 2",
          "25-Oct Evening 1",
          "26-Oct Morning 1",
          "26-Oct Morning 2",
          "26-Oct Evening 1",
          "26-Oct Evening 2",
          "26-Oct Evening 3",
          "26-Oct Night 1",
          "26-Oct Night 2",
          "26-Oct Night 3",
          "27-Oct Morning 1",
          "27-Oct Evening 1",
          "27-Oct Night 1",
          "28-Oct Morning 1",
          "28-Oct Morning 2",
          "28-Oct Evening 1",
          "28-Oct Evening 2",
          "28-Oct Evening 3",
          "28-Oct Night 1",
          "28-Oct Night 2",
          "29-Oct Morning 1",
          "29-Oct Night 1",
          "29-Oct Night 2",
          "29-Oct Night 3",
          "29-Oct Night 4",
          "30-Oct Morning 1",
          "30-Oct Evening 1",
          "30-Oct Evening 2",
          "30-Oct Evening 3",
          "30-Oct Night 1",
          "30-Oct Night 2",
          "30-Oct Night 3",
          "31-Oct Morning 1",
          "31-Oct Morning 2",
          "31-Oct Evening 1",
          "31-Oct Evening 2"
         ],
         "xaxis": "x",
         "y": [
          6,
          69,
          261,
          39,
          271,
          543,
          53,
          576,
          575,
          506,
          305,
          122,
          100,
          210,
          349,
          410,
          56,
          418,
          392,
          296,
          512,
          386,
          474,
          376,
          561,
          285,
          55,
          443,
          289,
          281,
          11,
          239,
          11,
          146,
          190,
          131,
          476,
          225,
          529,
          552,
          75,
          137,
          145,
          388,
          59,
          10,
          346,
          35,
          149,
          310,
          182,
          318,
          390,
          537,
          313,
          396,
          39,
          8,
          402,
          270,
          296,
          42,
          165,
          378,
          517,
          264,
          217,
          23,
          455,
          491,
          65,
          173,
          296,
          212,
          537,
          469,
          114,
          139,
          379,
          548,
          462,
          215,
          157,
          172,
          182,
          277,
          15,
          179,
          201,
          342,
          233,
          315,
          581,
          99,
          579,
          324,
          599,
          514,
          106,
          391,
          115,
          5,
          3,
          309,
          554,
          162,
          393,
          550,
          575,
          381,
          511,
          448,
          371,
          137,
          567,
          550,
          346,
          485,
          145,
          572,
          36,
          177,
          548,
          29,
          578,
          82,
          244,
          147,
          268,
          502,
          525,
          331,
          139,
          156,
          460,
          554,
          225,
          522,
          349,
          85,
          521,
          201,
          456,
          127,
          302,
          95,
          8,
          590,
          196,
          547,
          192,
          234,
          25,
          18,
          497,
          133
         ],
         "yaxis": "y"
        }
       ],
       "layout": {
        "height": 500,
        "legend": {
         "tracegroupgap": 0
        },
        "template": {
         "data": {
          "candlestick": [
           {
            "decreasing": {
             "line": {
              "color": "#000033"
             }
            },
            "increasing": {
             "line": {
              "color": "#000032"
             }
            },
            "type": "candlestick"
           }
          ],
          "contour": [
           {
            "colorscale": [
             [
              0,
              "#000011"
             ],
             [
              0.1111111111111111,
              "#000012"
             ],
             [
              0.2222222222222222,
              "#000013"
             ],
             [
              0.3333333333333333,
              "#000014"
             ],
             [
              0.4444444444444444,
              "#000015"
             ],
             [
              0.5555555555555556,
              "#000016"
             ],
             [
              0.6666666666666666,
              "#000017"
             ],
             [
              0.7777777777777778,
              "#000018"
             ],
             [
              0.8888888888888888,
              "#000019"
             ],
             [
              1,
              "#000020"
             ]
            ],
            "type": "contour"
           }
          ],
          "contourcarpet": [
           {
            "colorscale": [
             [
              0,
              "#000011"
             ],
             [
              0.1111111111111111,
              "#000012"
             ],
             [
              0.2222222222222222,
              "#000013"
             ],
             [
              0.3333333333333333,
              "#000014"
             ],
             [
              0.4444444444444444,
              "#000015"
             ],
             [
              0.5555555555555556,
              "#000016"
             ],
             [
              0.6666666666666666,
              "#000017"
             ],
             [
              0.7777777777777778,
              "#000018"
             ],
             [
              0.8888888888888888,
              "#000019"
             ],
             [
              1,
              "#000020"
             ]
            ],
            "type": "contourcarpet"
           }
          ],
          "heatmap": [
           {
            "colorscale": [
             [
              0,
              "#000011"
             ],
             [
              0.1111111111111111,
              "#000012"
             ],
             [
              0.2222222222222222,
              "#000013"
             ],
             [
              0.3333333333333333,
              "#000014"
             ],
             [
              0.4444444444444444,
              "#000015"
             ],
             [
              0.5555555555555556,
              "#000016"
             ],
             [
              0.6666666666666666,
              "#000017"
             ],
             [
              0.7777777777777778,
              "#000018"
             ],
             [
              0.8888888888888888,
              "#000019"
             ],
             [
              1,
              "#000020"
             ]
            ],
            "type": "heatmap"
           }
          ],
          "histogram2d": [
           {
            "colorscale": [
             [
              0,
              "#000011"
             ],
             [
              0.1111111111111111,
              "#000012"
             ],
             [
              0.2222222222222222,
              "#000013"
             ],
             [
              0.3333333333333333,
              "#000014"
             ],
             [
              0.4444444444444444,
              "#000015"
             ],
             [
              0.5555555555555556,
              "#000016"
             ],
             [
              0.6666666666666666,
              "#000017"
             ],
             [
              0.7777777777777778,
              "#000018"
             ],
             [
              0.8888888888888888,
              "#000019"
             ],
             [
              1,
              "#000020"
             ]
            ],
            "type": "histogram2d"
           }
          ],
          "icicle": [
           {
            "textfont": {
             "color": "white"
            },
            "type": "icicle"
           }
          ],
          "sankey": [
           {
            "textfont": {
             "color": "#000036"
            },
            "type": "sankey"
           }
          ],
          "scatter": [
           {
            "marker": {
             "line": {
              "width": 0
             }
            },
            "type": "scatter"
           }
          ],
          "table": [
           {
            "cells": {
             "fill": {
              "color": "#000038"
             },
             "font": {
              "color": "#000037"
             },
             "line": {
              "color": "#000039"
             }
            },
            "header": {
             "fill": {
              "color": "#000040"
             },
             "font": {
              "color": "#000036"
             },
             "line": {
              "color": "#000039"
             }
            },
            "type": "table"
           }
          ],
          "waterfall": [
           {
            "connector": {
             "line": {
              "color": "#000036",
              "width": 2
             }
            },
            "decreasing": {
             "marker": {
              "color": "#000033"
             }
            },
            "increasing": {
             "marker": {
              "color": "#000032"
             }
            },
            "totals": {
             "marker": {
              "color": "#000034"
             }
            },
            "type": "waterfall"
           }
          ]
         },
         "layout": {
          "coloraxis": {
           "colorscale": [
            [
             0,
             "#000011"
            ],
            [
             0.1111111111111111,
             "#000012"
            ],
            [
             0.2222222222222222,
             "#000013"
            ],
            [
             0.3333333333333333,
             "#000014"
            ],
            [
             0.4444444444444444,
             "#000015"
            ],
            [
             0.5555555555555556,
             "#000016"
            ],
            [
             0.6666666666666666,
             "#000017"
            ],
            [
             0.7777777777777778,
             "#000018"
            ],
            [
             0.8888888888888888,
             "#000019"
            ],
            [
             1,
             "#000020"
            ]
           ]
          },
          "colorscale": {
           "diverging": [
            [
             0,
             "#000021"
            ],
            [
             0.1,
             "#000022"
            ],
            [
             0.2,
             "#000023"
            ],
            [
             0.3,
             "#000024"
            ],
            [
             0.4,
             "#000025"
            ],
            [
             0.5,
             "#000026"
            ],
            [
             0.6,
             "#000027"
            ],
            [
             0.7,
             "#000028"
            ],
            [
             0.8,
             "#000029"
            ],
            [
             0.9,
             "#000030"
            ],
            [
             1,
             "#000031"
            ]
           ],
           "sequential": [
            [
             0,
             "#000011"
            ],
            [
             0.1111111111111111,
             "#000012"
            ],
            [
             0.2222222222222222,
             "#000013"
            ],
            [
             0.3333333333333333,
             "#000014"
            ],
            [
             0.4444444444444444,
             "#000015"
            ],
            [
             0.5555555555555556,
             "#000016"
            ],
            [
             0.6666666666666666,
             "#000017"
            ],
            [
             0.7777777777777778,
             "#000018"
            ],
            [
             0.8888888888888888,
             "#000019"
            ],
            [
             1,
             "#000020"
            ]
           ],
           "sequentialminus": [
            [
             0,
             "#000011"
            ],
            [
             0.1111111111111111,
             "#000012"
            ],
            [
             0.2222222222222222,
             "#000013"
            ],
            [
             0.3333333333333333,
             "#000014"
            ],
            [
             0.4444444444444444,
             "#000015"
            ],
            [
             0.5555555555555556,
             "#000016"
            ],
            [
             0.6666666666666666,
             "#000017"
            ],
            [
             0.7777777777777778,
             "#000018"
            ],
            [
             0.8888888888888888,
             "#000019"
            ],
            [
             1,
             "#000020"
            ]
           ]
          },
          "colorway": [
           "#000001",
           "#000002",
           "#000003",
           "#000004",
           "#000005",
           "#000006",
           "#000007",
           "#000008",
           "#000009",
           "#000010"
          ]
         }
        },
        "title": {
         "text": "Units Produced for Product B by Date and Shift"
        },
        "width": 900,
        "xaxis": {
         "anchor": "y",
         "domain": [
          0,
          1
         ],
         "title": {
          "text": "Date_Shift_Label"
         }
        },
        "yaxis": {
         "anchor": "x",
         "domain": [
          0,
          1
         ],
         "title": {
          "text": "Units_Produced"
         }
        }
       }
      }
     },
     "metadata": {},
     "output_type": "display_data"
    }
   ],
   "source": [
    "fig_B = px.line(\n",
    "    df1_B,\n",
    "    x=\"Date_Shift_Label\",\n",
    "    y=\"Units_Produced\",\n",
    "    markers=True,\n",
    "    title=\"Units Produced for Product B by Date and Shift\",\n",
    "    hover_data=[\"Shift_Label\"]\n",
    ")\n",
    "fig_B.update_traces(mode=\"markers+lines\", hovertemplate=\"Date=%{x}<br>Units_Produced=%{y}<br>Shift_Label=%{customdata[0]}\")\n",
    "fig_B.update_layout(height=500, width=900)\n",
    "fig_B.show()"
   ]
  },
  {
   "cell_type": "code",
   "execution_count": 164,
   "id": "d0970c82",
   "metadata": {},
   "outputs": [
    {
     "data": {
      "application/vnd.plotly.v1+json": {
       "config": {
        "plotlyServerURL": "https://plot.ly"
       },
       "data": [
        {
         "customdata": [
          [
           "Evening 1"
          ],
          [
           "Night 1"
          ],
          [
           "Night 2"
          ],
          [
           "Night 3"
          ],
          [
           "Night 4"
          ],
          [
           "Night 5"
          ],
          [
           "Morning 1"
          ],
          [
           "Morning 2"
          ],
          [
           "Night 1"
          ],
          [
           "Night 2"
          ],
          [
           "Morning 1"
          ],
          [
           "Morning 2"
          ],
          [
           "Morning 3"
          ],
          [
           "Evening 1"
          ],
          [
           "Evening 2"
          ],
          [
           "Evening 3"
          ],
          [
           "Night 1"
          ],
          [
           "Night 2"
          ],
          [
           "Night 3"
          ],
          [
           "Night 4"
          ],
          [
           "Morning 1"
          ],
          [
           "Morning 2"
          ],
          [
           "Evening 1"
          ],
          [
           "Evening 2"
          ],
          [
           "Morning 1"
          ],
          [
           "Evening 1"
          ],
          [
           "Night 1"
          ],
          [
           "Night 2"
          ],
          [
           "Night 3"
          ],
          [
           "Morning 1"
          ],
          [
           "Evening 1"
          ],
          [
           "Evening 2"
          ],
          [
           "Evening 3"
          ],
          [
           "Evening 4"
          ],
          [
           "Morning 1"
          ],
          [
           "Morning 2"
          ],
          [
           "Evening 1"
          ],
          [
           "Evening 2"
          ],
          [
           "Morning 1"
          ],
          [
           "Morning 2"
          ],
          [
           "Evening 1"
          ],
          [
           "Morning 1"
          ],
          [
           "Morning 2"
          ],
          [
           "Morning 3"
          ],
          [
           "Night 1"
          ],
          [
           "Evening 1"
          ],
          [
           "Evening 2"
          ],
          [
           "Night 1"
          ],
          [
           "Evening 1"
          ],
          [
           "Night 1"
          ],
          [
           "Morning 1"
          ],
          [
           "Morning 2"
          ],
          [
           "Evening 1"
          ],
          [
           "Evening 2"
          ],
          [
           "Evening 3"
          ],
          [
           "Evening 4"
          ],
          [
           "Night 1"
          ],
          [
           "Morning 1"
          ],
          [
           "Evening 1"
          ],
          [
           "Night 1"
          ],
          [
           "Night 2"
          ],
          [
           "Morning 1"
          ],
          [
           "Morning 2"
          ],
          [
           "Morning 3"
          ],
          [
           "Morning 4"
          ],
          [
           "Night 1"
          ],
          [
           "Morning 1"
          ],
          [
           "Evening 1"
          ],
          [
           "Night 1"
          ],
          [
           "Morning 1"
          ],
          [
           "Morning 2"
          ],
          [
           "Morning 3"
          ],
          [
           "Morning 4"
          ],
          [
           "Evening 1"
          ],
          [
           "Evening 2"
          ],
          [
           "Night 1"
          ],
          [
           "Morning 1"
          ],
          [
           "Morning 2"
          ],
          [
           "Morning 3"
          ],
          [
           "Morning 4"
          ],
          [
           "Evening 1"
          ],
          [
           "Evening 2"
          ],
          [
           "Night 1"
          ],
          [
           "Night 2"
          ],
          [
           "Morning 1"
          ],
          [
           "Morning 2"
          ],
          [
           "Morning 3"
          ],
          [
           "Evening 1"
          ],
          [
           "Evening 1"
          ],
          [
           "Evening 2"
          ],
          [
           "Night 1"
          ],
          [
           "Evening 1"
          ],
          [
           "Evening 2"
          ],
          [
           "Evening 3"
          ],
          [
           "Evening 4"
          ],
          [
           "Evening 5"
          ],
          [
           "Night 1"
          ],
          [
           "Morning 1"
          ],
          [
           "Evening 1"
          ],
          [
           "Morning 1"
          ],
          [
           "Morning 2"
          ],
          [
           "Evening 1"
          ],
          [
           "Night 1"
          ],
          [
           "Night 2"
          ],
          [
           "Morning 1"
          ],
          [
           "Morning 2"
          ],
          [
           "Evening 1"
          ],
          [
           "Night 1"
          ],
          [
           "Night 2"
          ],
          [
           "Night 3"
          ],
          [
           "Night 4"
          ],
          [
           "Morning 1"
          ],
          [
           "Evening 1"
          ],
          [
           "Evening 2"
          ],
          [
           "Evening 3"
          ],
          [
           "Evening 4"
          ],
          [
           "Night 1"
          ],
          [
           "Morning 1"
          ],
          [
           "Night 1"
          ],
          [
           "Night 2"
          ],
          [
           "Night 3"
          ],
          [
           "Morning 1"
          ],
          [
           "Evening 1"
          ],
          [
           "Evening 2"
          ],
          [
           "Evening 3"
          ],
          [
           "Evening 4"
          ],
          [
           "Night 1"
          ],
          [
           "Morning 1"
          ],
          [
           "Morning 2"
          ],
          [
           "Morning 3"
          ],
          [
           "Evening 1"
          ],
          [
           "Night 1"
          ],
          [
           "Morning 1"
          ],
          [
           "Evening 1"
          ],
          [
           "Evening 2"
          ],
          [
           "Night 1"
          ],
          [
           "Night 2"
          ],
          [
           "Night 3"
          ],
          [
           "Morning 1"
          ],
          [
           "Morning 2"
          ],
          [
           "Evening 1"
          ],
          [
           "Night 1"
          ],
          [
           "Night 2"
          ],
          [
           "Night 3"
          ],
          [
           "Evening 1"
          ],
          [
           "Evening 2"
          ],
          [
           "Night 1"
          ],
          [
           "Night 2"
          ],
          [
           "Morning 1"
          ],
          [
           "Morning 2"
          ],
          [
           "Evening 1"
          ],
          [
           "Evening 2"
          ],
          [
           "Night 1"
          ],
          [
           "Night 2"
          ]
         ],
         "hovertemplate": "Date=%{x}<br>Units_Produced=%{y}<br>Shift_Label=%{customdata[0]}",
         "legendgroup": "",
         "line": {
          "color": "#000001",
          "dash": "solid"
         },
         "marker": {
          "symbol": "circle"
         },
         "mode": "markers+lines",
         "name": "",
         "orientation": "v",
         "showlegend": false,
         "type": "scatter",
         "x": [
          "01-Oct Evening 1",
          "01-Oct Night 1",
          "01-Oct Night 2",
          "01-Oct Night 3",
          "01-Oct Night 4",
          "01-Oct Night 5",
          "02-Oct Morning 1",
          "02-Oct Morning 2",
          "02-Oct Night 1",
          "02-Oct Night 2",
          "03-Oct Morning 1",
          "03-Oct Morning 2",
          "03-Oct Morning 3",
          "03-Oct Evening 1",
          "03-Oct Evening 2",
          "03-Oct Evening 3",
          "03-Oct Night 1",
          "03-Oct Night 2",
          "03-Oct Night 3",
          "03-Oct Night 4",
          "04-Oct Morning 1",
          "04-Oct Morning 2",
          "04-Oct Evening 1",
          "04-Oct Evening 2",
          "05-Oct Morning 1",
          "05-Oct Evening 1",
          "05-Oct Night 1",
          "05-Oct Night 2",
          "05-Oct Night 3",
          "06-Oct Morning 1",
          "06-Oct Evening 1",
          "06-Oct Evening 2",
          "06-Oct Evening 3",
          "06-Oct Evening 4",
          "07-Oct Morning 1",
          "07-Oct Morning 2",
          "07-Oct Evening 1",
          "07-Oct Evening 2",
          "08-Oct Morning 1",
          "08-Oct Morning 2",
          "08-Oct Evening 1",
          "09-Oct Morning 1",
          "09-Oct Morning 2",
          "09-Oct Morning 3",
          "09-Oct Night 1",
          "10-Oct Evening 1",
          "10-Oct Evening 2",
          "10-Oct Night 1",
          "11-Oct Evening 1",
          "11-Oct Night 1",
          "12-Oct Morning 1",
          "12-Oct Morning 2",
          "12-Oct Evening 1",
          "12-Oct Evening 2",
          "12-Oct Evening 3",
          "12-Oct Evening 4",
          "12-Oct Night 1",
          "13-Oct Morning 1",
          "13-Oct Evening 1",
          "13-Oct Night 1",
          "13-Oct Night 2",
          "14-Oct Morning 1",
          "14-Oct Morning 2",
          "14-Oct Morning 3",
          "14-Oct Morning 4",
          "14-Oct Night 1",
          "15-Oct Morning 1",
          "15-Oct Evening 1",
          "15-Oct Night 1",
          "16-Oct Morning 1",
          "16-Oct Morning 2",
          "16-Oct Morning 3",
          "16-Oct Morning 4",
          "16-Oct Evening 1",
          "16-Oct Evening 2",
          "16-Oct Night 1",
          "17-Oct Morning 1",
          "17-Oct Morning 2",
          "17-Oct Morning 3",
          "17-Oct Morning 4",
          "17-Oct Evening 1",
          "17-Oct Evening 2",
          "17-Oct Night 1",
          "17-Oct Night 2",
          "18-Oct Morning 1",
          "18-Oct Morning 2",
          "18-Oct Morning 3",
          "18-Oct Evening 1",
          "19-Oct Evening 1",
          "19-Oct Evening 2",
          "19-Oct Night 1",
          "20-Oct Evening 1",
          "20-Oct Evening 2",
          "20-Oct Evening 3",
          "20-Oct Evening 4",
          "20-Oct Evening 5",
          "20-Oct Night 1",
          "21-Oct Morning 1",
          "21-Oct Evening 1",
          "22-Oct Morning 1",
          "22-Oct Morning 2",
          "22-Oct Evening 1",
          "22-Oct Night 1",
          "22-Oct Night 2",
          "23-Oct Morning 1",
          "23-Oct Morning 2",
          "23-Oct Evening 1",
          "23-Oct Night 1",
          "23-Oct Night 2",
          "23-Oct Night 3",
          "23-Oct Night 4",
          "24-Oct Morning 1",
          "24-Oct Evening 1",
          "24-Oct Evening 2",
          "24-Oct Evening 3",
          "24-Oct Evening 4",
          "24-Oct Night 1",
          "25-Oct Morning 1",
          "25-Oct Night 1",
          "25-Oct Night 2",
          "25-Oct Night 3",
          "26-Oct Morning 1",
          "26-Oct Evening 1",
          "26-Oct Evening 2",
          "26-Oct Evening 3",
          "26-Oct Evening 4",
          "26-Oct Night 1",
          "27-Oct Morning 1",
          "27-Oct Morning 2",
          "27-Oct Morning 3",
          "27-Oct Evening 1",
          "27-Oct Night 1",
          "28-Oct Morning 1",
          "28-Oct Evening 1",
          "28-Oct Evening 2",
          "28-Oct Night 1",
          "28-Oct Night 2",
          "28-Oct Night 3",
          "29-Oct Morning 1",
          "29-Oct Morning 2",
          "29-Oct Evening 1",
          "29-Oct Night 1",
          "29-Oct Night 2",
          "29-Oct Night 3",
          "30-Oct Evening 1",
          "30-Oct Evening 2",
          "30-Oct Night 1",
          "30-Oct Night 2",
          "31-Oct Morning 1",
          "31-Oct Morning 2",
          "31-Oct Evening 1",
          "31-Oct Evening 2",
          "31-Oct Night 1",
          "31-Oct Night 2"
         ],
         "xaxis": "x",
         "y": [
          295,
          386,
          476,
          506,
          419,
          72,
          303,
          526,
          202,
          215,
          29,
          157,
          596,
          261,
          503,
          501,
          443,
          254,
          235,
          309,
          54,
          161,
          437,
          148,
          109,
          342,
          41,
          67,
          59,
          459,
          231,
          478,
          563,
          580,
          49,
          21,
          26,
          328,
          178,
          316,
          63,
          340,
          119,
          259,
          42,
          81,
          264,
          194,
          106,
          228,
          141,
          257,
          90,
          27,
          556,
          494,
          130,
          420,
          120,
          548,
          271,
          15,
          526,
          338,
          396,
          360,
          41,
          500,
          34,
          198,
          282,
          521,
          559,
          442,
          168,
          288,
          216,
          17,
          532,
          104,
          526,
          324,
          363,
          593,
          5,
          491,
          490,
          371,
          151,
          33,
          55,
          137,
          446,
          187,
          575,
          547,
          118,
          28,
          503,
          75,
          286,
          329,
          15,
          418,
          96,
          386,
          278,
          363,
          241,
          25,
          429,
          285,
          7,
          143,
          319,
          312,
          231,
          160,
          75,
          296,
          146,
          469,
          4,
          557,
          226,
          273,
          300,
          313,
          289,
          386,
          348,
          97,
          377,
          550,
          468,
          32,
          452,
          435,
          128,
          132,
          292,
          216,
          318,
          371,
          320,
          364,
          374,
          523,
          516,
          330,
          564,
          471,
          141,
          574
         ],
         "yaxis": "y"
        }
       ],
       "layout": {
        "height": 500,
        "legend": {
         "tracegroupgap": 0
        },
        "template": {
         "data": {
          "candlestick": [
           {
            "decreasing": {
             "line": {
              "color": "#000033"
             }
            },
            "increasing": {
             "line": {
              "color": "#000032"
             }
            },
            "type": "candlestick"
           }
          ],
          "contour": [
           {
            "colorscale": [
             [
              0,
              "#000011"
             ],
             [
              0.1111111111111111,
              "#000012"
             ],
             [
              0.2222222222222222,
              "#000013"
             ],
             [
              0.3333333333333333,
              "#000014"
             ],
             [
              0.4444444444444444,
              "#000015"
             ],
             [
              0.5555555555555556,
              "#000016"
             ],
             [
              0.6666666666666666,
              "#000017"
             ],
             [
              0.7777777777777778,
              "#000018"
             ],
             [
              0.8888888888888888,
              "#000019"
             ],
             [
              1,
              "#000020"
             ]
            ],
            "type": "contour"
           }
          ],
          "contourcarpet": [
           {
            "colorscale": [
             [
              0,
              "#000011"
             ],
             [
              0.1111111111111111,
              "#000012"
             ],
             [
              0.2222222222222222,
              "#000013"
             ],
             [
              0.3333333333333333,
              "#000014"
             ],
             [
              0.4444444444444444,
              "#000015"
             ],
             [
              0.5555555555555556,
              "#000016"
             ],
             [
              0.6666666666666666,
              "#000017"
             ],
             [
              0.7777777777777778,
              "#000018"
             ],
             [
              0.8888888888888888,
              "#000019"
             ],
             [
              1,
              "#000020"
             ]
            ],
            "type": "contourcarpet"
           }
          ],
          "heatmap": [
           {
            "colorscale": [
             [
              0,
              "#000011"
             ],
             [
              0.1111111111111111,
              "#000012"
             ],
             [
              0.2222222222222222,
              "#000013"
             ],
             [
              0.3333333333333333,
              "#000014"
             ],
             [
              0.4444444444444444,
              "#000015"
             ],
             [
              0.5555555555555556,
              "#000016"
             ],
             [
              0.6666666666666666,
              "#000017"
             ],
             [
              0.7777777777777778,
              "#000018"
             ],
             [
              0.8888888888888888,
              "#000019"
             ],
             [
              1,
              "#000020"
             ]
            ],
            "type": "heatmap"
           }
          ],
          "histogram2d": [
           {
            "colorscale": [
             [
              0,
              "#000011"
             ],
             [
              0.1111111111111111,
              "#000012"
             ],
             [
              0.2222222222222222,
              "#000013"
             ],
             [
              0.3333333333333333,
              "#000014"
             ],
             [
              0.4444444444444444,
              "#000015"
             ],
             [
              0.5555555555555556,
              "#000016"
             ],
             [
              0.6666666666666666,
              "#000017"
             ],
             [
              0.7777777777777778,
              "#000018"
             ],
             [
              0.8888888888888888,
              "#000019"
             ],
             [
              1,
              "#000020"
             ]
            ],
            "type": "histogram2d"
           }
          ],
          "icicle": [
           {
            "textfont": {
             "color": "white"
            },
            "type": "icicle"
           }
          ],
          "sankey": [
           {
            "textfont": {
             "color": "#000036"
            },
            "type": "sankey"
           }
          ],
          "scatter": [
           {
            "marker": {
             "line": {
              "width": 0
             }
            },
            "type": "scatter"
           }
          ],
          "table": [
           {
            "cells": {
             "fill": {
              "color": "#000038"
             },
             "font": {
              "color": "#000037"
             },
             "line": {
              "color": "#000039"
             }
            },
            "header": {
             "fill": {
              "color": "#000040"
             },
             "font": {
              "color": "#000036"
             },
             "line": {
              "color": "#000039"
             }
            },
            "type": "table"
           }
          ],
          "waterfall": [
           {
            "connector": {
             "line": {
              "color": "#000036",
              "width": 2
             }
            },
            "decreasing": {
             "marker": {
              "color": "#000033"
             }
            },
            "increasing": {
             "marker": {
              "color": "#000032"
             }
            },
            "totals": {
             "marker": {
              "color": "#000034"
             }
            },
            "type": "waterfall"
           }
          ]
         },
         "layout": {
          "coloraxis": {
           "colorscale": [
            [
             0,
             "#000011"
            ],
            [
             0.1111111111111111,
             "#000012"
            ],
            [
             0.2222222222222222,
             "#000013"
            ],
            [
             0.3333333333333333,
             "#000014"
            ],
            [
             0.4444444444444444,
             "#000015"
            ],
            [
             0.5555555555555556,
             "#000016"
            ],
            [
             0.6666666666666666,
             "#000017"
            ],
            [
             0.7777777777777778,
             "#000018"
            ],
            [
             0.8888888888888888,
             "#000019"
            ],
            [
             1,
             "#000020"
            ]
           ]
          },
          "colorscale": {
           "diverging": [
            [
             0,
             "#000021"
            ],
            [
             0.1,
             "#000022"
            ],
            [
             0.2,
             "#000023"
            ],
            [
             0.3,
             "#000024"
            ],
            [
             0.4,
             "#000025"
            ],
            [
             0.5,
             "#000026"
            ],
            [
             0.6,
             "#000027"
            ],
            [
             0.7,
             "#000028"
            ],
            [
             0.8,
             "#000029"
            ],
            [
             0.9,
             "#000030"
            ],
            [
             1,
             "#000031"
            ]
           ],
           "sequential": [
            [
             0,
             "#000011"
            ],
            [
             0.1111111111111111,
             "#000012"
            ],
            [
             0.2222222222222222,
             "#000013"
            ],
            [
             0.3333333333333333,
             "#000014"
            ],
            [
             0.4444444444444444,
             "#000015"
            ],
            [
             0.5555555555555556,
             "#000016"
            ],
            [
             0.6666666666666666,
             "#000017"
            ],
            [
             0.7777777777777778,
             "#000018"
            ],
            [
             0.8888888888888888,
             "#000019"
            ],
            [
             1,
             "#000020"
            ]
           ],
           "sequentialminus": [
            [
             0,
             "#000011"
            ],
            [
             0.1111111111111111,
             "#000012"
            ],
            [
             0.2222222222222222,
             "#000013"
            ],
            [
             0.3333333333333333,
             "#000014"
            ],
            [
             0.4444444444444444,
             "#000015"
            ],
            [
             0.5555555555555556,
             "#000016"
            ],
            [
             0.6666666666666666,
             "#000017"
            ],
            [
             0.7777777777777778,
             "#000018"
            ],
            [
             0.8888888888888888,
             "#000019"
            ],
            [
             1,
             "#000020"
            ]
           ]
          },
          "colorway": [
           "#000001",
           "#000002",
           "#000003",
           "#000004",
           "#000005",
           "#000006",
           "#000007",
           "#000008",
           "#000009",
           "#000010"
          ]
         }
        },
        "title": {
         "text": "Units Produced for Product C by Date and Shift"
        },
        "width": 900,
        "xaxis": {
         "anchor": "y",
         "domain": [
          0,
          1
         ],
         "title": {
          "text": "Date_Shift_Label"
         }
        },
        "yaxis": {
         "anchor": "x",
         "domain": [
          0,
          1
         ],
         "title": {
          "text": "Units_Produced"
         }
        }
       }
      }
     },
     "metadata": {},
     "output_type": "display_data"
    }
   ],
   "source": [
    "fig_C = px.line(\n",
    "    df1_C,\n",
    "    x=\"Date_Shift_Label\",\n",
    "    y=\"Units_Produced\",\n",
    "    markers=True,\n",
    "    title=\"Units Produced for Product C by Date and Shift\",\n",
    "    hover_data=[\"Shift_Label\"]\n",
    ")\n",
    "fig_C.update_traces(mode=\"markers+lines\", hovertemplate=\"Date=%{x}<br>Units_Produced=%{y}<br>Shift_Label=%{customdata[0]}\")\n",
    "fig_C.update_layout(height=500, width=900)\n",
    "fig_C.show()"
   ]
  },
  {
   "cell_type": "code",
   "execution_count": null,
   "id": "af2d8e0f",
   "metadata": {},
   "outputs": [],
   "source": []
  },
  {
   "cell_type": "code",
   "execution_count": 165,
   "id": "6d1dc49d",
   "metadata": {},
   "outputs": [
    {
     "data": {
      "application/vnd.plotly.v1+json": {
       "config": {
        "plotlyServerURL": "https://plot.ly"
       },
       "data": [
        {
         "line": {
          "color": "gray"
         },
         "mode": "lines",
         "name": "Line",
         "type": "scatter",
         "x": [
          "01-Oct Evening 1",
          "01-Oct Night 1",
          "01-Oct Night 2",
          "01-Oct Night 3",
          "01-Oct Night 4",
          "01-Oct Night 5",
          "02-Oct Morning 1",
          "02-Oct Morning 2",
          "02-Oct Night 1",
          "02-Oct Night 2",
          "03-Oct Morning 1",
          "03-Oct Morning 2",
          "03-Oct Morning 3",
          "03-Oct Evening 1",
          "03-Oct Evening 2",
          "03-Oct Evening 3",
          "03-Oct Night 1",
          "03-Oct Night 2",
          "03-Oct Night 3",
          "03-Oct Night 4",
          "04-Oct Morning 1",
          "04-Oct Morning 2",
          "04-Oct Evening 1",
          "04-Oct Evening 2",
          "05-Oct Morning 1",
          "05-Oct Evening 1",
          "05-Oct Night 1",
          "05-Oct Night 2",
          "05-Oct Night 3",
          "06-Oct Morning 1",
          "06-Oct Evening 1",
          "06-Oct Evening 2",
          "06-Oct Evening 3",
          "06-Oct Evening 4",
          "07-Oct Morning 1",
          "07-Oct Morning 2",
          "07-Oct Evening 1",
          "07-Oct Evening 2",
          "08-Oct Morning 1",
          "08-Oct Morning 2",
          "08-Oct Evening 1",
          "09-Oct Morning 1",
          "09-Oct Morning 2",
          "09-Oct Morning 3",
          "09-Oct Night 1",
          "10-Oct Evening 1",
          "10-Oct Evening 2",
          "10-Oct Night 1",
          "11-Oct Evening 1",
          "11-Oct Night 1",
          "12-Oct Morning 1",
          "12-Oct Morning 2",
          "12-Oct Evening 1",
          "12-Oct Evening 2",
          "12-Oct Evening 3",
          "12-Oct Evening 4",
          "12-Oct Night 1",
          "13-Oct Morning 1",
          "13-Oct Evening 1",
          "13-Oct Night 1",
          "13-Oct Night 2",
          "14-Oct Morning 1",
          "14-Oct Morning 2",
          "14-Oct Morning 3",
          "14-Oct Morning 4",
          "14-Oct Night 1",
          "15-Oct Morning 1",
          "15-Oct Evening 1",
          "15-Oct Night 1",
          "16-Oct Morning 1",
          "16-Oct Morning 2",
          "16-Oct Morning 3",
          "16-Oct Morning 4",
          "16-Oct Evening 1",
          "16-Oct Evening 2",
          "16-Oct Night 1",
          "17-Oct Morning 1",
          "17-Oct Morning 2",
          "17-Oct Morning 3",
          "17-Oct Morning 4",
          "17-Oct Evening 1",
          "17-Oct Evening 2",
          "17-Oct Night 1",
          "17-Oct Night 2",
          "18-Oct Morning 1",
          "18-Oct Morning 2",
          "18-Oct Morning 3",
          "18-Oct Evening 1",
          "19-Oct Evening 1",
          "19-Oct Evening 2",
          "19-Oct Night 1",
          "20-Oct Evening 1",
          "20-Oct Evening 2",
          "20-Oct Evening 3",
          "20-Oct Evening 4",
          "20-Oct Evening 5",
          "20-Oct Night 1",
          "21-Oct Morning 1",
          "21-Oct Evening 1",
          "22-Oct Morning 1",
          "22-Oct Morning 2",
          "22-Oct Evening 1",
          "22-Oct Night 1",
          "22-Oct Night 2",
          "23-Oct Morning 1",
          "23-Oct Morning 2",
          "23-Oct Evening 1",
          "23-Oct Night 1",
          "23-Oct Night 2",
          "23-Oct Night 3",
          "23-Oct Night 4",
          "24-Oct Morning 1",
          "24-Oct Evening 1",
          "24-Oct Evening 2",
          "24-Oct Evening 3",
          "24-Oct Evening 4",
          "24-Oct Night 1",
          "25-Oct Morning 1",
          "25-Oct Night 1",
          "25-Oct Night 2",
          "25-Oct Night 3",
          "26-Oct Morning 1",
          "26-Oct Evening 1",
          "26-Oct Evening 2",
          "26-Oct Evening 3",
          "26-Oct Evening 4",
          "26-Oct Night 1",
          "27-Oct Morning 1",
          "27-Oct Morning 2",
          "27-Oct Morning 3",
          "27-Oct Evening 1",
          "27-Oct Night 1",
          "28-Oct Morning 1",
          "28-Oct Evening 1",
          "28-Oct Evening 2",
          "28-Oct Night 1",
          "28-Oct Night 2",
          "28-Oct Night 3",
          "29-Oct Morning 1",
          "29-Oct Morning 2",
          "29-Oct Evening 1",
          "29-Oct Night 1",
          "29-Oct Night 2",
          "29-Oct Night 3",
          "30-Oct Evening 1",
          "30-Oct Evening 2",
          "30-Oct Night 1",
          "30-Oct Night 2",
          "31-Oct Morning 1",
          "31-Oct Morning 2",
          "31-Oct Evening 1",
          "31-Oct Evening 2",
          "31-Oct Night 1",
          "31-Oct Night 2"
         ],
         "y": [
          295,
          386,
          476,
          506,
          419,
          72,
          303,
          526,
          202,
          215,
          29,
          157,
          596,
          261,
          503,
          501,
          443,
          254,
          235,
          309,
          54,
          161,
          437,
          148,
          109,
          342,
          41,
          67,
          59,
          459,
          231,
          478,
          563,
          580,
          49,
          21,
          26,
          328,
          178,
          316,
          63,
          340,
          119,
          259,
          42,
          81,
          264,
          194,
          106,
          228,
          141,
          257,
          90,
          27,
          556,
          494,
          130,
          420,
          120,
          548,
          271,
          15,
          526,
          338,
          396,
          360,
          41,
          500,
          34,
          198,
          282,
          521,
          559,
          442,
          168,
          288,
          216,
          17,
          532,
          104,
          526,
          324,
          363,
          593,
          5,
          491,
          490,
          371,
          151,
          33,
          55,
          137,
          446,
          187,
          575,
          547,
          118,
          28,
          503,
          75,
          286,
          329,
          15,
          418,
          96,
          386,
          278,
          363,
          241,
          25,
          429,
          285,
          7,
          143,
          319,
          312,
          231,
          160,
          75,
          296,
          146,
          469,
          4,
          557,
          226,
          273,
          300,
          313,
          289,
          386,
          348,
          97,
          377,
          550,
          468,
          32,
          452,
          435,
          128,
          132,
          292,
          216,
          318,
          371,
          320,
          364,
          374,
          523,
          516,
          330,
          564,
          471,
          141,
          574
         ]
        },
        {
         "customdata": [
          [
           "Morning 1"
          ],
          [
           "Morning 2"
          ],
          [
           "Morning 1"
          ],
          [
           "Morning 2"
          ],
          [
           "Morning 3"
          ],
          [
           "Morning 1"
          ],
          [
           "Morning 2"
          ],
          [
           "Morning 1"
          ],
          [
           "Morning 1"
          ],
          [
           "Morning 1"
          ],
          [
           "Morning 2"
          ],
          [
           "Morning 1"
          ],
          [
           "Morning 2"
          ],
          [
           "Morning 1"
          ],
          [
           "Morning 2"
          ],
          [
           "Morning 3"
          ],
          [
           "Morning 1"
          ],
          [
           "Morning 2"
          ],
          [
           "Morning 1"
          ],
          [
           "Morning 1"
          ],
          [
           "Morning 2"
          ],
          [
           "Morning 3"
          ],
          [
           "Morning 4"
          ],
          [
           "Morning 1"
          ],
          [
           "Morning 1"
          ],
          [
           "Morning 2"
          ],
          [
           "Morning 3"
          ],
          [
           "Morning 4"
          ],
          [
           "Morning 1"
          ],
          [
           "Morning 2"
          ],
          [
           "Morning 3"
          ],
          [
           "Morning 4"
          ],
          [
           "Morning 1"
          ],
          [
           "Morning 2"
          ],
          [
           "Morning 3"
          ],
          [
           "Morning 1"
          ],
          [
           "Morning 1"
          ],
          [
           "Morning 2"
          ],
          [
           "Morning 1"
          ],
          [
           "Morning 2"
          ],
          [
           "Morning 1"
          ],
          [
           "Morning 1"
          ],
          [
           "Morning 1"
          ],
          [
           "Morning 1"
          ],
          [
           "Morning 2"
          ],
          [
           "Morning 3"
          ],
          [
           "Morning 1"
          ],
          [
           "Morning 1"
          ],
          [
           "Morning 2"
          ],
          [
           "Morning 1"
          ],
          [
           "Morning 2"
          ]
         ],
         "hovertemplate": "Date=%{x}<br>Units_Produced=%{y}<br>Shift_Label=%{customdata[0]}",
         "marker": {
          "color": "orange",
          "size": 10
         },
         "mode": "markers",
         "name": "Morning Shift",
         "type": "scatter",
         "x": [
          "02-Oct Morning 1",
          "02-Oct Morning 2",
          "03-Oct Morning 1",
          "03-Oct Morning 2",
          "03-Oct Morning 3",
          "04-Oct Morning 1",
          "04-Oct Morning 2",
          "05-Oct Morning 1",
          "06-Oct Morning 1",
          "07-Oct Morning 1",
          "07-Oct Morning 2",
          "08-Oct Morning 1",
          "08-Oct Morning 2",
          "09-Oct Morning 1",
          "09-Oct Morning 2",
          "09-Oct Morning 3",
          "12-Oct Morning 1",
          "12-Oct Morning 2",
          "13-Oct Morning 1",
          "14-Oct Morning 1",
          "14-Oct Morning 2",
          "14-Oct Morning 3",
          "14-Oct Morning 4",
          "15-Oct Morning 1",
          "16-Oct Morning 1",
          "16-Oct Morning 2",
          "16-Oct Morning 3",
          "16-Oct Morning 4",
          "17-Oct Morning 1",
          "17-Oct Morning 2",
          "17-Oct Morning 3",
          "17-Oct Morning 4",
          "18-Oct Morning 1",
          "18-Oct Morning 2",
          "18-Oct Morning 3",
          "21-Oct Morning 1",
          "22-Oct Morning 1",
          "22-Oct Morning 2",
          "23-Oct Morning 1",
          "23-Oct Morning 2",
          "24-Oct Morning 1",
          "25-Oct Morning 1",
          "26-Oct Morning 1",
          "27-Oct Morning 1",
          "27-Oct Morning 2",
          "27-Oct Morning 3",
          "28-Oct Morning 1",
          "29-Oct Morning 1",
          "29-Oct Morning 2",
          "31-Oct Morning 1",
          "31-Oct Morning 2"
         ],
         "y": [
          303,
          526,
          29,
          157,
          596,
          54,
          161,
          109,
          459,
          49,
          21,
          178,
          316,
          340,
          119,
          259,
          141,
          257,
          420,
          15,
          526,
          338,
          396,
          41,
          198,
          282,
          521,
          559,
          216,
          17,
          532,
          104,
          5,
          491,
          490,
          28,
          75,
          286,
          96,
          386,
          285,
          160,
          469,
          313,
          289,
          386,
          377,
          128,
          132,
          516,
          330
         ]
        },
        {
         "customdata": [
          [
           "Evening 1"
          ],
          [
           "Evening 1"
          ],
          [
           "Evening 2"
          ],
          [
           "Evening 3"
          ],
          [
           "Evening 1"
          ],
          [
           "Evening 2"
          ],
          [
           "Evening 1"
          ],
          [
           "Evening 1"
          ],
          [
           "Evening 2"
          ],
          [
           "Evening 3"
          ],
          [
           "Evening 4"
          ],
          [
           "Evening 1"
          ],
          [
           "Evening 2"
          ],
          [
           "Evening 1"
          ],
          [
           "Evening 1"
          ],
          [
           "Evening 2"
          ],
          [
           "Evening 1"
          ],
          [
           "Evening 1"
          ],
          [
           "Evening 2"
          ],
          [
           "Evening 3"
          ],
          [
           "Evening 4"
          ],
          [
           "Evening 1"
          ],
          [
           "Evening 1"
          ],
          [
           "Evening 1"
          ],
          [
           "Evening 2"
          ],
          [
           "Evening 1"
          ],
          [
           "Evening 2"
          ],
          [
           "Evening 1"
          ],
          [
           "Evening 1"
          ],
          [
           "Evening 2"
          ],
          [
           "Evening 1"
          ],
          [
           "Evening 2"
          ],
          [
           "Evening 3"
          ],
          [
           "Evening 4"
          ],
          [
           "Evening 5"
          ],
          [
           "Evening 1"
          ],
          [
           "Evening 1"
          ],
          [
           "Evening 1"
          ],
          [
           "Evening 1"
          ],
          [
           "Evening 2"
          ],
          [
           "Evening 3"
          ],
          [
           "Evening 4"
          ],
          [
           "Evening 1"
          ],
          [
           "Evening 2"
          ],
          [
           "Evening 3"
          ],
          [
           "Evening 4"
          ],
          [
           "Evening 1"
          ],
          [
           "Evening 1"
          ],
          [
           "Evening 2"
          ],
          [
           "Evening 1"
          ],
          [
           "Evening 1"
          ],
          [
           "Evening 2"
          ],
          [
           "Evening 1"
          ],
          [
           "Evening 2"
          ]
         ],
         "hovertemplate": "Date=%{x}<br>Units_Produced=%{y}<br>Shift_Label=%{customdata[0]}",
         "marker": {
          "color": "blue",
          "size": 10
         },
         "mode": "markers",
         "name": "Evening Shift",
         "type": "scatter",
         "x": [
          "01-Oct Evening 1",
          "03-Oct Evening 1",
          "03-Oct Evening 2",
          "03-Oct Evening 3",
          "04-Oct Evening 1",
          "04-Oct Evening 2",
          "05-Oct Evening 1",
          "06-Oct Evening 1",
          "06-Oct Evening 2",
          "06-Oct Evening 3",
          "06-Oct Evening 4",
          "07-Oct Evening 1",
          "07-Oct Evening 2",
          "08-Oct Evening 1",
          "10-Oct Evening 1",
          "10-Oct Evening 2",
          "11-Oct Evening 1",
          "12-Oct Evening 1",
          "12-Oct Evening 2",
          "12-Oct Evening 3",
          "12-Oct Evening 4",
          "13-Oct Evening 1",
          "15-Oct Evening 1",
          "16-Oct Evening 1",
          "16-Oct Evening 2",
          "17-Oct Evening 1",
          "17-Oct Evening 2",
          "18-Oct Evening 1",
          "19-Oct Evening 1",
          "19-Oct Evening 2",
          "20-Oct Evening 1",
          "20-Oct Evening 2",
          "20-Oct Evening 3",
          "20-Oct Evening 4",
          "20-Oct Evening 5",
          "21-Oct Evening 1",
          "22-Oct Evening 1",
          "23-Oct Evening 1",
          "24-Oct Evening 1",
          "24-Oct Evening 2",
          "24-Oct Evening 3",
          "24-Oct Evening 4",
          "26-Oct Evening 1",
          "26-Oct Evening 2",
          "26-Oct Evening 3",
          "26-Oct Evening 4",
          "27-Oct Evening 1",
          "28-Oct Evening 1",
          "28-Oct Evening 2",
          "29-Oct Evening 1",
          "30-Oct Evening 1",
          "30-Oct Evening 2",
          "31-Oct Evening 1",
          "31-Oct Evening 2"
         ],
         "y": [
          295,
          261,
          503,
          501,
          437,
          148,
          342,
          231,
          478,
          563,
          580,
          26,
          328,
          63,
          81,
          264,
          106,
          90,
          27,
          556,
          494,
          120,
          500,
          442,
          168,
          526,
          324,
          371,
          151,
          33,
          137,
          446,
          187,
          575,
          547,
          503,
          329,
          278,
          7,
          143,
          319,
          312,
          4,
          557,
          226,
          273,
          348,
          550,
          468,
          292,
          320,
          364,
          564,
          471
         ]
        },
        {
         "customdata": [
          [
           "Night 1"
          ],
          [
           "Night 2"
          ],
          [
           "Night 3"
          ],
          [
           "Night 4"
          ],
          [
           "Night 5"
          ],
          [
           "Night 1"
          ],
          [
           "Night 2"
          ],
          [
           "Night 1"
          ],
          [
           "Night 2"
          ],
          [
           "Night 3"
          ],
          [
           "Night 4"
          ],
          [
           "Night 1"
          ],
          [
           "Night 2"
          ],
          [
           "Night 3"
          ],
          [
           "Night 1"
          ],
          [
           "Night 1"
          ],
          [
           "Night 1"
          ],
          [
           "Night 1"
          ],
          [
           "Night 1"
          ],
          [
           "Night 2"
          ],
          [
           "Night 1"
          ],
          [
           "Night 1"
          ],
          [
           "Night 1"
          ],
          [
           "Night 1"
          ],
          [
           "Night 2"
          ],
          [
           "Night 1"
          ],
          [
           "Night 1"
          ],
          [
           "Night 1"
          ],
          [
           "Night 2"
          ],
          [
           "Night 1"
          ],
          [
           "Night 2"
          ],
          [
           "Night 3"
          ],
          [
           "Night 4"
          ],
          [
           "Night 1"
          ],
          [
           "Night 1"
          ],
          [
           "Night 2"
          ],
          [
           "Night 3"
          ],
          [
           "Night 1"
          ],
          [
           "Night 1"
          ],
          [
           "Night 1"
          ],
          [
           "Night 2"
          ],
          [
           "Night 3"
          ],
          [
           "Night 1"
          ],
          [
           "Night 2"
          ],
          [
           "Night 3"
          ],
          [
           "Night 1"
          ],
          [
           "Night 2"
          ],
          [
           "Night 1"
          ],
          [
           "Night 2"
          ]
         ],
         "hovertemplate": "Date=%{x}<br>Units_Produced=%{y}<br>Shift_Label=%{customdata[0]}",
         "marker": {
          "color": "green",
          "size": 10
         },
         "mode": "markers",
         "name": "Night Shift",
         "type": "scatter",
         "x": [
          "01-Oct Night 1",
          "01-Oct Night 2",
          "01-Oct Night 3",
          "01-Oct Night 4",
          "01-Oct Night 5",
          "02-Oct Night 1",
          "02-Oct Night 2",
          "03-Oct Night 1",
          "03-Oct Night 2",
          "03-Oct Night 3",
          "03-Oct Night 4",
          "05-Oct Night 1",
          "05-Oct Night 2",
          "05-Oct Night 3",
          "09-Oct Night 1",
          "10-Oct Night 1",
          "11-Oct Night 1",
          "12-Oct Night 1",
          "13-Oct Night 1",
          "13-Oct Night 2",
          "14-Oct Night 1",
          "15-Oct Night 1",
          "16-Oct Night 1",
          "17-Oct Night 1",
          "17-Oct Night 2",
          "19-Oct Night 1",
          "20-Oct Night 1",
          "22-Oct Night 1",
          "22-Oct Night 2",
          "23-Oct Night 1",
          "23-Oct Night 2",
          "23-Oct Night 3",
          "23-Oct Night 4",
          "24-Oct Night 1",
          "25-Oct Night 1",
          "25-Oct Night 2",
          "25-Oct Night 3",
          "26-Oct Night 1",
          "27-Oct Night 1",
          "28-Oct Night 1",
          "28-Oct Night 2",
          "28-Oct Night 3",
          "29-Oct Night 1",
          "29-Oct Night 2",
          "29-Oct Night 3",
          "30-Oct Night 1",
          "30-Oct Night 2",
          "31-Oct Night 1",
          "31-Oct Night 2"
         ],
         "y": [
          386,
          476,
          506,
          419,
          72,
          202,
          215,
          443,
          254,
          235,
          309,
          41,
          67,
          59,
          42,
          194,
          228,
          130,
          548,
          271,
          360,
          34,
          288,
          363,
          593,
          55,
          118,
          15,
          418,
          363,
          241,
          25,
          429,
          231,
          75,
          296,
          146,
          300,
          97,
          32,
          452,
          435,
          216,
          318,
          371,
          374,
          523,
          141,
          574
         ]
        }
       ],
       "layout": {
        "height": 500,
        "template": {
         "data": {
          "candlestick": [
           {
            "decreasing": {
             "line": {
              "color": "#000033"
             }
            },
            "increasing": {
             "line": {
              "color": "#000032"
             }
            },
            "type": "candlestick"
           }
          ],
          "contour": [
           {
            "colorscale": [
             [
              0,
              "#000011"
             ],
             [
              0.1111111111111111,
              "#000012"
             ],
             [
              0.2222222222222222,
              "#000013"
             ],
             [
              0.3333333333333333,
              "#000014"
             ],
             [
              0.4444444444444444,
              "#000015"
             ],
             [
              0.5555555555555556,
              "#000016"
             ],
             [
              0.6666666666666666,
              "#000017"
             ],
             [
              0.7777777777777778,
              "#000018"
             ],
             [
              0.8888888888888888,
              "#000019"
             ],
             [
              1,
              "#000020"
             ]
            ],
            "type": "contour"
           }
          ],
          "contourcarpet": [
           {
            "colorscale": [
             [
              0,
              "#000011"
             ],
             [
              0.1111111111111111,
              "#000012"
             ],
             [
              0.2222222222222222,
              "#000013"
             ],
             [
              0.3333333333333333,
              "#000014"
             ],
             [
              0.4444444444444444,
              "#000015"
             ],
             [
              0.5555555555555556,
              "#000016"
             ],
             [
              0.6666666666666666,
              "#000017"
             ],
             [
              0.7777777777777778,
              "#000018"
             ],
             [
              0.8888888888888888,
              "#000019"
             ],
             [
              1,
              "#000020"
             ]
            ],
            "type": "contourcarpet"
           }
          ],
          "heatmap": [
           {
            "colorscale": [
             [
              0,
              "#000011"
             ],
             [
              0.1111111111111111,
              "#000012"
             ],
             [
              0.2222222222222222,
              "#000013"
             ],
             [
              0.3333333333333333,
              "#000014"
             ],
             [
              0.4444444444444444,
              "#000015"
             ],
             [
              0.5555555555555556,
              "#000016"
             ],
             [
              0.6666666666666666,
              "#000017"
             ],
             [
              0.7777777777777778,
              "#000018"
             ],
             [
              0.8888888888888888,
              "#000019"
             ],
             [
              1,
              "#000020"
             ]
            ],
            "type": "heatmap"
           }
          ],
          "histogram2d": [
           {
            "colorscale": [
             [
              0,
              "#000011"
             ],
             [
              0.1111111111111111,
              "#000012"
             ],
             [
              0.2222222222222222,
              "#000013"
             ],
             [
              0.3333333333333333,
              "#000014"
             ],
             [
              0.4444444444444444,
              "#000015"
             ],
             [
              0.5555555555555556,
              "#000016"
             ],
             [
              0.6666666666666666,
              "#000017"
             ],
             [
              0.7777777777777778,
              "#000018"
             ],
             [
              0.8888888888888888,
              "#000019"
             ],
             [
              1,
              "#000020"
             ]
            ],
            "type": "histogram2d"
           }
          ],
          "icicle": [
           {
            "textfont": {
             "color": "white"
            },
            "type": "icicle"
           }
          ],
          "sankey": [
           {
            "textfont": {
             "color": "#000036"
            },
            "type": "sankey"
           }
          ],
          "scatter": [
           {
            "marker": {
             "line": {
              "width": 0
             }
            },
            "type": "scatter"
           }
          ],
          "table": [
           {
            "cells": {
             "fill": {
              "color": "#000038"
             },
             "font": {
              "color": "#000037"
             },
             "line": {
              "color": "#000039"
             }
            },
            "header": {
             "fill": {
              "color": "#000040"
             },
             "font": {
              "color": "#000036"
             },
             "line": {
              "color": "#000039"
             }
            },
            "type": "table"
           }
          ],
          "waterfall": [
           {
            "connector": {
             "line": {
              "color": "#000036",
              "width": 2
             }
            },
            "decreasing": {
             "marker": {
              "color": "#000033"
             }
            },
            "increasing": {
             "marker": {
              "color": "#000032"
             }
            },
            "totals": {
             "marker": {
              "color": "#000034"
             }
            },
            "type": "waterfall"
           }
          ]
         },
         "layout": {
          "coloraxis": {
           "colorscale": [
            [
             0,
             "#000011"
            ],
            [
             0.1111111111111111,
             "#000012"
            ],
            [
             0.2222222222222222,
             "#000013"
            ],
            [
             0.3333333333333333,
             "#000014"
            ],
            [
             0.4444444444444444,
             "#000015"
            ],
            [
             0.5555555555555556,
             "#000016"
            ],
            [
             0.6666666666666666,
             "#000017"
            ],
            [
             0.7777777777777778,
             "#000018"
            ],
            [
             0.8888888888888888,
             "#000019"
            ],
            [
             1,
             "#000020"
            ]
           ]
          },
          "colorscale": {
           "diverging": [
            [
             0,
             "#000021"
            ],
            [
             0.1,
             "#000022"
            ],
            [
             0.2,
             "#000023"
            ],
            [
             0.3,
             "#000024"
            ],
            [
             0.4,
             "#000025"
            ],
            [
             0.5,
             "#000026"
            ],
            [
             0.6,
             "#000027"
            ],
            [
             0.7,
             "#000028"
            ],
            [
             0.8,
             "#000029"
            ],
            [
             0.9,
             "#000030"
            ],
            [
             1,
             "#000031"
            ]
           ],
           "sequential": [
            [
             0,
             "#000011"
            ],
            [
             0.1111111111111111,
             "#000012"
            ],
            [
             0.2222222222222222,
             "#000013"
            ],
            [
             0.3333333333333333,
             "#000014"
            ],
            [
             0.4444444444444444,
             "#000015"
            ],
            [
             0.5555555555555556,
             "#000016"
            ],
            [
             0.6666666666666666,
             "#000017"
            ],
            [
             0.7777777777777778,
             "#000018"
            ],
            [
             0.8888888888888888,
             "#000019"
            ],
            [
             1,
             "#000020"
            ]
           ],
           "sequentialminus": [
            [
             0,
             "#000011"
            ],
            [
             0.1111111111111111,
             "#000012"
            ],
            [
             0.2222222222222222,
             "#000013"
            ],
            [
             0.3333333333333333,
             "#000014"
            ],
            [
             0.4444444444444444,
             "#000015"
            ],
            [
             0.5555555555555556,
             "#000016"
            ],
            [
             0.6666666666666666,
             "#000017"
            ],
            [
             0.7777777777777778,
             "#000018"
            ],
            [
             0.8888888888888888,
             "#000019"
            ],
            [
             1,
             "#000020"
            ]
           ]
          },
          "colorway": [
           "#000001",
           "#000002",
           "#000003",
           "#000004",
           "#000005",
           "#000006",
           "#000007",
           "#000008",
           "#000009",
           "#000010"
          ]
         }
        },
        "title": {
         "text": "Units Produced for Product C by Date and Shift"
        },
        "width": 900
       }
      }
     },
     "metadata": {},
     "output_type": "display_data"
    }
   ],
   "source": [
    "import plotly.graph_objects as go\n",
    "\n",
    "# Define colors for each shift\n",
    "shift_colors = {'Morning': 'orange', 'Evening': 'blue', 'Night': 'green'}\n",
    "\n",
    "# Line trace (single color)\n",
    "fig_C = go.Figure()\n",
    "fig_C.add_trace(go.Scatter(\n",
    "    x=df1_C[\"Date_Shift_Label\"],\n",
    "    y=df1_C[\"Units_Produced\"],\n",
    "    mode=\"lines\",\n",
    "    line=dict(color=\"gray\"),\n",
    "    name=\"Line\"\n",
    "))\n",
    "\n",
    "# Marker traces (colored by shift)\n",
    "for shift, color in shift_colors.items():\n",
    "    df_shift = df1_C[df1_C[\"Shift\"] == shift]\n",
    "    fig_C.add_trace(go.Scatter(\n",
    "        x=df_shift[\"Date_Shift_Label\"],\n",
    "        y=df_shift[\"Units_Produced\"],\n",
    "        mode=\"markers\",\n",
    "        marker=dict(color=color, size=10),\n",
    "        name=f\"{shift} Shift\",\n",
    "        customdata=df_shift[[\"Shift_Label\"]],\n",
    "        hovertemplate=\"Date=%{x}<br>Units_Produced=%{y}<br>Shift_Label=%{customdata[0]}\"\n",
    "    ))\n",
    "\n",
    "fig_C.update_layout(\n",
    "    title=\"Units Produced for Product C by Date and Shift\",\n",
    "    height=500,\n",
    "    width=900\n",
    ")\n",
    "fig_C.show()"
   ]
  },
  {
   "cell_type": "code",
   "execution_count": null,
   "id": "b985d28f",
   "metadata": {},
   "outputs": [],
   "source": []
  },
  {
   "cell_type": "code",
   "execution_count": null,
   "id": "a4364537",
   "metadata": {},
   "outputs": [],
   "source": []
  },
  {
   "cell_type": "code",
   "execution_count": null,
   "id": "e1f9252a",
   "metadata": {},
   "outputs": [],
   "source": []
  },
  {
   "cell_type": "code",
   "execution_count": null,
   "id": "3e87d589",
   "metadata": {},
   "outputs": [],
   "source": [
    "### cannot use facet plot\n",
    "fig = px.line(\n",
    "    df1,\n",
    "    x=\"Date_Shift_Label\",\n",
    "    y=\"Units_Produced\",\n",
    "    facet_col=\"Product\",\n",
    "    facet_col_wrap=1,\n",
    "    markers=True,\n",
    "    title=\"Line Plot by Shift Sequence for Each Product\"\n",
    ")\n",
    "fig.update_xaxes(showticklabels=False, visible=False)\n",
    "fig.update_layout(height=600, width=1000)\n",
    "fig.show()"
   ]
  },
  {
   "cell_type": "code",
   "execution_count": null,
   "id": "d9cdc5d1",
   "metadata": {},
   "outputs": [],
   "source": []
  },
  {
   "cell_type": "code",
   "execution_count": null,
   "id": "94effce9",
   "metadata": {},
   "outputs": [],
   "source": []
  },
  {
   "cell_type": "code",
   "execution_count": null,
   "id": "5ab3ac3b",
   "metadata": {},
   "outputs": [],
   "source": []
  },
  {
   "cell_type": "markdown",
   "id": "3e100f7a",
   "metadata": {},
   "source": [
    "### Workout"
   ]
  },
  {
   "cell_type": "code",
   "execution_count": 124,
   "id": "b59868d7",
   "metadata": {},
   "outputs": [
    {
     "data": {
      "text/html": [
       "<div>\n",
       "<style scoped>\n",
       "    .dataframe tbody tr th:only-of-type {\n",
       "        vertical-align: middle;\n",
       "    }\n",
       "\n",
       "    .dataframe tbody tr th {\n",
       "        vertical-align: top;\n",
       "    }\n",
       "\n",
       "    .dataframe thead th {\n",
       "        text-align: right;\n",
       "    }\n",
       "</style>\n",
       "<table border=\"1\" class=\"dataframe\">\n",
       "  <thead>\n",
       "    <tr style=\"text-align: right;\">\n",
       "      <th></th>\n",
       "      <th>Unnamed: 0</th>\n",
       "      <th>Date</th>\n",
       "      <th>Product</th>\n",
       "      <th>Units_Produced</th>\n",
       "      <th>Shift</th>\n",
       "      <th>Shift_Seq</th>\n",
       "      <th>Shift_Label</th>\n",
       "    </tr>\n",
       "  </thead>\n",
       "  <tbody>\n",
       "    <tr>\n",
       "      <th>0</th>\n",
       "      <td>0</td>\n",
       "      <td>2024-10-01</td>\n",
       "      <td>A</td>\n",
       "      <td>436</td>\n",
       "      <td>Night</td>\n",
       "      <td>1</td>\n",
       "      <td>Night 1</td>\n",
       "    </tr>\n",
       "    <tr>\n",
       "      <th>1</th>\n",
       "      <td>1</td>\n",
       "      <td>2024-10-01</td>\n",
       "      <td>A</td>\n",
       "      <td>476</td>\n",
       "      <td>Night</td>\n",
       "      <td>2</td>\n",
       "      <td>Night 2</td>\n",
       "    </tr>\n",
       "    <tr>\n",
       "      <th>2</th>\n",
       "      <td>2</td>\n",
       "      <td>2024-10-01</td>\n",
       "      <td>A</td>\n",
       "      <td>274</td>\n",
       "      <td>Morning</td>\n",
       "      <td>1</td>\n",
       "      <td>Morning 1</td>\n",
       "    </tr>\n",
       "    <tr>\n",
       "      <th>3</th>\n",
       "      <td>3</td>\n",
       "      <td>2024-10-01</td>\n",
       "      <td>A</td>\n",
       "      <td>369</td>\n",
       "      <td>Morning</td>\n",
       "      <td>2</td>\n",
       "      <td>Morning 2</td>\n",
       "    </tr>\n",
       "    <tr>\n",
       "      <th>6</th>\n",
       "      <td>6</td>\n",
       "      <td>2024-10-01</td>\n",
       "      <td>A</td>\n",
       "      <td>209</td>\n",
       "      <td>Morning</td>\n",
       "      <td>3</td>\n",
       "      <td>Morning 3</td>\n",
       "    </tr>\n",
       "    <tr>\n",
       "      <th>9</th>\n",
       "      <td>9</td>\n",
       "      <td>2024-10-01</td>\n",
       "      <td>A</td>\n",
       "      <td>51</td>\n",
       "      <td>Evening</td>\n",
       "      <td>1</td>\n",
       "      <td>Evening 1</td>\n",
       "    </tr>\n",
       "    <tr>\n",
       "      <th>10</th>\n",
       "      <td>10</td>\n",
       "      <td>2024-10-01</td>\n",
       "      <td>A</td>\n",
       "      <td>356</td>\n",
       "      <td>Morning</td>\n",
       "      <td>4</td>\n",
       "      <td>Morning 4</td>\n",
       "    </tr>\n",
       "    <tr>\n",
       "      <th>12</th>\n",
       "      <td>12</td>\n",
       "      <td>2024-10-01</td>\n",
       "      <td>A</td>\n",
       "      <td>140</td>\n",
       "      <td>Night</td>\n",
       "      <td>3</td>\n",
       "      <td>Night 3</td>\n",
       "    </tr>\n",
       "    <tr>\n",
       "      <th>13</th>\n",
       "      <td>13</td>\n",
       "      <td>2024-10-01</td>\n",
       "      <td>A</td>\n",
       "      <td>118</td>\n",
       "      <td>Night</td>\n",
       "      <td>4</td>\n",
       "      <td>Night 4</td>\n",
       "    </tr>\n",
       "    <tr>\n",
       "      <th>14</th>\n",
       "      <td>14</td>\n",
       "      <td>2024-10-01</td>\n",
       "      <td>A</td>\n",
       "      <td>598</td>\n",
       "      <td>Morning</td>\n",
       "      <td>5</td>\n",
       "      <td>Morning 5</td>\n",
       "    </tr>\n",
       "    <tr>\n",
       "      <th>21</th>\n",
       "      <td>21</td>\n",
       "      <td>2024-10-01</td>\n",
       "      <td>A</td>\n",
       "      <td>402</td>\n",
       "      <td>Morning</td>\n",
       "      <td>6</td>\n",
       "      <td>Morning 6</td>\n",
       "    </tr>\n",
       "    <tr>\n",
       "      <th>5</th>\n",
       "      <td>5</td>\n",
       "      <td>2024-10-01</td>\n",
       "      <td>B</td>\n",
       "      <td>543</td>\n",
       "      <td>Night</td>\n",
       "      <td>1</td>\n",
       "      <td>Night 1</td>\n",
       "    </tr>\n",
       "    <tr>\n",
       "      <th>7</th>\n",
       "      <td>7</td>\n",
       "      <td>2024-10-01</td>\n",
       "      <td>B</td>\n",
       "      <td>6</td>\n",
       "      <td>Morning</td>\n",
       "      <td>1</td>\n",
       "      <td>Morning 1</td>\n",
       "    </tr>\n",
       "    <tr>\n",
       "      <th>11</th>\n",
       "      <td>11</td>\n",
       "      <td>2024-10-01</td>\n",
       "      <td>B</td>\n",
       "      <td>69</td>\n",
       "      <td>Morning</td>\n",
       "      <td>2</td>\n",
       "      <td>Morning 2</td>\n",
       "    </tr>\n",
       "    <tr>\n",
       "      <th>16</th>\n",
       "      <td>16</td>\n",
       "      <td>2024-10-01</td>\n",
       "      <td>B</td>\n",
       "      <td>261</td>\n",
       "      <td>Morning</td>\n",
       "      <td>3</td>\n",
       "      <td>Morning 3</td>\n",
       "    </tr>\n",
       "    <tr>\n",
       "      <th>18</th>\n",
       "      <td>18</td>\n",
       "      <td>2024-10-01</td>\n",
       "      <td>B</td>\n",
       "      <td>39</td>\n",
       "      <td>Morning</td>\n",
       "      <td>4</td>\n",
       "      <td>Morning 4</td>\n",
       "    </tr>\n",
       "    <tr>\n",
       "      <th>19</th>\n",
       "      <td>19</td>\n",
       "      <td>2024-10-01</td>\n",
       "      <td>B</td>\n",
       "      <td>271</td>\n",
       "      <td>Morning</td>\n",
       "      <td>5</td>\n",
       "      <td>Morning 5</td>\n",
       "    </tr>\n",
       "    <tr>\n",
       "      <th>20</th>\n",
       "      <td>20</td>\n",
       "      <td>2024-10-01</td>\n",
       "      <td>B</td>\n",
       "      <td>53</td>\n",
       "      <td>Night</td>\n",
       "      <td>2</td>\n",
       "      <td>Night 2</td>\n",
       "    </tr>\n",
       "    <tr>\n",
       "      <th>24</th>\n",
       "      <td>24</td>\n",
       "      <td>2024-10-01</td>\n",
       "      <td>B</td>\n",
       "      <td>576</td>\n",
       "      <td>Night</td>\n",
       "      <td>3</td>\n",
       "      <td>Night 3</td>\n",
       "    </tr>\n",
       "    <tr>\n",
       "      <th>4</th>\n",
       "      <td>4</td>\n",
       "      <td>2024-10-01</td>\n",
       "      <td>C</td>\n",
       "      <td>386</td>\n",
       "      <td>Night</td>\n",
       "      <td>1</td>\n",
       "      <td>Night 1</td>\n",
       "    </tr>\n",
       "    <tr>\n",
       "      <th>8</th>\n",
       "      <td>8</td>\n",
       "      <td>2024-10-01</td>\n",
       "      <td>C</td>\n",
       "      <td>476</td>\n",
       "      <td>Night</td>\n",
       "      <td>2</td>\n",
       "      <td>Night 2</td>\n",
       "    </tr>\n",
       "    <tr>\n",
       "      <th>15</th>\n",
       "      <td>15</td>\n",
       "      <td>2024-10-01</td>\n",
       "      <td>C</td>\n",
       "      <td>506</td>\n",
       "      <td>Night</td>\n",
       "      <td>3</td>\n",
       "      <td>Night 3</td>\n",
       "    </tr>\n",
       "    <tr>\n",
       "      <th>17</th>\n",
       "      <td>17</td>\n",
       "      <td>2024-10-01</td>\n",
       "      <td>C</td>\n",
       "      <td>419</td>\n",
       "      <td>Night</td>\n",
       "      <td>4</td>\n",
       "      <td>Night 4</td>\n",
       "    </tr>\n",
       "    <tr>\n",
       "      <th>22</th>\n",
       "      <td>22</td>\n",
       "      <td>2024-10-01</td>\n",
       "      <td>C</td>\n",
       "      <td>72</td>\n",
       "      <td>Night</td>\n",
       "      <td>5</td>\n",
       "      <td>Night 5</td>\n",
       "    </tr>\n",
       "    <tr>\n",
       "      <th>23</th>\n",
       "      <td>23</td>\n",
       "      <td>2024-10-01</td>\n",
       "      <td>C</td>\n",
       "      <td>295</td>\n",
       "      <td>Evening</td>\n",
       "      <td>1</td>\n",
       "      <td>Evening 1</td>\n",
       "    </tr>\n",
       "  </tbody>\n",
       "</table>\n",
       "</div>"
      ],
      "text/plain": [
       "    Unnamed: 0       Date Product  Units_Produced    Shift  Shift_Seq  \\\n",
       "0            0 2024-10-01       A             436    Night          1   \n",
       "1            1 2024-10-01       A             476    Night          2   \n",
       "2            2 2024-10-01       A             274  Morning          1   \n",
       "3            3 2024-10-01       A             369  Morning          2   \n",
       "6            6 2024-10-01       A             209  Morning          3   \n",
       "9            9 2024-10-01       A              51  Evening          1   \n",
       "10          10 2024-10-01       A             356  Morning          4   \n",
       "12          12 2024-10-01       A             140    Night          3   \n",
       "13          13 2024-10-01       A             118    Night          4   \n",
       "14          14 2024-10-01       A             598  Morning          5   \n",
       "21          21 2024-10-01       A             402  Morning          6   \n",
       "5            5 2024-10-01       B             543    Night          1   \n",
       "7            7 2024-10-01       B               6  Morning          1   \n",
       "11          11 2024-10-01       B              69  Morning          2   \n",
       "16          16 2024-10-01       B             261  Morning          3   \n",
       "18          18 2024-10-01       B              39  Morning          4   \n",
       "19          19 2024-10-01       B             271  Morning          5   \n",
       "20          20 2024-10-01       B              53    Night          2   \n",
       "24          24 2024-10-01       B             576    Night          3   \n",
       "4            4 2024-10-01       C             386    Night          1   \n",
       "8            8 2024-10-01       C             476    Night          2   \n",
       "15          15 2024-10-01       C             506    Night          3   \n",
       "17          17 2024-10-01       C             419    Night          4   \n",
       "22          22 2024-10-01       C              72    Night          5   \n",
       "23          23 2024-10-01       C             295  Evening          1   \n",
       "\n",
       "   Shift_Label  \n",
       "0      Night 1  \n",
       "1      Night 2  \n",
       "2    Morning 1  \n",
       "3    Morning 2  \n",
       "6    Morning 3  \n",
       "9    Evening 1  \n",
       "10   Morning 4  \n",
       "12     Night 3  \n",
       "13     Night 4  \n",
       "14   Morning 5  \n",
       "21   Morning 6  \n",
       "5      Night 1  \n",
       "7    Morning 1  \n",
       "11   Morning 2  \n",
       "16   Morning 3  \n",
       "18   Morning 4  \n",
       "19   Morning 5  \n",
       "20     Night 2  \n",
       "24     Night 3  \n",
       "4      Night 1  \n",
       "8      Night 2  \n",
       "15     Night 3  \n",
       "17     Night 4  \n",
       "22     Night 5  \n",
       "23   Evening 1  "
      ]
     },
     "execution_count": 124,
     "metadata": {},
     "output_type": "execute_result"
    }
   ],
   "source": [
    "df['Shift_Seq'] = df.groupby(['Date', 'Product', 'Shift']).cumcount() + 1\n",
    "df['Shift_Label'] = df['Shift'] + ' ' + df['Shift_Seq'].astype(str)\n",
    "df.head(25)"
   ]
  },
  {
   "cell_type": "code",
   "execution_count": 125,
   "id": "edfbdb89",
   "metadata": {},
   "outputs": [],
   "source": [
    "# Map shift names to a custom order\n",
    "shift_order = {'Morning': 1, 'Evening': 2, 'Night': 3}\n",
    "df['Shift_Code'] = df['Shift'].map(shift_order)\n",
    "\n",
    "# Now sort by Date, Product, Shift_Code, Shift_Seq\n",
    "df1 = df.sort_values(['Date', 'Product', 'Shift_Code', 'Shift_Seq']).reset_index(drop=True)\n",
    "\n",
    "# df1.head(20)"
   ]
  },
  {
   "cell_type": "code",
   "execution_count": 126,
   "id": "13d6990d",
   "metadata": {},
   "outputs": [],
   "source": [
    "\n",
    "# If you want to plot, use this sorted df1\n",
    "df1['Date_Shift_Label'] = df1['Date'].dt.strftime('%d-%b') + ' ' + df1['Shift_Label'].astype(str)\n",
    "df1['Date_Shift_Label'] = pd.Categorical(df1['Date_Shift_Label'], categories=df1['Date_Shift_Label'].unique(), ordered=True)\n",
    "\n",
    "# df1.head(20)\n"
   ]
  },
  {
   "cell_type": "code",
   "execution_count": 127,
   "id": "37c07b68",
   "metadata": {},
   "outputs": [
    {
     "data": {
      "text/html": [
       "<div>\n",
       "<style scoped>\n",
       "    .dataframe tbody tr th:only-of-type {\n",
       "        vertical-align: middle;\n",
       "    }\n",
       "\n",
       "    .dataframe tbody tr th {\n",
       "        vertical-align: top;\n",
       "    }\n",
       "\n",
       "    .dataframe thead th {\n",
       "        text-align: right;\n",
       "    }\n",
       "</style>\n",
       "<table border=\"1\" class=\"dataframe\">\n",
       "  <thead>\n",
       "    <tr style=\"text-align: right;\">\n",
       "      <th></th>\n",
       "      <th>Unnamed: 0</th>\n",
       "      <th>Date</th>\n",
       "      <th>Product</th>\n",
       "      <th>Units_Produced</th>\n",
       "      <th>Shift</th>\n",
       "      <th>Shift_Seq</th>\n",
       "      <th>Shift_Label</th>\n",
       "      <th>Shift_Code</th>\n",
       "      <th>Date_Shift_Label</th>\n",
       "    </tr>\n",
       "  </thead>\n",
       "  <tbody>\n",
       "    <tr>\n",
       "      <th>0</th>\n",
       "      <td>2</td>\n",
       "      <td>2024-10-01</td>\n",
       "      <td>A</td>\n",
       "      <td>274</td>\n",
       "      <td>Morning</td>\n",
       "      <td>1</td>\n",
       "      <td>Morning 1</td>\n",
       "      <td>1</td>\n",
       "      <td>01-Oct Morning 1</td>\n",
       "    </tr>\n",
       "    <tr>\n",
       "      <th>1</th>\n",
       "      <td>3</td>\n",
       "      <td>2024-10-01</td>\n",
       "      <td>A</td>\n",
       "      <td>369</td>\n",
       "      <td>Morning</td>\n",
       "      <td>2</td>\n",
       "      <td>Morning 2</td>\n",
       "      <td>1</td>\n",
       "      <td>01-Oct Morning 2</td>\n",
       "    </tr>\n",
       "    <tr>\n",
       "      <th>2</th>\n",
       "      <td>6</td>\n",
       "      <td>2024-10-01</td>\n",
       "      <td>A</td>\n",
       "      <td>209</td>\n",
       "      <td>Morning</td>\n",
       "      <td>3</td>\n",
       "      <td>Morning 3</td>\n",
       "      <td>1</td>\n",
       "      <td>01-Oct Morning 3</td>\n",
       "    </tr>\n",
       "    <tr>\n",
       "      <th>3</th>\n",
       "      <td>10</td>\n",
       "      <td>2024-10-01</td>\n",
       "      <td>A</td>\n",
       "      <td>356</td>\n",
       "      <td>Morning</td>\n",
       "      <td>4</td>\n",
       "      <td>Morning 4</td>\n",
       "      <td>1</td>\n",
       "      <td>01-Oct Morning 4</td>\n",
       "    </tr>\n",
       "    <tr>\n",
       "      <th>4</th>\n",
       "      <td>14</td>\n",
       "      <td>2024-10-01</td>\n",
       "      <td>A</td>\n",
       "      <td>598</td>\n",
       "      <td>Morning</td>\n",
       "      <td>5</td>\n",
       "      <td>Morning 5</td>\n",
       "      <td>1</td>\n",
       "      <td>01-Oct Morning 5</td>\n",
       "    </tr>\n",
       "    <tr>\n",
       "      <th>...</th>\n",
       "      <td>...</td>\n",
       "      <td>...</td>\n",
       "      <td>...</td>\n",
       "      <td>...</td>\n",
       "      <td>...</td>\n",
       "      <td>...</td>\n",
       "      <td>...</td>\n",
       "      <td>...</td>\n",
       "      <td>...</td>\n",
       "    </tr>\n",
       "    <tr>\n",
       "      <th>495</th>\n",
       "      <td>494</td>\n",
       "      <td>2024-10-31</td>\n",
       "      <td>C</td>\n",
       "      <td>330</td>\n",
       "      <td>Morning</td>\n",
       "      <td>2</td>\n",
       "      <td>Morning 2</td>\n",
       "      <td>1</td>\n",
       "      <td>31-Oct Morning 2</td>\n",
       "    </tr>\n",
       "    <tr>\n",
       "      <th>496</th>\n",
       "      <td>497</td>\n",
       "      <td>2024-10-31</td>\n",
       "      <td>C</td>\n",
       "      <td>564</td>\n",
       "      <td>Evening</td>\n",
       "      <td>1</td>\n",
       "      <td>Evening 1</td>\n",
       "      <td>2</td>\n",
       "      <td>31-Oct Evening 1</td>\n",
       "    </tr>\n",
       "    <tr>\n",
       "      <th>497</th>\n",
       "      <td>498</td>\n",
       "      <td>2024-10-31</td>\n",
       "      <td>C</td>\n",
       "      <td>471</td>\n",
       "      <td>Evening</td>\n",
       "      <td>2</td>\n",
       "      <td>Evening 2</td>\n",
       "      <td>2</td>\n",
       "      <td>31-Oct Evening 2</td>\n",
       "    </tr>\n",
       "    <tr>\n",
       "      <th>498</th>\n",
       "      <td>492</td>\n",
       "      <td>2024-10-31</td>\n",
       "      <td>C</td>\n",
       "      <td>141</td>\n",
       "      <td>Night</td>\n",
       "      <td>1</td>\n",
       "      <td>Night 1</td>\n",
       "      <td>3</td>\n",
       "      <td>31-Oct Night 1</td>\n",
       "    </tr>\n",
       "    <tr>\n",
       "      <th>499</th>\n",
       "      <td>495</td>\n",
       "      <td>2024-10-31</td>\n",
       "      <td>C</td>\n",
       "      <td>574</td>\n",
       "      <td>Night</td>\n",
       "      <td>2</td>\n",
       "      <td>Night 2</td>\n",
       "      <td>3</td>\n",
       "      <td>31-Oct Night 2</td>\n",
       "    </tr>\n",
       "  </tbody>\n",
       "</table>\n",
       "<p>500 rows × 9 columns</p>\n",
       "</div>"
      ],
      "text/plain": [
       "     Unnamed: 0       Date Product  Units_Produced    Shift  Shift_Seq  \\\n",
       "0             2 2024-10-01       A             274  Morning          1   \n",
       "1             3 2024-10-01       A             369  Morning          2   \n",
       "2             6 2024-10-01       A             209  Morning          3   \n",
       "3            10 2024-10-01       A             356  Morning          4   \n",
       "4            14 2024-10-01       A             598  Morning          5   \n",
       "..          ...        ...     ...             ...      ...        ...   \n",
       "495         494 2024-10-31       C             330  Morning          2   \n",
       "496         497 2024-10-31       C             564  Evening          1   \n",
       "497         498 2024-10-31       C             471  Evening          2   \n",
       "498         492 2024-10-31       C             141    Night          1   \n",
       "499         495 2024-10-31       C             574    Night          2   \n",
       "\n",
       "    Shift_Label  Shift_Code  Date_Shift_Label  \n",
       "0     Morning 1           1  01-Oct Morning 1  \n",
       "1     Morning 2           1  01-Oct Morning 2  \n",
       "2     Morning 3           1  01-Oct Morning 3  \n",
       "3     Morning 4           1  01-Oct Morning 4  \n",
       "4     Morning 5           1  01-Oct Morning 5  \n",
       "..          ...         ...               ...  \n",
       "495   Morning 2           1  31-Oct Morning 2  \n",
       "496   Evening 1           2  31-Oct Evening 1  \n",
       "497   Evening 2           2  31-Oct Evening 2  \n",
       "498     Night 1           3    31-Oct Night 1  \n",
       "499     Night 2           3    31-Oct Night 2  \n",
       "\n",
       "[500 rows x 9 columns]"
      ]
     },
     "execution_count": 127,
     "metadata": {},
     "output_type": "execute_result"
    }
   ],
   "source": [
    "df1"
   ]
  },
  {
   "cell_type": "code",
   "execution_count": 84,
   "id": "ae012e7f",
   "metadata": {},
   "outputs": [
    {
     "data": {
      "text/html": [
       "<div>\n",
       "<style scoped>\n",
       "    .dataframe tbody tr th:only-of-type {\n",
       "        vertical-align: middle;\n",
       "    }\n",
       "\n",
       "    .dataframe tbody tr th {\n",
       "        vertical-align: top;\n",
       "    }\n",
       "\n",
       "    .dataframe thead th {\n",
       "        text-align: right;\n",
       "    }\n",
       "</style>\n",
       "<table border=\"1\" class=\"dataframe\">\n",
       "  <thead>\n",
       "    <tr style=\"text-align: right;\">\n",
       "      <th></th>\n",
       "      <th>Unnamed: 0</th>\n",
       "      <th>Date</th>\n",
       "      <th>Product</th>\n",
       "      <th>Units_Produced</th>\n",
       "      <th>Shift</th>\n",
       "    </tr>\n",
       "  </thead>\n",
       "  <tbody>\n",
       "    <tr>\n",
       "      <th>0</th>\n",
       "      <td>0</td>\n",
       "      <td>2024-10-01</td>\n",
       "      <td>A</td>\n",
       "      <td>436</td>\n",
       "      <td>Night</td>\n",
       "    </tr>\n",
       "    <tr>\n",
       "      <th>1</th>\n",
       "      <td>1</td>\n",
       "      <td>2024-10-01</td>\n",
       "      <td>A</td>\n",
       "      <td>476</td>\n",
       "      <td>Night</td>\n",
       "    </tr>\n",
       "    <tr>\n",
       "      <th>2</th>\n",
       "      <td>2</td>\n",
       "      <td>2024-10-01</td>\n",
       "      <td>A</td>\n",
       "      <td>274</td>\n",
       "      <td>Morning</td>\n",
       "    </tr>\n",
       "    <tr>\n",
       "      <th>3</th>\n",
       "      <td>3</td>\n",
       "      <td>2024-10-01</td>\n",
       "      <td>A</td>\n",
       "      <td>369</td>\n",
       "      <td>Morning</td>\n",
       "    </tr>\n",
       "    <tr>\n",
       "      <th>4</th>\n",
       "      <td>4</td>\n",
       "      <td>2024-10-01</td>\n",
       "      <td>C</td>\n",
       "      <td>386</td>\n",
       "      <td>Night</td>\n",
       "    </tr>\n",
       "    <tr>\n",
       "      <th>5</th>\n",
       "      <td>5</td>\n",
       "      <td>2024-10-01</td>\n",
       "      <td>B</td>\n",
       "      <td>543</td>\n",
       "      <td>Night</td>\n",
       "    </tr>\n",
       "    <tr>\n",
       "      <th>6</th>\n",
       "      <td>6</td>\n",
       "      <td>2024-10-01</td>\n",
       "      <td>A</td>\n",
       "      <td>209</td>\n",
       "      <td>Morning</td>\n",
       "    </tr>\n",
       "    <tr>\n",
       "      <th>7</th>\n",
       "      <td>7</td>\n",
       "      <td>2024-10-01</td>\n",
       "      <td>B</td>\n",
       "      <td>6</td>\n",
       "      <td>Morning</td>\n",
       "    </tr>\n",
       "    <tr>\n",
       "      <th>8</th>\n",
       "      <td>8</td>\n",
       "      <td>2024-10-01</td>\n",
       "      <td>C</td>\n",
       "      <td>476</td>\n",
       "      <td>Night</td>\n",
       "    </tr>\n",
       "    <tr>\n",
       "      <th>9</th>\n",
       "      <td>9</td>\n",
       "      <td>2024-10-01</td>\n",
       "      <td>A</td>\n",
       "      <td>51</td>\n",
       "      <td>Evening</td>\n",
       "    </tr>\n",
       "  </tbody>\n",
       "</table>\n",
       "</div>"
      ],
      "text/plain": [
       "   Unnamed: 0       Date Product  Units_Produced    Shift\n",
       "0           0 2024-10-01       A             436    Night\n",
       "1           1 2024-10-01       A             476    Night\n",
       "2           2 2024-10-01       A             274  Morning\n",
       "3           3 2024-10-01       A             369  Morning\n",
       "4           4 2024-10-01       C             386    Night\n",
       "5           5 2024-10-01       B             543    Night\n",
       "6           6 2024-10-01       A             209  Morning\n",
       "7           7 2024-10-01       B               6  Morning\n",
       "8           8 2024-10-01       C             476    Night\n",
       "9           9 2024-10-01       A              51  Evening"
      ]
     },
     "execution_count": 84,
     "metadata": {},
     "output_type": "execute_result"
    }
   ],
   "source": [
    "df = pd.read_csv(\"df.csv\", parse_dates=[\"Date\"])\n",
    "df.head(10)"
   ]
  },
  {
   "cell_type": "code",
   "execution_count": 100,
   "id": "3a58635c",
   "metadata": {},
   "outputs": [
    {
     "data": {
      "text/html": [
       "<div>\n",
       "<style scoped>\n",
       "    .dataframe tbody tr th:only-of-type {\n",
       "        vertical-align: middle;\n",
       "    }\n",
       "\n",
       "    .dataframe tbody tr th {\n",
       "        vertical-align: top;\n",
       "    }\n",
       "\n",
       "    .dataframe thead th {\n",
       "        text-align: right;\n",
       "    }\n",
       "</style>\n",
       "<table border=\"1\" class=\"dataframe\">\n",
       "  <thead>\n",
       "    <tr style=\"text-align: right;\">\n",
       "      <th></th>\n",
       "      <th>Unnamed: 0</th>\n",
       "      <th>Date</th>\n",
       "      <th>Product</th>\n",
       "      <th>Units_Produced</th>\n",
       "      <th>Shift</th>\n",
       "      <th>Shift_Code</th>\n",
       "      <th>Shift_Seq</th>\n",
       "      <th>Shift_Label</th>\n",
       "    </tr>\n",
       "  </thead>\n",
       "  <tbody>\n",
       "    <tr>\n",
       "      <th>480</th>\n",
       "      <td>474</td>\n",
       "      <td>2024-10-30</td>\n",
       "      <td>C</td>\n",
       "      <td>364</td>\n",
       "      <td>Evening</td>\n",
       "      <td>2</td>\n",
       "      <td>2</td>\n",
       "      <td>Evening 2</td>\n",
       "    </tr>\n",
       "    <tr>\n",
       "      <th>481</th>\n",
       "      <td>464</td>\n",
       "      <td>2024-10-30</td>\n",
       "      <td>C</td>\n",
       "      <td>374</td>\n",
       "      <td>Night</td>\n",
       "      <td>3</td>\n",
       "      <td>1</td>\n",
       "      <td>Night 1</td>\n",
       "    </tr>\n",
       "    <tr>\n",
       "      <th>482</th>\n",
       "      <td>475</td>\n",
       "      <td>2024-10-30</td>\n",
       "      <td>C</td>\n",
       "      <td>523</td>\n",
       "      <td>Night</td>\n",
       "      <td>3</td>\n",
       "      <td>2</td>\n",
       "      <td>Night 2</td>\n",
       "    </tr>\n",
       "    <tr>\n",
       "      <th>483</th>\n",
       "      <td>484</td>\n",
       "      <td>2024-10-31</td>\n",
       "      <td>A</td>\n",
       "      <td>111</td>\n",
       "      <td>Morning</td>\n",
       "      <td>1</td>\n",
       "      <td>1</td>\n",
       "      <td>Morning 1</td>\n",
       "    </tr>\n",
       "    <tr>\n",
       "      <th>484</th>\n",
       "      <td>486</td>\n",
       "      <td>2024-10-31</td>\n",
       "      <td>A</td>\n",
       "      <td>113</td>\n",
       "      <td>Morning</td>\n",
       "      <td>1</td>\n",
       "      <td>2</td>\n",
       "      <td>Morning 2</td>\n",
       "    </tr>\n",
       "    <tr>\n",
       "      <th>485</th>\n",
       "      <td>487</td>\n",
       "      <td>2024-10-31</td>\n",
       "      <td>A</td>\n",
       "      <td>436</td>\n",
       "      <td>Morning</td>\n",
       "      <td>1</td>\n",
       "      <td>3</td>\n",
       "      <td>Morning 3</td>\n",
       "    </tr>\n",
       "    <tr>\n",
       "      <th>486</th>\n",
       "      <td>489</td>\n",
       "      <td>2024-10-31</td>\n",
       "      <td>A</td>\n",
       "      <td>477</td>\n",
       "      <td>Morning</td>\n",
       "      <td>1</td>\n",
       "      <td>4</td>\n",
       "      <td>Morning 4</td>\n",
       "    </tr>\n",
       "    <tr>\n",
       "      <th>487</th>\n",
       "      <td>493</td>\n",
       "      <td>2024-10-31</td>\n",
       "      <td>A</td>\n",
       "      <td>407</td>\n",
       "      <td>Morning</td>\n",
       "      <td>1</td>\n",
       "      <td>5</td>\n",
       "      <td>Morning 5</td>\n",
       "    </tr>\n",
       "    <tr>\n",
       "      <th>488</th>\n",
       "      <td>483</td>\n",
       "      <td>2024-10-31</td>\n",
       "      <td>A</td>\n",
       "      <td>237</td>\n",
       "      <td>Night</td>\n",
       "      <td>3</td>\n",
       "      <td>1</td>\n",
       "      <td>Night 1</td>\n",
       "    </tr>\n",
       "    <tr>\n",
       "      <th>489</th>\n",
       "      <td>491</td>\n",
       "      <td>2024-10-31</td>\n",
       "      <td>A</td>\n",
       "      <td>227</td>\n",
       "      <td>Night</td>\n",
       "      <td>3</td>\n",
       "      <td>2</td>\n",
       "      <td>Night 2</td>\n",
       "    </tr>\n",
       "    <tr>\n",
       "      <th>490</th>\n",
       "      <td>485</td>\n",
       "      <td>2024-10-31</td>\n",
       "      <td>B</td>\n",
       "      <td>25</td>\n",
       "      <td>Morning</td>\n",
       "      <td>1</td>\n",
       "      <td>1</td>\n",
       "      <td>Morning 1</td>\n",
       "    </tr>\n",
       "    <tr>\n",
       "      <th>491</th>\n",
       "      <td>499</td>\n",
       "      <td>2024-10-31</td>\n",
       "      <td>B</td>\n",
       "      <td>18</td>\n",
       "      <td>Morning</td>\n",
       "      <td>1</td>\n",
       "      <td>2</td>\n",
       "      <td>Morning 2</td>\n",
       "    </tr>\n",
       "    <tr>\n",
       "      <th>492</th>\n",
       "      <td>490</td>\n",
       "      <td>2024-10-31</td>\n",
       "      <td>B</td>\n",
       "      <td>497</td>\n",
       "      <td>Evening</td>\n",
       "      <td>2</td>\n",
       "      <td>1</td>\n",
       "      <td>Evening 1</td>\n",
       "    </tr>\n",
       "    <tr>\n",
       "      <th>493</th>\n",
       "      <td>496</td>\n",
       "      <td>2024-10-31</td>\n",
       "      <td>B</td>\n",
       "      <td>133</td>\n",
       "      <td>Evening</td>\n",
       "      <td>2</td>\n",
       "      <td>2</td>\n",
       "      <td>Evening 2</td>\n",
       "    </tr>\n",
       "    <tr>\n",
       "      <th>494</th>\n",
       "      <td>488</td>\n",
       "      <td>2024-10-31</td>\n",
       "      <td>C</td>\n",
       "      <td>516</td>\n",
       "      <td>Morning</td>\n",
       "      <td>1</td>\n",
       "      <td>1</td>\n",
       "      <td>Morning 1</td>\n",
       "    </tr>\n",
       "    <tr>\n",
       "      <th>495</th>\n",
       "      <td>494</td>\n",
       "      <td>2024-10-31</td>\n",
       "      <td>C</td>\n",
       "      <td>330</td>\n",
       "      <td>Morning</td>\n",
       "      <td>1</td>\n",
       "      <td>2</td>\n",
       "      <td>Morning 2</td>\n",
       "    </tr>\n",
       "    <tr>\n",
       "      <th>496</th>\n",
       "      <td>497</td>\n",
       "      <td>2024-10-31</td>\n",
       "      <td>C</td>\n",
       "      <td>564</td>\n",
       "      <td>Evening</td>\n",
       "      <td>2</td>\n",
       "      <td>1</td>\n",
       "      <td>Evening 1</td>\n",
       "    </tr>\n",
       "    <tr>\n",
       "      <th>497</th>\n",
       "      <td>498</td>\n",
       "      <td>2024-10-31</td>\n",
       "      <td>C</td>\n",
       "      <td>471</td>\n",
       "      <td>Evening</td>\n",
       "      <td>2</td>\n",
       "      <td>2</td>\n",
       "      <td>Evening 2</td>\n",
       "    </tr>\n",
       "    <tr>\n",
       "      <th>498</th>\n",
       "      <td>492</td>\n",
       "      <td>2024-10-31</td>\n",
       "      <td>C</td>\n",
       "      <td>141</td>\n",
       "      <td>Night</td>\n",
       "      <td>3</td>\n",
       "      <td>1</td>\n",
       "      <td>Night 1</td>\n",
       "    </tr>\n",
       "    <tr>\n",
       "      <th>499</th>\n",
       "      <td>495</td>\n",
       "      <td>2024-10-31</td>\n",
       "      <td>C</td>\n",
       "      <td>574</td>\n",
       "      <td>Night</td>\n",
       "      <td>3</td>\n",
       "      <td>2</td>\n",
       "      <td>Night 2</td>\n",
       "    </tr>\n",
       "  </tbody>\n",
       "</table>\n",
       "</div>"
      ],
      "text/plain": [
       "     Unnamed: 0       Date Product  Units_Produced    Shift  Shift_Code  \\\n",
       "480         474 2024-10-30       C             364  Evening           2   \n",
       "481         464 2024-10-30       C             374    Night           3   \n",
       "482         475 2024-10-30       C             523    Night           3   \n",
       "483         484 2024-10-31       A             111  Morning           1   \n",
       "484         486 2024-10-31       A             113  Morning           1   \n",
       "485         487 2024-10-31       A             436  Morning           1   \n",
       "486         489 2024-10-31       A             477  Morning           1   \n",
       "487         493 2024-10-31       A             407  Morning           1   \n",
       "488         483 2024-10-31       A             237    Night           3   \n",
       "489         491 2024-10-31       A             227    Night           3   \n",
       "490         485 2024-10-31       B              25  Morning           1   \n",
       "491         499 2024-10-31       B              18  Morning           1   \n",
       "492         490 2024-10-31       B             497  Evening           2   \n",
       "493         496 2024-10-31       B             133  Evening           2   \n",
       "494         488 2024-10-31       C             516  Morning           1   \n",
       "495         494 2024-10-31       C             330  Morning           1   \n",
       "496         497 2024-10-31       C             564  Evening           2   \n",
       "497         498 2024-10-31       C             471  Evening           2   \n",
       "498         492 2024-10-31       C             141    Night           3   \n",
       "499         495 2024-10-31       C             574    Night           3   \n",
       "\n",
       "     Shift_Seq Shift_Label  \n",
       "480          2   Evening 2  \n",
       "481          1     Night 1  \n",
       "482          2     Night 2  \n",
       "483          1   Morning 1  \n",
       "484          2   Morning 2  \n",
       "485          3   Morning 3  \n",
       "486          4   Morning 4  \n",
       "487          5   Morning 5  \n",
       "488          1     Night 1  \n",
       "489          2     Night 2  \n",
       "490          1   Morning 1  \n",
       "491          2   Morning 2  \n",
       "492          1   Evening 1  \n",
       "493          2   Evening 2  \n",
       "494          1   Morning 1  \n",
       "495          2   Morning 2  \n",
       "496          1   Evening 1  \n",
       "497          2   Evening 2  \n",
       "498          1     Night 1  \n",
       "499          2     Night 2  "
      ]
     },
     "execution_count": 100,
     "metadata": {},
     "output_type": "execute_result"
    }
   ],
   "source": [
    "df['Shift_Seq'] = df.groupby(['Date', 'Product', 'Shift']).cumcount() + 1\n",
    "df['Shift_Label'] = df['Shift'] + ' ' + df['Shift_Seq'].astype(str)\n",
    "\n",
    "#  Map shift names to a custom order\n",
    "shift_order = {'Morning': 1, 'Evening': 2, 'Night': 3}\n",
    "df['Shift_Code'] = df['Shift'].map(shift_order)\n",
    "\n",
    "# Now sort by Date, Product, Shift_Code, Shift_Seq\n",
    "df1 = df.sort_values(['Date', 'Product', 'Shift_Code', 'Shift_Seq']).reset_index(drop=True)\n",
    "\n",
    "df1.tail(20)\n"
   ]
  },
  {
   "cell_type": "code",
   "execution_count": null,
   "id": "d18cc7e7",
   "metadata": {},
   "outputs": [
    {
     "data": {
      "text/html": [
       "<div>\n",
       "<style scoped>\n",
       "    .dataframe tbody tr th:only-of-type {\n",
       "        vertical-align: middle;\n",
       "    }\n",
       "\n",
       "    .dataframe tbody tr th {\n",
       "        vertical-align: top;\n",
       "    }\n",
       "\n",
       "    .dataframe thead th {\n",
       "        text-align: right;\n",
       "    }\n",
       "</style>\n",
       "<table border=\"1\" class=\"dataframe\">\n",
       "  <thead>\n",
       "    <tr style=\"text-align: right;\">\n",
       "      <th></th>\n",
       "      <th>Unnamed: 0</th>\n",
       "      <th>Date</th>\n",
       "      <th>Product</th>\n",
       "      <th>Units_Produced</th>\n",
       "      <th>Shift</th>\n",
       "      <th>Shift_Code</th>\n",
       "      <th>Shift_Seq</th>\n",
       "      <th>Shift_Label</th>\n",
       "    </tr>\n",
       "  </thead>\n",
       "  <tbody>\n",
       "    <tr>\n",
       "      <th>0</th>\n",
       "      <td>2</td>\n",
       "      <td>2024-10-01</td>\n",
       "      <td>A</td>\n",
       "      <td>274</td>\n",
       "      <td>Morning</td>\n",
       "      <td>1</td>\n",
       "      <td>1</td>\n",
       "      <td>Morning 1</td>\n",
       "    </tr>\n",
       "    <tr>\n",
       "      <th>1</th>\n",
       "      <td>3</td>\n",
       "      <td>2024-10-01</td>\n",
       "      <td>A</td>\n",
       "      <td>369</td>\n",
       "      <td>Morning</td>\n",
       "      <td>1</td>\n",
       "      <td>2</td>\n",
       "      <td>Morning 2</td>\n",
       "    </tr>\n",
       "    <tr>\n",
       "      <th>2</th>\n",
       "      <td>6</td>\n",
       "      <td>2024-10-01</td>\n",
       "      <td>A</td>\n",
       "      <td>209</td>\n",
       "      <td>Morning</td>\n",
       "      <td>1</td>\n",
       "      <td>3</td>\n",
       "      <td>Morning 3</td>\n",
       "    </tr>\n",
       "    <tr>\n",
       "      <th>3</th>\n",
       "      <td>10</td>\n",
       "      <td>2024-10-01</td>\n",
       "      <td>A</td>\n",
       "      <td>356</td>\n",
       "      <td>Morning</td>\n",
       "      <td>1</td>\n",
       "      <td>4</td>\n",
       "      <td>Morning 4</td>\n",
       "    </tr>\n",
       "    <tr>\n",
       "      <th>4</th>\n",
       "      <td>14</td>\n",
       "      <td>2024-10-01</td>\n",
       "      <td>A</td>\n",
       "      <td>598</td>\n",
       "      <td>Morning</td>\n",
       "      <td>1</td>\n",
       "      <td>5</td>\n",
       "      <td>Morning 5</td>\n",
       "    </tr>\n",
       "    <tr>\n",
       "      <th>5</th>\n",
       "      <td>21</td>\n",
       "      <td>2024-10-01</td>\n",
       "      <td>A</td>\n",
       "      <td>402</td>\n",
       "      <td>Morning</td>\n",
       "      <td>1</td>\n",
       "      <td>6</td>\n",
       "      <td>Morning 6</td>\n",
       "    </tr>\n",
       "    <tr>\n",
       "      <th>6</th>\n",
       "      <td>9</td>\n",
       "      <td>2024-10-01</td>\n",
       "      <td>A</td>\n",
       "      <td>51</td>\n",
       "      <td>Evening</td>\n",
       "      <td>2</td>\n",
       "      <td>1</td>\n",
       "      <td>Evening 1</td>\n",
       "    </tr>\n",
       "    <tr>\n",
       "      <th>7</th>\n",
       "      <td>0</td>\n",
       "      <td>2024-10-01</td>\n",
       "      <td>A</td>\n",
       "      <td>436</td>\n",
       "      <td>Night</td>\n",
       "      <td>3</td>\n",
       "      <td>1</td>\n",
       "      <td>Night 1</td>\n",
       "    </tr>\n",
       "    <tr>\n",
       "      <th>8</th>\n",
       "      <td>1</td>\n",
       "      <td>2024-10-01</td>\n",
       "      <td>A</td>\n",
       "      <td>476</td>\n",
       "      <td>Night</td>\n",
       "      <td>3</td>\n",
       "      <td>2</td>\n",
       "      <td>Night 2</td>\n",
       "    </tr>\n",
       "    <tr>\n",
       "      <th>9</th>\n",
       "      <td>12</td>\n",
       "      <td>2024-10-01</td>\n",
       "      <td>A</td>\n",
       "      <td>140</td>\n",
       "      <td>Night</td>\n",
       "      <td>3</td>\n",
       "      <td>3</td>\n",
       "      <td>Night 3</td>\n",
       "    </tr>\n",
       "    <tr>\n",
       "      <th>10</th>\n",
       "      <td>13</td>\n",
       "      <td>2024-10-01</td>\n",
       "      <td>A</td>\n",
       "      <td>118</td>\n",
       "      <td>Night</td>\n",
       "      <td>3</td>\n",
       "      <td>4</td>\n",
       "      <td>Night 4</td>\n",
       "    </tr>\n",
       "    <tr>\n",
       "      <th>11</th>\n",
       "      <td>7</td>\n",
       "      <td>2024-10-01</td>\n",
       "      <td>B</td>\n",
       "      <td>6</td>\n",
       "      <td>Morning</td>\n",
       "      <td>1</td>\n",
       "      <td>1</td>\n",
       "      <td>Morning 1</td>\n",
       "    </tr>\n",
       "    <tr>\n",
       "      <th>12</th>\n",
       "      <td>11</td>\n",
       "      <td>2024-10-01</td>\n",
       "      <td>B</td>\n",
       "      <td>69</td>\n",
       "      <td>Morning</td>\n",
       "      <td>1</td>\n",
       "      <td>2</td>\n",
       "      <td>Morning 2</td>\n",
       "    </tr>\n",
       "    <tr>\n",
       "      <th>13</th>\n",
       "      <td>16</td>\n",
       "      <td>2024-10-01</td>\n",
       "      <td>B</td>\n",
       "      <td>261</td>\n",
       "      <td>Morning</td>\n",
       "      <td>1</td>\n",
       "      <td>3</td>\n",
       "      <td>Morning 3</td>\n",
       "    </tr>\n",
       "    <tr>\n",
       "      <th>14</th>\n",
       "      <td>18</td>\n",
       "      <td>2024-10-01</td>\n",
       "      <td>B</td>\n",
       "      <td>39</td>\n",
       "      <td>Morning</td>\n",
       "      <td>1</td>\n",
       "      <td>4</td>\n",
       "      <td>Morning 4</td>\n",
       "    </tr>\n",
       "    <tr>\n",
       "      <th>15</th>\n",
       "      <td>19</td>\n",
       "      <td>2024-10-01</td>\n",
       "      <td>B</td>\n",
       "      <td>271</td>\n",
       "      <td>Morning</td>\n",
       "      <td>1</td>\n",
       "      <td>5</td>\n",
       "      <td>Morning 5</td>\n",
       "    </tr>\n",
       "    <tr>\n",
       "      <th>16</th>\n",
       "      <td>5</td>\n",
       "      <td>2024-10-01</td>\n",
       "      <td>B</td>\n",
       "      <td>543</td>\n",
       "      <td>Night</td>\n",
       "      <td>3</td>\n",
       "      <td>1</td>\n",
       "      <td>Night 1</td>\n",
       "    </tr>\n",
       "    <tr>\n",
       "      <th>17</th>\n",
       "      <td>20</td>\n",
       "      <td>2024-10-01</td>\n",
       "      <td>B</td>\n",
       "      <td>53</td>\n",
       "      <td>Night</td>\n",
       "      <td>3</td>\n",
       "      <td>2</td>\n",
       "      <td>Night 2</td>\n",
       "    </tr>\n",
       "    <tr>\n",
       "      <th>18</th>\n",
       "      <td>24</td>\n",
       "      <td>2024-10-01</td>\n",
       "      <td>B</td>\n",
       "      <td>576</td>\n",
       "      <td>Night</td>\n",
       "      <td>3</td>\n",
       "      <td>3</td>\n",
       "      <td>Night 3</td>\n",
       "    </tr>\n",
       "    <tr>\n",
       "      <th>19</th>\n",
       "      <td>23</td>\n",
       "      <td>2024-10-01</td>\n",
       "      <td>C</td>\n",
       "      <td>295</td>\n",
       "      <td>Evening</td>\n",
       "      <td>2</td>\n",
       "      <td>1</td>\n",
       "      <td>Evening 1</td>\n",
       "    </tr>\n",
       "  </tbody>\n",
       "</table>\n",
       "</div>"
      ],
      "text/plain": [
       "    Unnamed: 0       Date Product  Units_Produced    Shift  Shift_Code  \\\n",
       "0            2 2024-10-01       A             274  Morning           1   \n",
       "1            3 2024-10-01       A             369  Morning           1   \n",
       "2            6 2024-10-01       A             209  Morning           1   \n",
       "3           10 2024-10-01       A             356  Morning           1   \n",
       "4           14 2024-10-01       A             598  Morning           1   \n",
       "5           21 2024-10-01       A             402  Morning           1   \n",
       "6            9 2024-10-01       A              51  Evening           2   \n",
       "7            0 2024-10-01       A             436    Night           3   \n",
       "8            1 2024-10-01       A             476    Night           3   \n",
       "9           12 2024-10-01       A             140    Night           3   \n",
       "10          13 2024-10-01       A             118    Night           3   \n",
       "11           7 2024-10-01       B               6  Morning           1   \n",
       "12          11 2024-10-01       B              69  Morning           1   \n",
       "13          16 2024-10-01       B             261  Morning           1   \n",
       "14          18 2024-10-01       B              39  Morning           1   \n",
       "15          19 2024-10-01       B             271  Morning           1   \n",
       "16           5 2024-10-01       B             543    Night           3   \n",
       "17          20 2024-10-01       B              53    Night           3   \n",
       "18          24 2024-10-01       B             576    Night           3   \n",
       "19          23 2024-10-01       C             295  Evening           2   \n",
       "\n",
       "    Shift_Seq Shift_Label  \n",
       "0           1   Morning 1  \n",
       "1           2   Morning 2  \n",
       "2           3   Morning 3  \n",
       "3           4   Morning 4  \n",
       "4           5   Morning 5  \n",
       "5           6   Morning 6  \n",
       "6           1   Evening 1  \n",
       "7           1     Night 1  \n",
       "8           2     Night 2  \n",
       "9           3     Night 3  \n",
       "10          4     Night 4  \n",
       "11          1   Morning 1  \n",
       "12          2   Morning 2  \n",
       "13          3   Morning 3  \n",
       "14          4   Morning 4  \n",
       "15          5   Morning 5  \n",
       "16          1     Night 1  \n",
       "17          2     Night 2  \n",
       "18          3     Night 3  \n",
       "19          1   Evening 1  "
      ]
     },
     "execution_count": 102,
     "metadata": {},
     "output_type": "execute_result"
    }
   ],
   "source": [
    "df1.head(20)"
   ]
  },
  {
   "cell_type": "code",
   "execution_count": 105,
   "id": "d4354861",
   "metadata": {},
   "outputs": [],
   "source": [
    "df1_A = df1[df1['Product'] == 'A'].copy()\n",
    "df1_B = df1[df1['Product'] == 'B'].copy()\n",
    "df1_C = df1[df1['Product'] == 'C'].copy()"
   ]
  },
  {
   "cell_type": "code",
   "execution_count": 128,
   "id": "1c97b913",
   "metadata": {},
   "outputs": [],
   "source": [
    "# If you want to plot, use this sorted df1_A\n",
    "df1_A['Date_Shift_Label'] = df1_A['Date'].dt.strftime('%d-%b') + ' ' + df1_A['Shift_Label'].astype(str)\n",
    "df1_A['Date_Shift_Label'] = pd.Categorical(df1_A['Date_Shift_Label'], categories=df1_A['Date_Shift_Label'].unique(), ordered=True)\n"
   ]
  },
  {
   "cell_type": "code",
   "execution_count": null,
   "id": "825793c5",
   "metadata": {},
   "outputs": [],
   "source": [
    "\n",
    "# If you want to plot, use this sorted df1_B\n",
    "df1_B['Date_Shift_Label'] = df1_B['Date'].dt.strftime('%d-%b') + ' ' + df1_B['Shift_Label'].astype(str)\n",
    "df1_B['Date_Shift_Label'] = pd.Categorical(df1_B['Date_Shift_Label'], categories=df1_B['Date_Shift_Label'].unique(), ordered=True)\n"
   ]
  },
  {
   "cell_type": "code",
   "execution_count": 133,
   "id": "a6a5daf0",
   "metadata": {},
   "outputs": [
    {
     "data": {
      "text/html": [
       "<div>\n",
       "<style scoped>\n",
       "    .dataframe tbody tr th:only-of-type {\n",
       "        vertical-align: middle;\n",
       "    }\n",
       "\n",
       "    .dataframe tbody tr th {\n",
       "        vertical-align: top;\n",
       "    }\n",
       "\n",
       "    .dataframe thead th {\n",
       "        text-align: right;\n",
       "    }\n",
       "</style>\n",
       "<table border=\"1\" class=\"dataframe\">\n",
       "  <thead>\n",
       "    <tr style=\"text-align: right;\">\n",
       "      <th></th>\n",
       "      <th>Unnamed: 0</th>\n",
       "      <th>Date</th>\n",
       "      <th>Product</th>\n",
       "      <th>Units_Produced</th>\n",
       "      <th>Shift</th>\n",
       "      <th>Shift_Code</th>\n",
       "      <th>Shift_Seq</th>\n",
       "      <th>Shift_Label</th>\n",
       "      <th>Date_Shift_Label</th>\n",
       "    </tr>\n",
       "  </thead>\n",
       "  <tbody>\n",
       "    <tr>\n",
       "      <th>11</th>\n",
       "      <td>7</td>\n",
       "      <td>2024-10-01</td>\n",
       "      <td>B</td>\n",
       "      <td>6</td>\n",
       "      <td>Morning</td>\n",
       "      <td>1</td>\n",
       "      <td>1</td>\n",
       "      <td>Morning 1</td>\n",
       "      <td>01-Oct Morning 1</td>\n",
       "    </tr>\n",
       "    <tr>\n",
       "      <th>12</th>\n",
       "      <td>11</td>\n",
       "      <td>2024-10-01</td>\n",
       "      <td>B</td>\n",
       "      <td>69</td>\n",
       "      <td>Morning</td>\n",
       "      <td>1</td>\n",
       "      <td>2</td>\n",
       "      <td>Morning 2</td>\n",
       "      <td>01-Oct Morning 2</td>\n",
       "    </tr>\n",
       "    <tr>\n",
       "      <th>13</th>\n",
       "      <td>16</td>\n",
       "      <td>2024-10-01</td>\n",
       "      <td>B</td>\n",
       "      <td>261</td>\n",
       "      <td>Morning</td>\n",
       "      <td>1</td>\n",
       "      <td>3</td>\n",
       "      <td>Morning 3</td>\n",
       "      <td>01-Oct Morning 3</td>\n",
       "    </tr>\n",
       "    <tr>\n",
       "      <th>14</th>\n",
       "      <td>18</td>\n",
       "      <td>2024-10-01</td>\n",
       "      <td>B</td>\n",
       "      <td>39</td>\n",
       "      <td>Morning</td>\n",
       "      <td>1</td>\n",
       "      <td>4</td>\n",
       "      <td>Morning 4</td>\n",
       "      <td>01-Oct Morning 4</td>\n",
       "    </tr>\n",
       "    <tr>\n",
       "      <th>15</th>\n",
       "      <td>19</td>\n",
       "      <td>2024-10-01</td>\n",
       "      <td>B</td>\n",
       "      <td>271</td>\n",
       "      <td>Morning</td>\n",
       "      <td>1</td>\n",
       "      <td>5</td>\n",
       "      <td>Morning 5</td>\n",
       "      <td>01-Oct Morning 5</td>\n",
       "    </tr>\n",
       "    <tr>\n",
       "      <th>...</th>\n",
       "      <td>...</td>\n",
       "      <td>...</td>\n",
       "      <td>...</td>\n",
       "      <td>...</td>\n",
       "      <td>...</td>\n",
       "      <td>...</td>\n",
       "      <td>...</td>\n",
       "      <td>...</td>\n",
       "      <td>...</td>\n",
       "    </tr>\n",
       "    <tr>\n",
       "      <th>478</th>\n",
       "      <td>471</td>\n",
       "      <td>2024-10-30</td>\n",
       "      <td>B</td>\n",
       "      <td>234</td>\n",
       "      <td>Night</td>\n",
       "      <td>3</td>\n",
       "      <td>3</td>\n",
       "      <td>Night 3</td>\n",
       "      <td>30-Oct Night 3</td>\n",
       "    </tr>\n",
       "    <tr>\n",
       "      <th>490</th>\n",
       "      <td>485</td>\n",
       "      <td>2024-10-31</td>\n",
       "      <td>B</td>\n",
       "      <td>25</td>\n",
       "      <td>Morning</td>\n",
       "      <td>1</td>\n",
       "      <td>1</td>\n",
       "      <td>Morning 1</td>\n",
       "      <td>31-Oct Morning 1</td>\n",
       "    </tr>\n",
       "    <tr>\n",
       "      <th>491</th>\n",
       "      <td>499</td>\n",
       "      <td>2024-10-31</td>\n",
       "      <td>B</td>\n",
       "      <td>18</td>\n",
       "      <td>Morning</td>\n",
       "      <td>1</td>\n",
       "      <td>2</td>\n",
       "      <td>Morning 2</td>\n",
       "      <td>31-Oct Morning 2</td>\n",
       "    </tr>\n",
       "    <tr>\n",
       "      <th>492</th>\n",
       "      <td>490</td>\n",
       "      <td>2024-10-31</td>\n",
       "      <td>B</td>\n",
       "      <td>497</td>\n",
       "      <td>Evening</td>\n",
       "      <td>2</td>\n",
       "      <td>1</td>\n",
       "      <td>Evening 1</td>\n",
       "      <td>31-Oct Evening 1</td>\n",
       "    </tr>\n",
       "    <tr>\n",
       "      <th>493</th>\n",
       "      <td>496</td>\n",
       "      <td>2024-10-31</td>\n",
       "      <td>B</td>\n",
       "      <td>133</td>\n",
       "      <td>Evening</td>\n",
       "      <td>2</td>\n",
       "      <td>2</td>\n",
       "      <td>Evening 2</td>\n",
       "      <td>31-Oct Evening 2</td>\n",
       "    </tr>\n",
       "  </tbody>\n",
       "</table>\n",
       "<p>156 rows × 9 columns</p>\n",
       "</div>"
      ],
      "text/plain": [
       "     Unnamed: 0       Date Product  Units_Produced    Shift  Shift_Code  \\\n",
       "11            7 2024-10-01       B               6  Morning           1   \n",
       "12           11 2024-10-01       B              69  Morning           1   \n",
       "13           16 2024-10-01       B             261  Morning           1   \n",
       "14           18 2024-10-01       B              39  Morning           1   \n",
       "15           19 2024-10-01       B             271  Morning           1   \n",
       "..          ...        ...     ...             ...      ...         ...   \n",
       "478         471 2024-10-30       B             234    Night           3   \n",
       "490         485 2024-10-31       B              25  Morning           1   \n",
       "491         499 2024-10-31       B              18  Morning           1   \n",
       "492         490 2024-10-31       B             497  Evening           2   \n",
       "493         496 2024-10-31       B             133  Evening           2   \n",
       "\n",
       "     Shift_Seq Shift_Label  Date_Shift_Label  \n",
       "11           1   Morning 1  01-Oct Morning 1  \n",
       "12           2   Morning 2  01-Oct Morning 2  \n",
       "13           3   Morning 3  01-Oct Morning 3  \n",
       "14           4   Morning 4  01-Oct Morning 4  \n",
       "15           5   Morning 5  01-Oct Morning 5  \n",
       "..         ...         ...               ...  \n",
       "478          3     Night 3    30-Oct Night 3  \n",
       "490          1   Morning 1  31-Oct Morning 1  \n",
       "491          2   Morning 2  31-Oct Morning 2  \n",
       "492          1   Evening 1  31-Oct Evening 1  \n",
       "493          2   Evening 2  31-Oct Evening 2  \n",
       "\n",
       "[156 rows x 9 columns]"
      ]
     },
     "execution_count": 133,
     "metadata": {},
     "output_type": "execute_result"
    }
   ],
   "source": [
    "df1_B"
   ]
  },
  {
   "cell_type": "code",
   "execution_count": 142,
   "id": "ce18c521",
   "metadata": {},
   "outputs": [
    {
     "data": {
      "application/vnd.plotly.v1+json": {
       "config": {
        "plotlyServerURL": "https://plot.ly"
       },
       "data": [
        {
         "customdata": [
          [
           "Morning 1"
          ],
          [
           "Morning 2"
          ],
          [
           "Morning 3"
          ],
          [
           "Morning 4"
          ],
          [
           "Morning 5"
          ],
          [
           "Night 1"
          ],
          [
           "Night 2"
          ],
          [
           "Night 3"
          ],
          [
           "Morning 1"
          ],
          [
           "Evening 1"
          ],
          [
           "Night 1"
          ],
          [
           "Night 2"
          ],
          [
           "Morning 1"
          ],
          [
           "Evening 1"
          ],
          [
           "Evening 2"
          ],
          [
           "Evening 3"
          ],
          [
           "Night 1"
          ],
          [
           "Night 2"
          ],
          [
           "Night 3"
          ],
          [
           "Morning 1"
          ],
          [
           "Morning 2"
          ],
          [
           "Evening 1"
          ],
          [
           "Night 1"
          ],
          [
           "Night 2"
          ],
          [
           "Morning 1"
          ],
          [
           "Morning 2"
          ],
          [
           "Evening 1"
          ],
          [
           "Evening 2"
          ],
          [
           "Night 1"
          ],
          [
           "Night 2"
          ],
          [
           "Night 3"
          ],
          [
           "Morning 1"
          ],
          [
           "Evening 1"
          ],
          [
           "Evening 2"
          ],
          [
           "Night 1"
          ],
          [
           "Morning 1"
          ],
          [
           "Morning 2"
          ],
          [
           "Evening 1"
          ],
          [
           "Evening 2"
          ],
          [
           "Evening 3"
          ],
          [
           "Morning 1"
          ],
          [
           "Morning 2"
          ],
          [
           "Evening 1"
          ],
          [
           "Evening 2"
          ],
          [
           "Night 1"
          ],
          [
           "Morning 1"
          ],
          [
           "Evening 1"
          ],
          [
           "Morning 1"
          ],
          [
           "Morning 2"
          ],
          [
           "Evening 1"
          ],
          [
           "Evening 2"
          ],
          [
           "Evening 1"
          ],
          [
           "Evening 2"
          ],
          [
           "Night 1"
          ],
          [
           "Evening 1"
          ],
          [
           "Evening 2"
          ],
          [
           "Night 1"
          ],
          [
           "Night 2"
          ],
          [
           "Night 3"
          ],
          [
           "Evening 1"
          ],
          [
           "Morning 1"
          ],
          [
           "Morning 2"
          ],
          [
           "Morning 3"
          ],
          [
           "Night 1"
          ],
          [
           "Morning 1"
          ],
          [
           "Evening 1"
          ],
          [
           "Evening 2"
          ],
          [
           "Morning 1"
          ],
          [
           "Morning 2"
          ],
          [
           "Morning 3"
          ],
          [
           "Morning 4"
          ],
          [
           "Evening 1"
          ],
          [
           "Night 1"
          ],
          [
           "Morning 1"
          ],
          [
           "Evening 1"
          ],
          [
           "Night 1"
          ],
          [
           "Night 2"
          ],
          [
           "Night 3"
          ],
          [
           "Morning 1"
          ],
          [
           "Morning 2"
          ],
          [
           "Night 1"
          ],
          [
           "Morning 1"
          ],
          [
           "Morning 2"
          ],
          [
           "Morning 3"
          ],
          [
           "Evening 1"
          ],
          [
           "Night 1"
          ],
          [
           "Night 2"
          ],
          [
           "Night 3"
          ],
          [
           "Night 4"
          ],
          [
           "Morning 1"
          ],
          [
           "Morning 2"
          ],
          [
           "Evening 1"
          ],
          [
           "Evening 2"
          ],
          [
           "Evening 3"
          ],
          [
           "Evening 4"
          ],
          [
           "Night 1"
          ],
          [
           "Night 2"
          ],
          [
           "Evening 1"
          ],
          [
           "Evening 2"
          ],
          [
           "Evening 3"
          ],
          [
           "Night 1"
          ],
          [
           "Night 2"
          ],
          [
           "Morning 1"
          ],
          [
           "Morning 2"
          ],
          [
           "Morning 3"
          ],
          [
           "Night 1"
          ],
          [
           "Night 2"
          ],
          [
           "Night 3"
          ],
          [
           "Morning 1"
          ],
          [
           "Evening 1"
          ],
          [
           "Night 1"
          ],
          [
           "Night 2"
          ],
          [
           "Night 3"
          ],
          [
           "Night 4"
          ],
          [
           "Morning 1"
          ],
          [
           "Evening 1"
          ],
          [
           "Evening 2"
          ],
          [
           "Evening 3"
          ],
          [
           "Night 1"
          ],
          [
           "Morning 1"
          ],
          [
           "Morning 2"
          ],
          [
           "Evening 1"
          ],
          [
           "Morning 1"
          ],
          [
           "Morning 2"
          ],
          [
           "Evening 1"
          ],
          [
           "Evening 2"
          ],
          [
           "Evening 3"
          ],
          [
           "Night 1"
          ],
          [
           "Night 2"
          ],
          [
           "Night 3"
          ],
          [
           "Morning 1"
          ],
          [
           "Evening 1"
          ],
          [
           "Night 1"
          ],
          [
           "Morning 1"
          ],
          [
           "Morning 2"
          ],
          [
           "Evening 1"
          ],
          [
           "Evening 2"
          ],
          [
           "Evening 3"
          ],
          [
           "Night 1"
          ],
          [
           "Night 2"
          ],
          [
           "Morning 1"
          ],
          [
           "Night 1"
          ],
          [
           "Night 2"
          ],
          [
           "Night 3"
          ],
          [
           "Night 4"
          ],
          [
           "Morning 1"
          ],
          [
           "Evening 1"
          ],
          [
           "Evening 2"
          ],
          [
           "Evening 3"
          ],
          [
           "Night 1"
          ],
          [
           "Night 2"
          ],
          [
           "Night 3"
          ],
          [
           "Morning 1"
          ],
          [
           "Morning 2"
          ],
          [
           "Evening 1"
          ],
          [
           "Evening 2"
          ]
         ],
         "hovertemplate": "Date=%{x}<br>Units_Produced=%{y}<br>Shift_Label=%{customdata[0]}",
         "legendgroup": "",
         "line": {
          "color": "#000001",
          "dash": "solid"
         },
         "marker": {
          "symbol": "circle"
         },
         "mode": "markers+lines",
         "name": "",
         "orientation": "v",
         "showlegend": false,
         "type": "scatter",
         "x": [
          "01-Oct Morning 1",
          "01-Oct Morning 2",
          "01-Oct Morning 3",
          "01-Oct Morning 4",
          "01-Oct Morning 5",
          "01-Oct Night 1",
          "01-Oct Night 2",
          "01-Oct Night 3",
          "02-Oct Morning 1",
          "02-Oct Evening 1",
          "02-Oct Night 1",
          "02-Oct Night 2",
          "03-Oct Morning 1",
          "03-Oct Evening 1",
          "03-Oct Evening 2",
          "03-Oct Evening 3",
          "03-Oct Night 1",
          "03-Oct Night 2",
          "03-Oct Night 3",
          "04-Oct Morning 1",
          "04-Oct Morning 2",
          "04-Oct Evening 1",
          "04-Oct Night 1",
          "04-Oct Night 2",
          "05-Oct Morning 1",
          "05-Oct Morning 2",
          "05-Oct Evening 1",
          "05-Oct Evening 2",
          "05-Oct Night 1",
          "05-Oct Night 2",
          "05-Oct Night 3",
          "06-Oct Morning 1",
          "06-Oct Evening 1",
          "06-Oct Evening 2",
          "06-Oct Night 1",
          "07-Oct Morning 1",
          "07-Oct Morning 2",
          "07-Oct Evening 1",
          "07-Oct Evening 2",
          "07-Oct Evening 3",
          "08-Oct Morning 1",
          "08-Oct Morning 2",
          "08-Oct Evening 1",
          "08-Oct Evening 2",
          "08-Oct Night 1",
          "09-Oct Morning 1",
          "09-Oct Evening 1",
          "10-Oct Morning 1",
          "10-Oct Morning 2",
          "10-Oct Evening 1",
          "10-Oct Evening 2",
          "11-Oct Evening 1",
          "11-Oct Evening 2",
          "11-Oct Night 1",
          "12-Oct Evening 1",
          "12-Oct Evening 2",
          "12-Oct Night 1",
          "12-Oct Night 2",
          "12-Oct Night 3",
          "13-Oct Evening 1",
          "14-Oct Morning 1",
          "14-Oct Morning 2",
          "14-Oct Morning 3",
          "14-Oct Night 1",
          "15-Oct Morning 1",
          "15-Oct Evening 1",
          "15-Oct Evening 2",
          "16-Oct Morning 1",
          "16-Oct Morning 2",
          "16-Oct Morning 3",
          "16-Oct Morning 4",
          "16-Oct Evening 1",
          "16-Oct Night 1",
          "17-Oct Morning 1",
          "17-Oct Evening 1",
          "17-Oct Night 1",
          "17-Oct Night 2",
          "17-Oct Night 3",
          "18-Oct Morning 1",
          "18-Oct Morning 2",
          "18-Oct Night 1",
          "19-Oct Morning 1",
          "19-Oct Morning 2",
          "19-Oct Morning 3",
          "19-Oct Evening 1",
          "19-Oct Night 1",
          "19-Oct Night 2",
          "19-Oct Night 3",
          "19-Oct Night 4",
          "20-Oct Morning 1",
          "20-Oct Morning 2",
          "20-Oct Evening 1",
          "20-Oct Evening 2",
          "20-Oct Evening 3",
          "20-Oct Evening 4",
          "20-Oct Night 1",
          "20-Oct Night 2",
          "21-Oct Evening 1",
          "21-Oct Evening 2",
          "21-Oct Evening 3",
          "21-Oct Night 1",
          "21-Oct Night 2",
          "22-Oct Morning 1",
          "22-Oct Morning 2",
          "22-Oct Morning 3",
          "22-Oct Night 1",
          "22-Oct Night 2",
          "22-Oct Night 3",
          "23-Oct Morning 1",
          "23-Oct Evening 1",
          "23-Oct Night 1",
          "23-Oct Night 2",
          "23-Oct Night 3",
          "23-Oct Night 4",
          "24-Oct Morning 1",
          "24-Oct Evening 1",
          "24-Oct Evening 2",
          "24-Oct Evening 3",
          "24-Oct Night 1",
          "25-Oct Morning 1",
          "25-Oct Morning 2",
          "25-Oct Evening 1",
          "26-Oct Morning 1",
          "26-Oct Morning 2",
          "26-Oct Evening 1",
          "26-Oct Evening 2",
          "26-Oct Evening 3",
          "26-Oct Night 1",
          "26-Oct Night 2",
          "26-Oct Night 3",
          "27-Oct Morning 1",
          "27-Oct Evening 1",
          "27-Oct Night 1",
          "28-Oct Morning 1",
          "28-Oct Morning 2",
          "28-Oct Evening 1",
          "28-Oct Evening 2",
          "28-Oct Evening 3",
          "28-Oct Night 1",
          "28-Oct Night 2",
          "29-Oct Morning 1",
          "29-Oct Night 1",
          "29-Oct Night 2",
          "29-Oct Night 3",
          "29-Oct Night 4",
          "30-Oct Morning 1",
          "30-Oct Evening 1",
          "30-Oct Evening 2",
          "30-Oct Evening 3",
          "30-Oct Night 1",
          "30-Oct Night 2",
          "30-Oct Night 3",
          "31-Oct Morning 1",
          "31-Oct Morning 2",
          "31-Oct Evening 1",
          "31-Oct Evening 2"
         ],
         "xaxis": "x",
         "y": [
          6,
          69,
          261,
          39,
          271,
          543,
          53,
          576,
          575,
          506,
          305,
          122,
          100,
          210,
          349,
          410,
          56,
          418,
          392,
          296,
          512,
          386,
          474,
          376,
          561,
          285,
          55,
          443,
          289,
          281,
          11,
          239,
          11,
          146,
          190,
          131,
          476,
          225,
          529,
          552,
          75,
          137,
          145,
          388,
          59,
          10,
          346,
          35,
          149,
          310,
          182,
          318,
          390,
          537,
          313,
          396,
          39,
          8,
          402,
          270,
          296,
          42,
          165,
          378,
          517,
          264,
          217,
          23,
          455,
          491,
          65,
          173,
          296,
          212,
          537,
          469,
          114,
          139,
          379,
          548,
          462,
          215,
          157,
          172,
          182,
          277,
          15,
          179,
          201,
          342,
          233,
          315,
          581,
          99,
          579,
          324,
          599,
          514,
          106,
          391,
          115,
          5,
          3,
          309,
          554,
          162,
          393,
          550,
          575,
          381,
          511,
          448,
          371,
          137,
          567,
          550,
          346,
          485,
          145,
          572,
          36,
          177,
          548,
          29,
          578,
          82,
          244,
          147,
          268,
          502,
          525,
          331,
          139,
          156,
          460,
          554,
          225,
          522,
          349,
          85,
          521,
          201,
          456,
          127,
          302,
          95,
          8,
          590,
          196,
          547,
          192,
          234,
          25,
          18,
          497,
          133
         ],
         "yaxis": "y"
        }
       ],
       "layout": {
        "height": 500,
        "legend": {
         "tracegroupgap": 0
        },
        "template": {
         "data": {
          "candlestick": [
           {
            "decreasing": {
             "line": {
              "color": "#000033"
             }
            },
            "increasing": {
             "line": {
              "color": "#000032"
             }
            },
            "type": "candlestick"
           }
          ],
          "contour": [
           {
            "colorscale": [
             [
              0,
              "#000011"
             ],
             [
              0.1111111111111111,
              "#000012"
             ],
             [
              0.2222222222222222,
              "#000013"
             ],
             [
              0.3333333333333333,
              "#000014"
             ],
             [
              0.4444444444444444,
              "#000015"
             ],
             [
              0.5555555555555556,
              "#000016"
             ],
             [
              0.6666666666666666,
              "#000017"
             ],
             [
              0.7777777777777778,
              "#000018"
             ],
             [
              0.8888888888888888,
              "#000019"
             ],
             [
              1,
              "#000020"
             ]
            ],
            "type": "contour"
           }
          ],
          "contourcarpet": [
           {
            "colorscale": [
             [
              0,
              "#000011"
             ],
             [
              0.1111111111111111,
              "#000012"
             ],
             [
              0.2222222222222222,
              "#000013"
             ],
             [
              0.3333333333333333,
              "#000014"
             ],
             [
              0.4444444444444444,
              "#000015"
             ],
             [
              0.5555555555555556,
              "#000016"
             ],
             [
              0.6666666666666666,
              "#000017"
             ],
             [
              0.7777777777777778,
              "#000018"
             ],
             [
              0.8888888888888888,
              "#000019"
             ],
             [
              1,
              "#000020"
             ]
            ],
            "type": "contourcarpet"
           }
          ],
          "heatmap": [
           {
            "colorscale": [
             [
              0,
              "#000011"
             ],
             [
              0.1111111111111111,
              "#000012"
             ],
             [
              0.2222222222222222,
              "#000013"
             ],
             [
              0.3333333333333333,
              "#000014"
             ],
             [
              0.4444444444444444,
              "#000015"
             ],
             [
              0.5555555555555556,
              "#000016"
             ],
             [
              0.6666666666666666,
              "#000017"
             ],
             [
              0.7777777777777778,
              "#000018"
             ],
             [
              0.8888888888888888,
              "#000019"
             ],
             [
              1,
              "#000020"
             ]
            ],
            "type": "heatmap"
           }
          ],
          "histogram2d": [
           {
            "colorscale": [
             [
              0,
              "#000011"
             ],
             [
              0.1111111111111111,
              "#000012"
             ],
             [
              0.2222222222222222,
              "#000013"
             ],
             [
              0.3333333333333333,
              "#000014"
             ],
             [
              0.4444444444444444,
              "#000015"
             ],
             [
              0.5555555555555556,
              "#000016"
             ],
             [
              0.6666666666666666,
              "#000017"
             ],
             [
              0.7777777777777778,
              "#000018"
             ],
             [
              0.8888888888888888,
              "#000019"
             ],
             [
              1,
              "#000020"
             ]
            ],
            "type": "histogram2d"
           }
          ],
          "icicle": [
           {
            "textfont": {
             "color": "white"
            },
            "type": "icicle"
           }
          ],
          "sankey": [
           {
            "textfont": {
             "color": "#000036"
            },
            "type": "sankey"
           }
          ],
          "scatter": [
           {
            "marker": {
             "line": {
              "width": 0
             }
            },
            "type": "scatter"
           }
          ],
          "table": [
           {
            "cells": {
             "fill": {
              "color": "#000038"
             },
             "font": {
              "color": "#000037"
             },
             "line": {
              "color": "#000039"
             }
            },
            "header": {
             "fill": {
              "color": "#000040"
             },
             "font": {
              "color": "#000036"
             },
             "line": {
              "color": "#000039"
             }
            },
            "type": "table"
           }
          ],
          "waterfall": [
           {
            "connector": {
             "line": {
              "color": "#000036",
              "width": 2
             }
            },
            "decreasing": {
             "marker": {
              "color": "#000033"
             }
            },
            "increasing": {
             "marker": {
              "color": "#000032"
             }
            },
            "totals": {
             "marker": {
              "color": "#000034"
             }
            },
            "type": "waterfall"
           }
          ]
         },
         "layout": {
          "coloraxis": {
           "colorscale": [
            [
             0,
             "#000011"
            ],
            [
             0.1111111111111111,
             "#000012"
            ],
            [
             0.2222222222222222,
             "#000013"
            ],
            [
             0.3333333333333333,
             "#000014"
            ],
            [
             0.4444444444444444,
             "#000015"
            ],
            [
             0.5555555555555556,
             "#000016"
            ],
            [
             0.6666666666666666,
             "#000017"
            ],
            [
             0.7777777777777778,
             "#000018"
            ],
            [
             0.8888888888888888,
             "#000019"
            ],
            [
             1,
             "#000020"
            ]
           ]
          },
          "colorscale": {
           "diverging": [
            [
             0,
             "#000021"
            ],
            [
             0.1,
             "#000022"
            ],
            [
             0.2,
             "#000023"
            ],
            [
             0.3,
             "#000024"
            ],
            [
             0.4,
             "#000025"
            ],
            [
             0.5,
             "#000026"
            ],
            [
             0.6,
             "#000027"
            ],
            [
             0.7,
             "#000028"
            ],
            [
             0.8,
             "#000029"
            ],
            [
             0.9,
             "#000030"
            ],
            [
             1,
             "#000031"
            ]
           ],
           "sequential": [
            [
             0,
             "#000011"
            ],
            [
             0.1111111111111111,
             "#000012"
            ],
            [
             0.2222222222222222,
             "#000013"
            ],
            [
             0.3333333333333333,
             "#000014"
            ],
            [
             0.4444444444444444,
             "#000015"
            ],
            [
             0.5555555555555556,
             "#000016"
            ],
            [
             0.6666666666666666,
             "#000017"
            ],
            [
             0.7777777777777778,
             "#000018"
            ],
            [
             0.8888888888888888,
             "#000019"
            ],
            [
             1,
             "#000020"
            ]
           ],
           "sequentialminus": [
            [
             0,
             "#000011"
            ],
            [
             0.1111111111111111,
             "#000012"
            ],
            [
             0.2222222222222222,
             "#000013"
            ],
            [
             0.3333333333333333,
             "#000014"
            ],
            [
             0.4444444444444444,
             "#000015"
            ],
            [
             0.5555555555555556,
             "#000016"
            ],
            [
             0.6666666666666666,
             "#000017"
            ],
            [
             0.7777777777777778,
             "#000018"
            ],
            [
             0.8888888888888888,
             "#000019"
            ],
            [
             1,
             "#000020"
            ]
           ]
          },
          "colorway": [
           "#000001",
           "#000002",
           "#000003",
           "#000004",
           "#000005",
           "#000006",
           "#000007",
           "#000008",
           "#000009",
           "#000010"
          ]
         }
        },
        "title": {
         "text": "Units Produced for Product A by Date and Shift"
        },
        "width": 900,
        "xaxis": {
         "anchor": "y",
         "domain": [
          0,
          1
         ],
         "title": {
          "text": "Date_Shift_Label"
         }
        },
        "yaxis": {
         "anchor": "x",
         "domain": [
          0,
          1
         ],
         "title": {
          "text": "Units_Produced"
         }
        }
       }
      }
     },
     "metadata": {},
     "output_type": "display_data"
    }
   ],
   "source": [
    "fig_A = px.line(\n",
    "    df1_B,\n",
    "    x=\"Date_Shift_Label\",\n",
    "    y=\"Units_Produced\",\n",
    "    markers=True,\n",
    "    title=\"Units Produced for Product A by Date and Shift\",\n",
    "    hover_data=[\"Shift_Label\"]\n",
    ")\n",
    "fig_A.update_traces(mode=\"markers+lines\", hovertemplate=\"Date=%{x}<br>Units_Produced=%{y}<br>Shift_Label=%{customdata[0]}\")\n",
    "fig_A.update_layout(height=500, width=900)\n",
    "fig_A.show()"
   ]
  },
  {
   "cell_type": "code",
   "execution_count": null,
   "id": "137f1a4d",
   "metadata": {},
   "outputs": [
    {
     "data": {
      "text/html": [
       "<div>\n",
       "<style scoped>\n",
       "    .dataframe tbody tr th:only-of-type {\n",
       "        vertical-align: middle;\n",
       "    }\n",
       "\n",
       "    .dataframe tbody tr th {\n",
       "        vertical-align: top;\n",
       "    }\n",
       "\n",
       "    .dataframe thead th {\n",
       "        text-align: right;\n",
       "    }\n",
       "</style>\n",
       "<table border=\"1\" class=\"dataframe\">\n",
       "  <thead>\n",
       "    <tr style=\"text-align: right;\">\n",
       "      <th></th>\n",
       "      <th>Unnamed: 0</th>\n",
       "      <th>Date</th>\n",
       "      <th>Product</th>\n",
       "      <th>Units_Produced</th>\n",
       "      <th>Shift</th>\n",
       "      <th>Shift_Code</th>\n",
       "      <th>Shift_Seq</th>\n",
       "      <th>Shift_Label</th>\n",
       "    </tr>\n",
       "  </thead>\n",
       "  <tbody>\n",
       "    <tr>\n",
       "      <th>479</th>\n",
       "      <td>465</td>\n",
       "      <td>2024-10-30</td>\n",
       "      <td>C</td>\n",
       "      <td>320</td>\n",
       "      <td>Evening</td>\n",
       "      <td>2</td>\n",
       "      <td>1</td>\n",
       "      <td>Evening 1</td>\n",
       "    </tr>\n",
       "    <tr>\n",
       "      <th>480</th>\n",
       "      <td>474</td>\n",
       "      <td>2024-10-30</td>\n",
       "      <td>C</td>\n",
       "      <td>364</td>\n",
       "      <td>Evening</td>\n",
       "      <td>2</td>\n",
       "      <td>2</td>\n",
       "      <td>Evening 2</td>\n",
       "    </tr>\n",
       "    <tr>\n",
       "      <th>481</th>\n",
       "      <td>464</td>\n",
       "      <td>2024-10-30</td>\n",
       "      <td>C</td>\n",
       "      <td>374</td>\n",
       "      <td>Night</td>\n",
       "      <td>3</td>\n",
       "      <td>1</td>\n",
       "      <td>Night 1</td>\n",
       "    </tr>\n",
       "    <tr>\n",
       "      <th>482</th>\n",
       "      <td>475</td>\n",
       "      <td>2024-10-30</td>\n",
       "      <td>C</td>\n",
       "      <td>523</td>\n",
       "      <td>Night</td>\n",
       "      <td>3</td>\n",
       "      <td>2</td>\n",
       "      <td>Night 2</td>\n",
       "    </tr>\n",
       "    <tr>\n",
       "      <th>494</th>\n",
       "      <td>488</td>\n",
       "      <td>2024-10-31</td>\n",
       "      <td>C</td>\n",
       "      <td>516</td>\n",
       "      <td>Morning</td>\n",
       "      <td>1</td>\n",
       "      <td>1</td>\n",
       "      <td>Morning 1</td>\n",
       "    </tr>\n",
       "    <tr>\n",
       "      <th>495</th>\n",
       "      <td>494</td>\n",
       "      <td>2024-10-31</td>\n",
       "      <td>C</td>\n",
       "      <td>330</td>\n",
       "      <td>Morning</td>\n",
       "      <td>1</td>\n",
       "      <td>2</td>\n",
       "      <td>Morning 2</td>\n",
       "    </tr>\n",
       "    <tr>\n",
       "      <th>496</th>\n",
       "      <td>497</td>\n",
       "      <td>2024-10-31</td>\n",
       "      <td>C</td>\n",
       "      <td>564</td>\n",
       "      <td>Evening</td>\n",
       "      <td>2</td>\n",
       "      <td>1</td>\n",
       "      <td>Evening 1</td>\n",
       "    </tr>\n",
       "    <tr>\n",
       "      <th>497</th>\n",
       "      <td>498</td>\n",
       "      <td>2024-10-31</td>\n",
       "      <td>C</td>\n",
       "      <td>471</td>\n",
       "      <td>Evening</td>\n",
       "      <td>2</td>\n",
       "      <td>2</td>\n",
       "      <td>Evening 2</td>\n",
       "    </tr>\n",
       "    <tr>\n",
       "      <th>498</th>\n",
       "      <td>492</td>\n",
       "      <td>2024-10-31</td>\n",
       "      <td>C</td>\n",
       "      <td>141</td>\n",
       "      <td>Night</td>\n",
       "      <td>3</td>\n",
       "      <td>1</td>\n",
       "      <td>Night 1</td>\n",
       "    </tr>\n",
       "    <tr>\n",
       "      <th>499</th>\n",
       "      <td>495</td>\n",
       "      <td>2024-10-31</td>\n",
       "      <td>C</td>\n",
       "      <td>574</td>\n",
       "      <td>Night</td>\n",
       "      <td>3</td>\n",
       "      <td>2</td>\n",
       "      <td>Night 2</td>\n",
       "    </tr>\n",
       "  </tbody>\n",
       "</table>\n",
       "</div>"
      ],
      "text/plain": [
       "     Unnamed: 0       Date Product  Units_Produced    Shift  Shift_Code  \\\n",
       "479         465 2024-10-30       C             320  Evening           2   \n",
       "480         474 2024-10-30       C             364  Evening           2   \n",
       "481         464 2024-10-30       C             374    Night           3   \n",
       "482         475 2024-10-30       C             523    Night           3   \n",
       "494         488 2024-10-31       C             516  Morning           1   \n",
       "495         494 2024-10-31       C             330  Morning           1   \n",
       "496         497 2024-10-31       C             564  Evening           2   \n",
       "497         498 2024-10-31       C             471  Evening           2   \n",
       "498         492 2024-10-31       C             141    Night           3   \n",
       "499         495 2024-10-31       C             574    Night           3   \n",
       "\n",
       "     Shift_Seq Shift_Label  \n",
       "479          1   Evening 1  \n",
       "480          2   Evening 2  \n",
       "481          1     Night 1  \n",
       "482          2     Night 2  \n",
       "494          1   Morning 1  \n",
       "495          2   Morning 2  \n",
       "496          1   Evening 1  \n",
       "497          2   Evening 2  \n",
       "498          1     Night 1  \n",
       "499          2     Night 2  "
      ]
     },
     "execution_count": 109,
     "metadata": {},
     "output_type": "execute_result"
    }
   ],
   "source": []
  },
  {
   "cell_type": "code",
   "execution_count": 135,
   "id": "a20617b0",
   "metadata": {},
   "outputs": [],
   "source": [
    "# If you want to plot, use this sorted df1_Q\n",
    "\n",
    "df1_Q = df1.copy()\n",
    "\n",
    "df1_Q['Date_Shift_Label'] = df1_Q['Date'].dt.strftime('%d-%b') + ' ' + df1_Q['Shift_Label'].astype(str)\n",
    "df1_Q['Date_Shift_Label'] = pd.Categorical(df1_Q['Date_Shift_Label'], categories=df1_Q['Date_Shift_Label'].unique(), ordered=True)\n"
   ]
  },
  {
   "cell_type": "code",
   "execution_count": 136,
   "id": "a6d6cefd",
   "metadata": {},
   "outputs": [
    {
     "data": {
      "text/html": [
       "<div>\n",
       "<style scoped>\n",
       "    .dataframe tbody tr th:only-of-type {\n",
       "        vertical-align: middle;\n",
       "    }\n",
       "\n",
       "    .dataframe tbody tr th {\n",
       "        vertical-align: top;\n",
       "    }\n",
       "\n",
       "    .dataframe thead th {\n",
       "        text-align: right;\n",
       "    }\n",
       "</style>\n",
       "<table border=\"1\" class=\"dataframe\">\n",
       "  <thead>\n",
       "    <tr style=\"text-align: right;\">\n",
       "      <th></th>\n",
       "      <th>Unnamed: 0</th>\n",
       "      <th>Date</th>\n",
       "      <th>Product</th>\n",
       "      <th>Units_Produced</th>\n",
       "      <th>Shift</th>\n",
       "      <th>Shift_Seq</th>\n",
       "      <th>Shift_Label</th>\n",
       "      <th>Shift_Code</th>\n",
       "      <th>Date_Shift_Label</th>\n",
       "    </tr>\n",
       "  </thead>\n",
       "  <tbody>\n",
       "    <tr>\n",
       "      <th>0</th>\n",
       "      <td>2</td>\n",
       "      <td>2024-10-01</td>\n",
       "      <td>A</td>\n",
       "      <td>274</td>\n",
       "      <td>Morning</td>\n",
       "      <td>1</td>\n",
       "      <td>Morning 1</td>\n",
       "      <td>1</td>\n",
       "      <td>01-Oct Morning 1</td>\n",
       "    </tr>\n",
       "    <tr>\n",
       "      <th>1</th>\n",
       "      <td>3</td>\n",
       "      <td>2024-10-01</td>\n",
       "      <td>A</td>\n",
       "      <td>369</td>\n",
       "      <td>Morning</td>\n",
       "      <td>2</td>\n",
       "      <td>Morning 2</td>\n",
       "      <td>1</td>\n",
       "      <td>01-Oct Morning 2</td>\n",
       "    </tr>\n",
       "    <tr>\n",
       "      <th>2</th>\n",
       "      <td>6</td>\n",
       "      <td>2024-10-01</td>\n",
       "      <td>A</td>\n",
       "      <td>209</td>\n",
       "      <td>Morning</td>\n",
       "      <td>3</td>\n",
       "      <td>Morning 3</td>\n",
       "      <td>1</td>\n",
       "      <td>01-Oct Morning 3</td>\n",
       "    </tr>\n",
       "    <tr>\n",
       "      <th>3</th>\n",
       "      <td>10</td>\n",
       "      <td>2024-10-01</td>\n",
       "      <td>A</td>\n",
       "      <td>356</td>\n",
       "      <td>Morning</td>\n",
       "      <td>4</td>\n",
       "      <td>Morning 4</td>\n",
       "      <td>1</td>\n",
       "      <td>01-Oct Morning 4</td>\n",
       "    </tr>\n",
       "    <tr>\n",
       "      <th>4</th>\n",
       "      <td>14</td>\n",
       "      <td>2024-10-01</td>\n",
       "      <td>A</td>\n",
       "      <td>598</td>\n",
       "      <td>Morning</td>\n",
       "      <td>5</td>\n",
       "      <td>Morning 5</td>\n",
       "      <td>1</td>\n",
       "      <td>01-Oct Morning 5</td>\n",
       "    </tr>\n",
       "    <tr>\n",
       "      <th>...</th>\n",
       "      <td>...</td>\n",
       "      <td>...</td>\n",
       "      <td>...</td>\n",
       "      <td>...</td>\n",
       "      <td>...</td>\n",
       "      <td>...</td>\n",
       "      <td>...</td>\n",
       "      <td>...</td>\n",
       "      <td>...</td>\n",
       "    </tr>\n",
       "    <tr>\n",
       "      <th>495</th>\n",
       "      <td>494</td>\n",
       "      <td>2024-10-31</td>\n",
       "      <td>C</td>\n",
       "      <td>330</td>\n",
       "      <td>Morning</td>\n",
       "      <td>2</td>\n",
       "      <td>Morning 2</td>\n",
       "      <td>1</td>\n",
       "      <td>31-Oct Morning 2</td>\n",
       "    </tr>\n",
       "    <tr>\n",
       "      <th>496</th>\n",
       "      <td>497</td>\n",
       "      <td>2024-10-31</td>\n",
       "      <td>C</td>\n",
       "      <td>564</td>\n",
       "      <td>Evening</td>\n",
       "      <td>1</td>\n",
       "      <td>Evening 1</td>\n",
       "      <td>2</td>\n",
       "      <td>31-Oct Evening 1</td>\n",
       "    </tr>\n",
       "    <tr>\n",
       "      <th>497</th>\n",
       "      <td>498</td>\n",
       "      <td>2024-10-31</td>\n",
       "      <td>C</td>\n",
       "      <td>471</td>\n",
       "      <td>Evening</td>\n",
       "      <td>2</td>\n",
       "      <td>Evening 2</td>\n",
       "      <td>2</td>\n",
       "      <td>31-Oct Evening 2</td>\n",
       "    </tr>\n",
       "    <tr>\n",
       "      <th>498</th>\n",
       "      <td>492</td>\n",
       "      <td>2024-10-31</td>\n",
       "      <td>C</td>\n",
       "      <td>141</td>\n",
       "      <td>Night</td>\n",
       "      <td>1</td>\n",
       "      <td>Night 1</td>\n",
       "      <td>3</td>\n",
       "      <td>31-Oct Night 1</td>\n",
       "    </tr>\n",
       "    <tr>\n",
       "      <th>499</th>\n",
       "      <td>495</td>\n",
       "      <td>2024-10-31</td>\n",
       "      <td>C</td>\n",
       "      <td>574</td>\n",
       "      <td>Night</td>\n",
       "      <td>2</td>\n",
       "      <td>Night 2</td>\n",
       "      <td>3</td>\n",
       "      <td>31-Oct Night 2</td>\n",
       "    </tr>\n",
       "  </tbody>\n",
       "</table>\n",
       "<p>500 rows × 9 columns</p>\n",
       "</div>"
      ],
      "text/plain": [
       "     Unnamed: 0       Date Product  Units_Produced    Shift  Shift_Seq  \\\n",
       "0             2 2024-10-01       A             274  Morning          1   \n",
       "1             3 2024-10-01       A             369  Morning          2   \n",
       "2             6 2024-10-01       A             209  Morning          3   \n",
       "3            10 2024-10-01       A             356  Morning          4   \n",
       "4            14 2024-10-01       A             598  Morning          5   \n",
       "..          ...        ...     ...             ...      ...        ...   \n",
       "495         494 2024-10-31       C             330  Morning          2   \n",
       "496         497 2024-10-31       C             564  Evening          1   \n",
       "497         498 2024-10-31       C             471  Evening          2   \n",
       "498         492 2024-10-31       C             141    Night          1   \n",
       "499         495 2024-10-31       C             574    Night          2   \n",
       "\n",
       "    Shift_Label  Shift_Code  Date_Shift_Label  \n",
       "0     Morning 1           1  01-Oct Morning 1  \n",
       "1     Morning 2           1  01-Oct Morning 2  \n",
       "2     Morning 3           1  01-Oct Morning 3  \n",
       "3     Morning 4           1  01-Oct Morning 4  \n",
       "4     Morning 5           1  01-Oct Morning 5  \n",
       "..          ...         ...               ...  \n",
       "495   Morning 2           1  31-Oct Morning 2  \n",
       "496   Evening 1           2  31-Oct Evening 1  \n",
       "497   Evening 2           2  31-Oct Evening 2  \n",
       "498     Night 1           3    31-Oct Night 1  \n",
       "499     Night 2           3    31-Oct Night 2  \n",
       "\n",
       "[500 rows x 9 columns]"
      ]
     },
     "execution_count": 136,
     "metadata": {},
     "output_type": "execute_result"
    }
   ],
   "source": [
    "df1_Q"
   ]
  },
  {
   "cell_type": "code",
   "execution_count": 139,
   "id": "4c15eef8",
   "metadata": {},
   "outputs": [
    {
     "data": {
      "application/vnd.plotly.v1+json": {
       "config": {
        "plotlyServerURL": "https://plot.ly"
       },
       "data": [
        {
         "hovertemplate": "Product=A<br>Date_Shift_Label=%{x}<br>Units_Produced=%{y}<extra></extra>",
         "legendgroup": "",
         "line": {
          "color": "#000001",
          "dash": "solid"
         },
         "marker": {
          "symbol": "circle"
         },
         "mode": "markers+lines",
         "name": "",
         "orientation": "v",
         "showlegend": false,
         "type": "scatter",
         "x": [
          "01-Oct Morning 1",
          "01-Oct Morning 2",
          "01-Oct Morning 3",
          "01-Oct Morning 4",
          "01-Oct Morning 5",
          "01-Oct Morning 6",
          "01-Oct Evening 1",
          "01-Oct Night 1",
          "01-Oct Night 2",
          "01-Oct Night 3",
          "01-Oct Night 4",
          "02-Oct Morning 1",
          "02-Oct Morning 2",
          "02-Oct Morning 3",
          "02-Oct Evening 1",
          "02-Oct Evening 2",
          "02-Oct Evening 3",
          "02-Oct Evening 4",
          "02-Oct Night 1",
          "02-Oct Night 2",
          "03-Oct Morning 1",
          "03-Oct Night 1",
          "03-Oct Night 2",
          "03-Oct Night 3",
          "04-Oct Morning 1",
          "04-Oct Morning 2",
          "04-Oct Evening 1",
          "04-Oct Night 1",
          "04-Oct Night 2",
          "05-Oct Morning 1",
          "05-Oct Morning 2",
          "05-Oct Evening 1",
          "05-Oct Evening 2",
          "05-Oct Evening 3",
          "05-Oct Night 1",
          "05-Oct Night 2",
          "05-Oct Night 3",
          "06-Oct Morning 1",
          "06-Oct Morning 2",
          "06-Oct Evening 1",
          "06-Oct Night 1",
          "07-Oct Morning 1",
          "07-Oct Night 1",
          "07-Oct Night 2",
          "07-Oct Night 3",
          "08-Oct Morning 1",
          "08-Oct Morning 2",
          "08-Oct Morning 3",
          "08-Oct Evening 1",
          "08-Oct Evening 2",
          "08-Oct Night 1",
          "08-Oct Night 2",
          "09-Oct Morning 1",
          "09-Oct Morning 2",
          "09-Oct Evening 1",
          "09-Oct Evening 2",
          "09-Oct Evening 3",
          "10-Oct Evening 1",
          "10-Oct Evening 2",
          "10-Oct Night 1",
          "10-Oct Night 2",
          "11-Oct Morning 1",
          "11-Oct Evening 1",
          "11-Oct Night 1",
          "11-Oct Night 2",
          "12-Oct Morning 1",
          "12-Oct Evening 1",
          "13-Oct Morning 1",
          "13-Oct Morning 2",
          "13-Oct Evening 1",
          "13-Oct Evening 2",
          "13-Oct Night 1",
          "14-Oct Morning 1",
          "14-Oct Evening 1",
          "14-Oct Evening 2",
          "14-Oct Night 1",
          "15-Oct Evening 1",
          "15-Oct Night 1",
          "15-Oct Night 2",
          "15-Oct Night 3",
          "16-Oct Morning 1",
          "16-Oct Morning 2",
          "16-Oct Morning 3",
          "16-Oct Morning 4",
          "16-Oct Morning 5",
          "16-Oct Morning 6",
          "16-Oct Evening 1",
          "16-Oct Evening 2",
          "16-Oct Evening 3",
          "16-Oct Night 1",
          "16-Oct Night 2",
          "16-Oct Night 3",
          "16-Oct Night 4",
          "17-Oct Morning 1",
          "17-Oct Morning 2",
          "17-Oct Evening 1",
          "17-Oct Evening 2",
          "17-Oct Evening 3",
          "18-Oct Morning 1",
          "18-Oct Evening 1",
          "18-Oct Evening 2",
          "18-Oct Night 1",
          "19-Oct Morning 1",
          "19-Oct Evening 1",
          "19-Oct Night 1",
          "19-Oct Night 2",
          "19-Oct Night 3",
          "20-Oct Morning 1",
          "20-Oct Morning 2",
          "20-Oct Morning 3",
          "20-Oct Evening 1",
          "20-Oct Night 1",
          "21-Oct Morning 1",
          "21-Oct Morning 2",
          "21-Oct Morning 3",
          "21-Oct Evening 1",
          "21-Oct Evening 2",
          "21-Oct Night 1",
          "21-Oct Night 2",
          "22-Oct Morning 1",
          "22-Oct Morning 2",
          "22-Oct Morning 3",
          "22-Oct Morning 4",
          "22-Oct Night 1",
          "22-Oct Night 2",
          "22-Oct Night 3",
          "22-Oct Night 4",
          "22-Oct Night 5",
          "22-Oct Night 6",
          "23-Oct Morning 1",
          "23-Oct Morning 2",
          "23-Oct Evening 1",
          "23-Oct Evening 2",
          "23-Oct Evening 3",
          "23-Oct Evening 4",
          "24-Oct Morning 1",
          "24-Oct Morning 2",
          "24-Oct Morning 3",
          "24-Oct Evening 1",
          "24-Oct Night 1",
          "25-Oct Morning 1",
          "25-Oct Morning 2",
          "25-Oct Morning 3",
          "25-Oct Evening 1",
          "25-Oct Evening 2",
          "25-Oct Night 1",
          "25-Oct Night 2",
          "26-Oct Morning 1",
          "26-Oct Morning 2",
          "26-Oct Morning 3",
          "26-Oct Morning 4",
          "26-Oct Evening 1",
          "26-Oct Evening 2",
          "26-Oct Evening 3",
          "26-Oct Night 1",
          "26-Oct Night 2",
          "26-Oct Night 3",
          "27-Oct Morning 1",
          "27-Oct Evening 1",
          "27-Oct Evening 2",
          "27-Oct Night 1",
          "28-Oct Morning 1",
          "28-Oct Morning 2",
          "28-Oct Morning 3",
          "28-Oct Morning 4",
          "28-Oct Evening 1",
          "28-Oct Evening 2",
          "28-Oct Night 1",
          "28-Oct Night 2",
          "29-Oct Morning 1",
          "29-Oct Night 1",
          "29-Oct Night 2",
          "29-Oct Night 3",
          "30-Oct Morning 1",
          "30-Oct Morning 2",
          "30-Oct Morning 3",
          "30-Oct Morning 4",
          "30-Oct Evening 1",
          "30-Oct Evening 2",
          "30-Oct Night 1",
          "30-Oct Night 2",
          "30-Oct Night 3",
          "30-Oct Night 4",
          "31-Oct Morning 1",
          "31-Oct Morning 2",
          "31-Oct Morning 3",
          "31-Oct Morning 4",
          "31-Oct Morning 5",
          "31-Oct Night 1",
          "31-Oct Night 2"
         ],
         "xaxis": "x3",
         "y": [
          274,
          369,
          209,
          356,
          598,
          402,
          51,
          436,
          476,
          140,
          118,
          312,
          21,
          285,
          113,
          289,
          485,
          113,
          379,
          109,
          420,
          503,
          513,
          459,
          361,
          558,
          344,
          261,
          89,
          474,
          23,
          508,
          22,
          292,
          159,
          320,
          550,
          231,
          55,
          518,
          476,
          350,
          229,
          244,
          253,
          167,
          88,
          182,
          40,
          441,
          223,
          334,
          134,
          210,
          243,
          595,
          242,
          297,
          500,
          455,
          117,
          475,
          388,
          322,
          380,
          579,
          477,
          63,
          128,
          202,
          148,
          229,
          283,
          252,
          1,
          327,
          318,
          431,
          458,
          53,
          467,
          593,
          326,
          15,
          470,
          13,
          15,
          561,
          574,
          287,
          526,
          347,
          34,
          365,
          472,
          28,
          47,
          236,
          118,
          291,
          161,
          419,
          157,
          29,
          350,
          144,
          41,
          321,
          222,
          78,
          588,
          407,
          69,
          218,
          462,
          401,
          532,
          422,
          254,
          78,
          113,
          405,
          500,
          175,
          111,
          280,
          398,
          296,
          359,
          435,
          126,
          378,
          86,
          504,
          554,
          96,
          244,
          394,
          78,
          95,
          424,
          171,
          229,
          410,
          84,
          4,
          158,
          98,
          180,
          19,
          406,
          256,
          194,
          582,
          168,
          243,
          346,
          425,
          28,
          391,
          411,
          377,
          228,
          7,
          231,
          411,
          87,
          225,
          356,
          270,
          179,
          259,
          320,
          51,
          130,
          225,
          153,
          441,
          588,
          363,
          1,
          289,
          165,
          111,
          113,
          436,
          477,
          407,
          237,
          227
         ],
         "yaxis": "y3"
        },
        {
         "hovertemplate": "Product=B<br>Date_Shift_Label=%{x}<br>Units_Produced=%{y}<extra></extra>",
         "legendgroup": "",
         "line": {
          "color": "#000001",
          "dash": "solid"
         },
         "marker": {
          "symbol": "circle"
         },
         "mode": "markers+lines",
         "name": "",
         "orientation": "v",
         "showlegend": false,
         "type": "scatter",
         "x": [
          "01-Oct Morning 1",
          "01-Oct Morning 2",
          "01-Oct Morning 3",
          "01-Oct Morning 4",
          "01-Oct Morning 5",
          "01-Oct Night 1",
          "01-Oct Night 2",
          "01-Oct Night 3",
          "02-Oct Morning 1",
          "02-Oct Evening 1",
          "02-Oct Night 1",
          "02-Oct Night 2",
          "03-Oct Morning 1",
          "03-Oct Evening 1",
          "03-Oct Evening 2",
          "03-Oct Evening 3",
          "03-Oct Night 1",
          "03-Oct Night 2",
          "03-Oct Night 3",
          "04-Oct Morning 1",
          "04-Oct Morning 2",
          "04-Oct Evening 1",
          "04-Oct Night 1",
          "04-Oct Night 2",
          "05-Oct Morning 1",
          "05-Oct Morning 2",
          "05-Oct Evening 1",
          "05-Oct Evening 2",
          "05-Oct Night 1",
          "05-Oct Night 2",
          "05-Oct Night 3",
          "06-Oct Morning 1",
          "06-Oct Evening 1",
          "06-Oct Evening 2",
          "06-Oct Night 1",
          "07-Oct Morning 1",
          "07-Oct Morning 2",
          "07-Oct Evening 1",
          "07-Oct Evening 2",
          "07-Oct Evening 3",
          "08-Oct Morning 1",
          "08-Oct Morning 2",
          "08-Oct Evening 1",
          "08-Oct Evening 2",
          "08-Oct Night 1",
          "09-Oct Morning 1",
          "09-Oct Evening 1",
          "10-Oct Morning 1",
          "10-Oct Morning 2",
          "10-Oct Evening 1",
          "10-Oct Evening 2",
          "11-Oct Evening 1",
          "11-Oct Evening 2",
          "11-Oct Night 1",
          "12-Oct Evening 1",
          "12-Oct Evening 2",
          "12-Oct Night 1",
          "12-Oct Night 2",
          "12-Oct Night 3",
          "13-Oct Evening 1",
          "14-Oct Morning 1",
          "14-Oct Morning 2",
          "14-Oct Morning 3",
          "14-Oct Night 1",
          "15-Oct Morning 1",
          "15-Oct Evening 1",
          "15-Oct Evening 2",
          "16-Oct Morning 1",
          "16-Oct Morning 2",
          "16-Oct Morning 3",
          "16-Oct Morning 4",
          "16-Oct Evening 1",
          "16-Oct Night 1",
          "17-Oct Morning 1",
          "17-Oct Evening 1",
          "17-Oct Night 1",
          "17-Oct Night 2",
          "17-Oct Night 3",
          "18-Oct Morning 1",
          "18-Oct Morning 2",
          "18-Oct Night 1",
          "19-Oct Morning 1",
          "19-Oct Morning 2",
          "19-Oct Morning 3",
          "19-Oct Evening 1",
          "19-Oct Night 1",
          "19-Oct Night 2",
          "19-Oct Night 3",
          "19-Oct Night 4",
          "20-Oct Morning 1",
          "20-Oct Morning 2",
          "20-Oct Evening 1",
          "20-Oct Evening 2",
          "20-Oct Evening 3",
          "20-Oct Evening 4",
          "20-Oct Night 1",
          "20-Oct Night 2",
          "21-Oct Evening 1",
          "21-Oct Evening 2",
          "21-Oct Evening 3",
          "21-Oct Night 1",
          "21-Oct Night 2",
          "22-Oct Morning 1",
          "22-Oct Morning 2",
          "22-Oct Morning 3",
          "22-Oct Night 1",
          "22-Oct Night 2",
          "22-Oct Night 3",
          "23-Oct Morning 1",
          "23-Oct Evening 1",
          "23-Oct Night 1",
          "23-Oct Night 2",
          "23-Oct Night 3",
          "23-Oct Night 4",
          "24-Oct Morning 1",
          "24-Oct Evening 1",
          "24-Oct Evening 2",
          "24-Oct Evening 3",
          "24-Oct Night 1",
          "25-Oct Morning 1",
          "25-Oct Morning 2",
          "25-Oct Evening 1",
          "26-Oct Morning 1",
          "26-Oct Morning 2",
          "26-Oct Evening 1",
          "26-Oct Evening 2",
          "26-Oct Evening 3",
          "26-Oct Night 1",
          "26-Oct Night 2",
          "26-Oct Night 3",
          "27-Oct Morning 1",
          "27-Oct Evening 1",
          "27-Oct Night 1",
          "28-Oct Morning 1",
          "28-Oct Morning 2",
          "28-Oct Evening 1",
          "28-Oct Evening 2",
          "28-Oct Evening 3",
          "28-Oct Night 1",
          "28-Oct Night 2",
          "29-Oct Morning 1",
          "29-Oct Night 1",
          "29-Oct Night 2",
          "29-Oct Night 3",
          "29-Oct Night 4",
          "30-Oct Morning 1",
          "30-Oct Evening 1",
          "30-Oct Evening 2",
          "30-Oct Evening 3",
          "30-Oct Night 1",
          "30-Oct Night 2",
          "30-Oct Night 3",
          "31-Oct Morning 1",
          "31-Oct Morning 2",
          "31-Oct Evening 1",
          "31-Oct Evening 2"
         ],
         "xaxis": "x2",
         "y": [
          6,
          69,
          261,
          39,
          271,
          543,
          53,
          576,
          575,
          506,
          305,
          122,
          100,
          210,
          349,
          410,
          56,
          418,
          392,
          296,
          512,
          386,
          474,
          376,
          561,
          285,
          55,
          443,
          289,
          281,
          11,
          239,
          11,
          146,
          190,
          131,
          476,
          225,
          529,
          552,
          75,
          137,
          145,
          388,
          59,
          10,
          346,
          35,
          149,
          310,
          182,
          318,
          390,
          537,
          313,
          396,
          39,
          8,
          402,
          270,
          296,
          42,
          165,
          378,
          517,
          264,
          217,
          23,
          455,
          491,
          65,
          173,
          296,
          212,
          537,
          469,
          114,
          139,
          379,
          548,
          462,
          215,
          157,
          172,
          182,
          277,
          15,
          179,
          201,
          342,
          233,
          315,
          581,
          99,
          579,
          324,
          599,
          514,
          106,
          391,
          115,
          5,
          3,
          309,
          554,
          162,
          393,
          550,
          575,
          381,
          511,
          448,
          371,
          137,
          567,
          550,
          346,
          485,
          145,
          572,
          36,
          177,
          548,
          29,
          578,
          82,
          244,
          147,
          268,
          502,
          525,
          331,
          139,
          156,
          460,
          554,
          225,
          522,
          349,
          85,
          521,
          201,
          456,
          127,
          302,
          95,
          8,
          590,
          196,
          547,
          192,
          234,
          25,
          18,
          497,
          133
         ],
         "yaxis": "y2"
        },
        {
         "hovertemplate": "Product=C<br>Date_Shift_Label=%{x}<br>Units_Produced=%{y}<extra></extra>",
         "legendgroup": "",
         "line": {
          "color": "#000001",
          "dash": "solid"
         },
         "marker": {
          "symbol": "circle"
         },
         "mode": "markers+lines",
         "name": "",
         "orientation": "v",
         "showlegend": false,
         "type": "scatter",
         "x": [
          "01-Oct Evening 1",
          "01-Oct Night 1",
          "01-Oct Night 2",
          "01-Oct Night 3",
          "01-Oct Night 4",
          "01-Oct Night 5",
          "02-Oct Morning 1",
          "02-Oct Morning 2",
          "02-Oct Night 1",
          "02-Oct Night 2",
          "03-Oct Morning 1",
          "03-Oct Morning 2",
          "03-Oct Morning 3",
          "03-Oct Evening 1",
          "03-Oct Evening 2",
          "03-Oct Evening 3",
          "03-Oct Night 1",
          "03-Oct Night 2",
          "03-Oct Night 3",
          "03-Oct Night 4",
          "04-Oct Morning 1",
          "04-Oct Morning 2",
          "04-Oct Evening 1",
          "04-Oct Evening 2",
          "05-Oct Morning 1",
          "05-Oct Evening 1",
          "05-Oct Night 1",
          "05-Oct Night 2",
          "05-Oct Night 3",
          "06-Oct Morning 1",
          "06-Oct Evening 1",
          "06-Oct Evening 2",
          "06-Oct Evening 3",
          "06-Oct Evening 4",
          "07-Oct Morning 1",
          "07-Oct Morning 2",
          "07-Oct Evening 1",
          "07-Oct Evening 2",
          "08-Oct Morning 1",
          "08-Oct Morning 2",
          "08-Oct Evening 1",
          "09-Oct Morning 1",
          "09-Oct Morning 2",
          "09-Oct Morning 3",
          "09-Oct Night 1",
          "10-Oct Evening 1",
          "10-Oct Evening 2",
          "10-Oct Night 1",
          "11-Oct Evening 1",
          "11-Oct Night 1",
          "12-Oct Morning 1",
          "12-Oct Morning 2",
          "12-Oct Evening 1",
          "12-Oct Evening 2",
          "12-Oct Evening 3",
          "12-Oct Evening 4",
          "12-Oct Night 1",
          "13-Oct Morning 1",
          "13-Oct Evening 1",
          "13-Oct Night 1",
          "13-Oct Night 2",
          "14-Oct Morning 1",
          "14-Oct Morning 2",
          "14-Oct Morning 3",
          "14-Oct Morning 4",
          "14-Oct Night 1",
          "15-Oct Morning 1",
          "15-Oct Evening 1",
          "15-Oct Night 1",
          "16-Oct Morning 1",
          "16-Oct Morning 2",
          "16-Oct Morning 3",
          "16-Oct Morning 4",
          "16-Oct Evening 1",
          "16-Oct Evening 2",
          "16-Oct Night 1",
          "17-Oct Morning 1",
          "17-Oct Morning 2",
          "17-Oct Morning 3",
          "17-Oct Morning 4",
          "17-Oct Evening 1",
          "17-Oct Evening 2",
          "17-Oct Night 1",
          "17-Oct Night 2",
          "18-Oct Morning 1",
          "18-Oct Morning 2",
          "18-Oct Morning 3",
          "18-Oct Evening 1",
          "19-Oct Evening 1",
          "19-Oct Evening 2",
          "19-Oct Night 1",
          "20-Oct Evening 1",
          "20-Oct Evening 2",
          "20-Oct Evening 3",
          "20-Oct Evening 4",
          "20-Oct Evening 5",
          "20-Oct Night 1",
          "21-Oct Morning 1",
          "21-Oct Evening 1",
          "22-Oct Morning 1",
          "22-Oct Morning 2",
          "22-Oct Evening 1",
          "22-Oct Night 1",
          "22-Oct Night 2",
          "23-Oct Morning 1",
          "23-Oct Morning 2",
          "23-Oct Evening 1",
          "23-Oct Night 1",
          "23-Oct Night 2",
          "23-Oct Night 3",
          "23-Oct Night 4",
          "24-Oct Morning 1",
          "24-Oct Evening 1",
          "24-Oct Evening 2",
          "24-Oct Evening 3",
          "24-Oct Evening 4",
          "24-Oct Night 1",
          "25-Oct Morning 1",
          "25-Oct Night 1",
          "25-Oct Night 2",
          "25-Oct Night 3",
          "26-Oct Morning 1",
          "26-Oct Evening 1",
          "26-Oct Evening 2",
          "26-Oct Evening 3",
          "26-Oct Evening 4",
          "26-Oct Night 1",
          "27-Oct Morning 1",
          "27-Oct Morning 2",
          "27-Oct Morning 3",
          "27-Oct Evening 1",
          "27-Oct Night 1",
          "28-Oct Morning 1",
          "28-Oct Evening 1",
          "28-Oct Evening 2",
          "28-Oct Night 1",
          "28-Oct Night 2",
          "28-Oct Night 3",
          "29-Oct Morning 1",
          "29-Oct Morning 2",
          "29-Oct Evening 1",
          "29-Oct Night 1",
          "29-Oct Night 2",
          "29-Oct Night 3",
          "30-Oct Evening 1",
          "30-Oct Evening 2",
          "30-Oct Night 1",
          "30-Oct Night 2",
          "31-Oct Morning 1",
          "31-Oct Morning 2",
          "31-Oct Evening 1",
          "31-Oct Evening 2",
          "31-Oct Night 1",
          "31-Oct Night 2"
         ],
         "xaxis": "x",
         "y": [
          295,
          386,
          476,
          506,
          419,
          72,
          303,
          526,
          202,
          215,
          29,
          157,
          596,
          261,
          503,
          501,
          443,
          254,
          235,
          309,
          54,
          161,
          437,
          148,
          109,
          342,
          41,
          67,
          59,
          459,
          231,
          478,
          563,
          580,
          49,
          21,
          26,
          328,
          178,
          316,
          63,
          340,
          119,
          259,
          42,
          81,
          264,
          194,
          106,
          228,
          141,
          257,
          90,
          27,
          556,
          494,
          130,
          420,
          120,
          548,
          271,
          15,
          526,
          338,
          396,
          360,
          41,
          500,
          34,
          198,
          282,
          521,
          559,
          442,
          168,
          288,
          216,
          17,
          532,
          104,
          526,
          324,
          363,
          593,
          5,
          491,
          490,
          371,
          151,
          33,
          55,
          137,
          446,
          187,
          575,
          547,
          118,
          28,
          503,
          75,
          286,
          329,
          15,
          418,
          96,
          386,
          278,
          363,
          241,
          25,
          429,
          285,
          7,
          143,
          319,
          312,
          231,
          160,
          75,
          296,
          146,
          469,
          4,
          557,
          226,
          273,
          300,
          313,
          289,
          386,
          348,
          97,
          377,
          550,
          468,
          32,
          452,
          435,
          128,
          132,
          292,
          216,
          318,
          371,
          320,
          364,
          374,
          523,
          516,
          330,
          564,
          471,
          141,
          574
         ],
         "yaxis": "y"
        }
       ],
       "layout": {
        "annotations": [
         {
          "font": {},
          "showarrow": false,
          "text": "Product=C",
          "x": 0.5,
          "xanchor": "center",
          "xref": "paper",
          "y": 0.2866666666666666,
          "yanchor": "bottom",
          "yref": "paper"
         },
         {
          "font": {},
          "showarrow": false,
          "text": "Product=B",
          "x": 0.5,
          "xanchor": "center",
          "xref": "paper",
          "y": 0.6433333333333333,
          "yanchor": "bottom",
          "yref": "paper"
         },
         {
          "font": {},
          "showarrow": false,
          "text": "Product=A",
          "x": 0.5,
          "xanchor": "center",
          "xref": "paper",
          "y": 0.9999999999999999,
          "yanchor": "bottom",
          "yref": "paper"
         }
        ],
        "height": 600,
        "legend": {
         "tracegroupgap": 0
        },
        "template": {
         "data": {
          "candlestick": [
           {
            "decreasing": {
             "line": {
              "color": "#000033"
             }
            },
            "increasing": {
             "line": {
              "color": "#000032"
             }
            },
            "type": "candlestick"
           }
          ],
          "contour": [
           {
            "colorscale": [
             [
              0,
              "#000011"
             ],
             [
              0.1111111111111111,
              "#000012"
             ],
             [
              0.2222222222222222,
              "#000013"
             ],
             [
              0.3333333333333333,
              "#000014"
             ],
             [
              0.4444444444444444,
              "#000015"
             ],
             [
              0.5555555555555556,
              "#000016"
             ],
             [
              0.6666666666666666,
              "#000017"
             ],
             [
              0.7777777777777778,
              "#000018"
             ],
             [
              0.8888888888888888,
              "#000019"
             ],
             [
              1,
              "#000020"
             ]
            ],
            "type": "contour"
           }
          ],
          "contourcarpet": [
           {
            "colorscale": [
             [
              0,
              "#000011"
             ],
             [
              0.1111111111111111,
              "#000012"
             ],
             [
              0.2222222222222222,
              "#000013"
             ],
             [
              0.3333333333333333,
              "#000014"
             ],
             [
              0.4444444444444444,
              "#000015"
             ],
             [
              0.5555555555555556,
              "#000016"
             ],
             [
              0.6666666666666666,
              "#000017"
             ],
             [
              0.7777777777777778,
              "#000018"
             ],
             [
              0.8888888888888888,
              "#000019"
             ],
             [
              1,
              "#000020"
             ]
            ],
            "type": "contourcarpet"
           }
          ],
          "heatmap": [
           {
            "colorscale": [
             [
              0,
              "#000011"
             ],
             [
              0.1111111111111111,
              "#000012"
             ],
             [
              0.2222222222222222,
              "#000013"
             ],
             [
              0.3333333333333333,
              "#000014"
             ],
             [
              0.4444444444444444,
              "#000015"
             ],
             [
              0.5555555555555556,
              "#000016"
             ],
             [
              0.6666666666666666,
              "#000017"
             ],
             [
              0.7777777777777778,
              "#000018"
             ],
             [
              0.8888888888888888,
              "#000019"
             ],
             [
              1,
              "#000020"
             ]
            ],
            "type": "heatmap"
           }
          ],
          "histogram2d": [
           {
            "colorscale": [
             [
              0,
              "#000011"
             ],
             [
              0.1111111111111111,
              "#000012"
             ],
             [
              0.2222222222222222,
              "#000013"
             ],
             [
              0.3333333333333333,
              "#000014"
             ],
             [
              0.4444444444444444,
              "#000015"
             ],
             [
              0.5555555555555556,
              "#000016"
             ],
             [
              0.6666666666666666,
              "#000017"
             ],
             [
              0.7777777777777778,
              "#000018"
             ],
             [
              0.8888888888888888,
              "#000019"
             ],
             [
              1,
              "#000020"
             ]
            ],
            "type": "histogram2d"
           }
          ],
          "icicle": [
           {
            "textfont": {
             "color": "white"
            },
            "type": "icicle"
           }
          ],
          "sankey": [
           {
            "textfont": {
             "color": "#000036"
            },
            "type": "sankey"
           }
          ],
          "scatter": [
           {
            "marker": {
             "line": {
              "width": 0
             }
            },
            "type": "scatter"
           }
          ],
          "table": [
           {
            "cells": {
             "fill": {
              "color": "#000038"
             },
             "font": {
              "color": "#000037"
             },
             "line": {
              "color": "#000039"
             }
            },
            "header": {
             "fill": {
              "color": "#000040"
             },
             "font": {
              "color": "#000036"
             },
             "line": {
              "color": "#000039"
             }
            },
            "type": "table"
           }
          ],
          "waterfall": [
           {
            "connector": {
             "line": {
              "color": "#000036",
              "width": 2
             }
            },
            "decreasing": {
             "marker": {
              "color": "#000033"
             }
            },
            "increasing": {
             "marker": {
              "color": "#000032"
             }
            },
            "totals": {
             "marker": {
              "color": "#000034"
             }
            },
            "type": "waterfall"
           }
          ]
         },
         "layout": {
          "coloraxis": {
           "colorscale": [
            [
             0,
             "#000011"
            ],
            [
             0.1111111111111111,
             "#000012"
            ],
            [
             0.2222222222222222,
             "#000013"
            ],
            [
             0.3333333333333333,
             "#000014"
            ],
            [
             0.4444444444444444,
             "#000015"
            ],
            [
             0.5555555555555556,
             "#000016"
            ],
            [
             0.6666666666666666,
             "#000017"
            ],
            [
             0.7777777777777778,
             "#000018"
            ],
            [
             0.8888888888888888,
             "#000019"
            ],
            [
             1,
             "#000020"
            ]
           ]
          },
          "colorscale": {
           "diverging": [
            [
             0,
             "#000021"
            ],
            [
             0.1,
             "#000022"
            ],
            [
             0.2,
             "#000023"
            ],
            [
             0.3,
             "#000024"
            ],
            [
             0.4,
             "#000025"
            ],
            [
             0.5,
             "#000026"
            ],
            [
             0.6,
             "#000027"
            ],
            [
             0.7,
             "#000028"
            ],
            [
             0.8,
             "#000029"
            ],
            [
             0.9,
             "#000030"
            ],
            [
             1,
             "#000031"
            ]
           ],
           "sequential": [
            [
             0,
             "#000011"
            ],
            [
             0.1111111111111111,
             "#000012"
            ],
            [
             0.2222222222222222,
             "#000013"
            ],
            [
             0.3333333333333333,
             "#000014"
            ],
            [
             0.4444444444444444,
             "#000015"
            ],
            [
             0.5555555555555556,
             "#000016"
            ],
            [
             0.6666666666666666,
             "#000017"
            ],
            [
             0.7777777777777778,
             "#000018"
            ],
            [
             0.8888888888888888,
             "#000019"
            ],
            [
             1,
             "#000020"
            ]
           ],
           "sequentialminus": [
            [
             0,
             "#000011"
            ],
            [
             0.1111111111111111,
             "#000012"
            ],
            [
             0.2222222222222222,
             "#000013"
            ],
            [
             0.3333333333333333,
             "#000014"
            ],
            [
             0.4444444444444444,
             "#000015"
            ],
            [
             0.5555555555555556,
             "#000016"
            ],
            [
             0.6666666666666666,
             "#000017"
            ],
            [
             0.7777777777777778,
             "#000018"
            ],
            [
             0.8888888888888888,
             "#000019"
            ],
            [
             1,
             "#000020"
            ]
           ]
          },
          "colorway": [
           "#000001",
           "#000002",
           "#000003",
           "#000004",
           "#000005",
           "#000006",
           "#000007",
           "#000008",
           "#000009",
           "#000010"
          ]
         }
        },
        "title": {
         "text": "Line Plot by Shift Sequence for Each Product"
        },
        "width": 1000,
        "xaxis": {
         "anchor": "y",
         "domain": [
          0,
          1
         ],
         "showticklabels": false,
         "title": {
          "text": "Date_Shift_Label"
         },
         "visible": false
        },
        "xaxis2": {
         "anchor": "y2",
         "domain": [
          0,
          1
         ],
         "matches": "x",
         "showticklabels": false,
         "visible": false
        },
        "xaxis3": {
         "anchor": "y3",
         "domain": [
          0,
          1
         ],
         "matches": "x",
         "showticklabels": false,
         "visible": false
        },
        "yaxis": {
         "anchor": "x",
         "domain": [
          0,
          0.2866666666666666
         ],
         "title": {
          "text": "Units_Produced"
         }
        },
        "yaxis2": {
         "anchor": "x2",
         "domain": [
          0.35666666666666663,
          0.6433333333333333
         ],
         "matches": "y",
         "title": {
          "text": "Units_Produced"
         }
        },
        "yaxis3": {
         "anchor": "x3",
         "domain": [
          0.7133333333333333,
          0.9999999999999999
         ],
         "matches": "y",
         "title": {
          "text": "Units_Produced"
         }
        }
       }
      }
     },
     "metadata": {},
     "output_type": "display_data"
    }
   ],
   "source": [
    "fig = px.line(\n",
    "    df1_Q,\n",
    "    x=\"Date_Shift_Label\",\n",
    "    y=\"Units_Produced\",\n",
    "    facet_col=\"Product\",\n",
    "    facet_col_wrap=1,\n",
    "    markers=True,\n",
    "    title=\"Line Plot by Shift Sequence for Each Product\"\n",
    ")\n",
    "fig.update_xaxes(showticklabels=False, visible=False)\n",
    "fig.update_layout(height=600, width=1000)\n",
    "fig.show()"
   ]
  },
  {
   "cell_type": "code",
   "execution_count": null,
   "id": "a9ace982",
   "metadata": {},
   "outputs": [],
   "source": []
  },
  {
   "cell_type": "code",
   "execution_count": null,
   "id": "c6260b1e",
   "metadata": {},
   "outputs": [],
   "source": []
  },
  {
   "cell_type": "code",
   "execution_count": null,
   "id": "c535ae24",
   "metadata": {},
   "outputs": [],
   "source": []
  },
  {
   "cell_type": "code",
   "execution_count": null,
   "id": "807ab94e",
   "metadata": {},
   "outputs": [],
   "source": []
  }
 ],
 "metadata": {
  "kernelspec": {
   "display_name": "base",
   "language": "python",
   "name": "python3"
  },
  "language_info": {
   "codemirror_mode": {
    "name": "ipython",
    "version": 3
   },
   "file_extension": ".py",
   "mimetype": "text/x-python",
   "name": "python",
   "nbconvert_exporter": "python",
   "pygments_lexer": "ipython3",
   "version": "3.10.9"
  }
 },
 "nbformat": 4,
 "nbformat_minor": 5
}
